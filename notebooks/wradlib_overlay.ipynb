{
 "cells": [
  {
   "cell_type": "markdown",
   "metadata": {
    "nbsphinx": "hidden"
   },
   "source": [
    "This notebook is part of the wradlib documentation: http://wradlib.org/wradlib-docs.\n",
    "\n",
    "Copyright (c) 2016, wradlib developers.\n",
    "Distributed under the MIT License. See LICENSE.txt for more info."
   ]
  },
  {
   "cell_type": "markdown",
   "metadata": {},
   "source": [
    "# Plot Additional Data "
   ]
  },
  {
   "cell_type": "markdown",
   "metadata": {},
   "source": [
    "In many cases you will not just plot the raw radar data, but also additional data like **DEM** raster data or data from Shapefiles like borders or rivers. Thsi can be achieved by aligning the plotted data in layers. **DEM** data is usually represented as an `underlay` and border and rivers as `overlay`.\n",
    "\n",
    "In this example we create a map without radar data to concentrate on the other layers."
   ]
  },
  {
   "cell_type": "code",
   "execution_count": null,
   "metadata": {
    "collapsed": true
   },
   "outputs": [],
   "source": [
    "import wradlib as wrl\n",
    "import matplotlib.pyplot as pl\n",
    "import matplotlib as mpl\n",
    "import warnings\n",
    "warnings.filterwarnings('ignore')\n",
    "try:\n",
    "    get_ipython().magic(\"matplotlib inline\")\n",
    "except:\n",
    "    pl.ion()\n",
    "import numpy as np"
   ]
  },
  {
   "cell_type": "markdown",
   "metadata": {},
   "source": [
    "## Plotting DEM"
   ]
  },
  {
   "cell_type": "markdown",
   "metadata": {},
   "source": [
    "We use this special prepared geotiff, which was created from [**SRTM**](http://www2.jpl.nasa.gov/srtm) data via `gdal`\n",
    "\n",
    "```bash\n",
    "gdalwarp -te 88. 20. 93. 27. srtm_54_07.tif srtm_55_07.tif srtm_54_08.tif srtm_55_08.tif bangladesh.tif\n",
    "```\n",
    "\n",
    "We facilitate the [wradlib.io.read_raster_data()](generated/wradlib.io.read_raster_data.rst) function and resample the data to a (lon/lat) `spacing=0.005`."
   ]
  },
  {
   "cell_type": "code",
   "execution_count": null,
   "metadata": {
    "collapsed": false
   },
   "outputs": [],
   "source": [
    "import matplotlib.ticker as ticker\n",
    "from matplotlib.colors import LogNorm\n",
    "from mpl_toolkits.axes_grid1 import make_axes_locatable\n",
    "\n",
    "def plot_dem(ax):\n",
    "    filename = wrl.util.get_wradlib_data_file('geo/bangladesh.tif')\n",
    "    # pixel_spacing is in output units (lonlat)\n",
    "    rastercoords, rastervalues = wrl.io.read_raster_data(filename,\n",
    "                                                         spacing=0.005)\n",
    "    # specify kwargs for plotting, using terrain colormap and LogNorm\n",
    "    dem = ax.pcolormesh(rastercoords[..., 0], rastercoords[..., 1],\n",
    "                        rastervalues, cmap=mpl.cm.terrain, norm=LogNorm(),\n",
    "                        vmin=1, vmax=3000)\n",
    "    # make some space on the right for colorbar axis\n",
    "    div1 = make_axes_locatable(ax)\n",
    "    cax1 = div1.append_axes(\"right\", size=\"5%\", pad=0.1)\n",
    "    # add colorbar and title\n",
    "    # we use LogLocator for colorbar\n",
    "    cb = pl.gcf().colorbar(dem, cax=cax1, ticks=ticker.LogLocator(subs=range(10)))\n",
    "    cb.set_label('terrain height [m]')\n",
    "\n",
    "fig = pl.figure(figsize=(10,10))\n",
    "ax = fig.add_subplot(111, aspect='equal')\n",
    "plot_dem(ax)"
   ]
  },
  {
   "cell_type": "markdown",
   "metadata": {},
   "source": [
    "## Plotting Borders"
   ]
  },
  {
   "cell_type": "markdown",
   "metadata": {},
   "source": [
    "For plotting the borders we use datasets available in [ESRI-Shapfile Format](https://de.wikipedia.org/wiki/Shapefile) from [Natural Earth Data](http://www.naturalearthdata.com/). \n",
    "\n",
    "For extraction of the data we use an `OGR.Layer` `AttributeFilter` and the [wradlib.georef.get_shape_coordinates()](generated/wradlib.georef.get_shape_coordinates.rst) function. The data is then added via [wradlib.vis.add_lines()](generated/wradlib.vis.add_lines.rst)"
   ]
  },
  {
   "cell_type": "code",
   "execution_count": null,
   "metadata": {
    "collapsed": false
   },
   "outputs": [],
   "source": [
    "def plot_borders(ax):\n",
    "    # plot country borders from esri vector shape, filter by attribute\n",
    "    # create wgs84 and india osr objects (spatial reference system)\n",
    "    from osgeo import osr\n",
    "    wgs84 = osr.SpatialReference()\n",
    "    wgs84.ImportFromEPSG(4326)\n",
    "    india = osr.SpatialReference()\n",
    "    # asia south albers equal area conic\n",
    "    india.ImportFromEPSG(102028)\n",
    "\n",
    "    # country list\n",
    "    countries = ['India', 'Nepal', 'Bhutan', 'Myanmar']\n",
    "    # open the input data source and get the layer\n",
    "    filename = wrl.util.get_wradlib_data_file('geo/ne_10m_admin_0_boundary_'\n",
    "                                              'lines_land.shp')\n",
    "    dataset, inLayer = wrl.io.open_shape(filename)\n",
    "    # iterate over countries, filter accordingly, get coordinates and plot\n",
    "    for item in countries:\n",
    "        # SQL-like selection syntax\n",
    "        fattr = \"(adm0_left = '\" + item + \"' or adm0_right = '\" + item + \"')\"\n",
    "        inLayer.SetAttributeFilter(fattr)\n",
    "        # get borders and names\n",
    "        borders, keys = wrl.georef.get_shape_coordinates(inLayer, key='name')\n",
    "        wrl.vis.add_lines(ax, borders, color='black', lw=2, zorder=4)\n",
    "    ax.autoscale()\n",
    "\n",
    "fig = pl.figure(figsize=(10,10))\n",
    "ax = fig.add_subplot(111, aspect='equal')\n",
    "plot_dem(ax)\n",
    "plot_borders(ax)\n",
    "ax.set_xlim((88, 93))\n",
    "ax.set_ylim((20, 27))"
   ]
  },
  {
   "cell_type": "markdown",
   "metadata": {},
   "source": [
    "## Plotting Rivers"
   ]
  },
  {
   "cell_type": "markdown",
   "metadata": {},
   "source": [
    "For plotting the rivers we use datasets available in [ESRI-Shapfile Format](https://de.wikipedia.org/wiki/Shapefile) from [Food and Agriculture Organization of the United Nations (FAO)](http://www.fao.org/geonetwork/srv/en/metadata.show?id=37331) and [Natural Earth Data](http://www.naturalearthdata.com/) \n",
    "\n",
    "For extraction of the data we use `OGR.Layer` `SpatialFilter` and the [wradlib.georef.get_shape_coordinates()](generated/wradlib.georef.get_shape_coordinates.rst) function. The data is then added via [wradlib.vis.add_lines()](generated/wradlib.vis.add_lines.rst)"
   ]
  },
  {
   "cell_type": "code",
   "execution_count": null,
   "metadata": {
    "collapsed": false
   },
   "outputs": [],
   "source": [
    "def plot_rivers(ax):\n",
    "    # plot rivers from esri vector shape, filter spatially\n",
    "    # http://www.fao.org/geonetwork/srv/en/metadata.show?id=37331\n",
    "\n",
    "    # open the input data source and get the layer\n",
    "    filename = wrl.util.get_wradlib_data_file('geo/rivers_asia_37331.shp')\n",
    "    dataset, inLayer = wrl.io.open_shape(filename)\n",
    "\n",
    "    # do spatial filtering to get only geometries inside bounding box\n",
    "    inLayer.SetSpatialFilterRect(88, 20, 93, 27)\n",
    "    rivers, keys = wrl.georef.get_shape_coordinates(inLayer, key='MAJ_NAME')\n",
    "\n",
    "    # plot on ax1, and ax4\n",
    "    wrl.vis.add_lines(ax, rivers, color=mpl.cm.terrain(0.), lw=0.5, zorder=3)\n",
    "\n",
    "fig = pl.figure(figsize=(10,10))\n",
    "ax = fig.add_subplot(111, aspect='equal')\n",
    "plot_dem(ax)\n",
    "plot_borders(ax)\n",
    "plot_rivers(ax)\n",
    "ax.set_xlim((88, 93))\n",
    "ax.set_ylim((20, 27))"
   ]
  },
  {
   "cell_type": "code",
   "execution_count": null,
   "metadata": {
    "collapsed": false
   },
   "outputs": [],
   "source": [
    "def plot_water(ax):\n",
    "    # plot rivers from esri vector shape, filter spatially\n",
    "    # plot rivers from NED\n",
    "    # open the input data source and get the layer\n",
    "    filename = wrl.util.get_wradlib_data_file('geo/ne_10m_rivers_lake_'\n",
    "                                              'centerlines.shp')\n",
    "    dataset, inLayer = wrl.io.open_shape(filename)\n",
    "    inLayer.SetSpatialFilterRect(88, 20, 93, 27)\n",
    "    rivers, keys = wrl.georef.get_shape_coordinates(inLayer)\n",
    "    wrl.vis.add_lines(ax, rivers, color=mpl.cm.terrain(0.), lw=0.5, zorder=3)\n",
    "\n",
    "fig = pl.figure(figsize=(10,10))\n",
    "ax = fig.add_subplot(111, aspect='equal')\n",
    "plot_dem(ax)\n",
    "plot_borders(ax)\n",
    "plot_rivers(ax)\n",
    "plot_water(ax)\n",
    "ax.set_xlim((88, 93))\n",
    "ax.set_ylim((20, 27))  "
   ]
  },
  {
   "cell_type": "markdown",
   "metadata": {},
   "source": [
    "## Plotting Cities"
   ]
  },
  {
   "cell_type": "markdown",
   "metadata": {},
   "source": [
    "The 5 biggest cities of bangladesh are added using simple matplotlib functions."
   ]
  },
  {
   "cell_type": "code",
   "execution_count": null,
   "metadata": {
    "collapsed": false
   },
   "outputs": [],
   "source": [
    "def plot_cities(ax):\n",
    "    # plot city dots with annotation, finalize plot\n",
    "    # lat/lon coordinates of five cities in Bangladesh\n",
    "    lats = [23.73, 22.32, 22.83, 24.37, 24.90]\n",
    "    lons = [90.40, 91.82, 89.55, 88.60, 91.87]\n",
    "    cities = ['Dhaka', 'Chittagong', 'Khulna', 'Rajshahi', 'Sylhet']\n",
    "    for lon, lat, city in zip(lons, lats, cities):\n",
    "        ax.plot(lon, lat, 'ro', zorder=5)\n",
    "        ax.text(lon + 0.01, lat + 0.01, city, fontsize='large')\n",
    "\n",
    "fig = pl.figure(figsize=(10,10))\n",
    "ax = fig.add_subplot(111, aspect='equal')\n",
    "plot_dem(ax)\n",
    "plot_borders(ax)\n",
    "plot_rivers(ax)\n",
    "plot_water(ax)\n",
    "plot_cities(ax)\n",
    "\n",
    "ax.set_xlim((88, 93))\n",
    "ax.set_ylim((20, 27))  \n",
    "ax.set_xlabel('Longitude')\n",
    "ax.set_ylabel('Latitude')\n",
    "ax.set_aspect('equal')\n",
    "ax.set_title('Bangladesh')\n"
   ]
  },
  {
   "cell_type": "markdown",
   "metadata": {},
   "source": [
    "## Plotting Country Patches"
   ]
  },
  {
   "cell_type": "markdown",
   "metadata": {},
   "source": [
    "### Plotting as WGS84 Map"
   ]
  },
  {
   "cell_type": "markdown",
   "metadata": {},
   "source": [
    "This example shows how to plot countries as `patches` on a WGS84 map. The data from [Natural Earth Data](http://www.naturalearthdata.com/) is used again.\n",
    "\n",
    "The patches are read using OGR.Layer `SpatialFilter` and [wradlib.georef.get_shape_coordinates()](generated/wradlib.georef.get_shape_coordinates.rst) function. The patches are added one by one to the map via [wradlib.vis.add_patches()](generated/wradlib.vis.add_patches.rst)."
   ]
  },
  {
   "cell_type": "code",
   "execution_count": null,
   "metadata": {
    "collapsed": false
   },
   "outputs": [],
   "source": [
    "def plot_wgs84(ax):\n",
    "    from osgeo import osr\n",
    "    wgs84 = osr.SpatialReference()\n",
    "    wgs84.ImportFromEPSG(4326)\n",
    "    # some testing on additional axes\n",
    "    # add Bangladesh to countries\n",
    "    countries = ['India', 'Nepal', 'Bhutan', 'Myanmar', 'Bangladesh']\n",
    "    # create colors for country-patches\n",
    "    cm = mpl.cm.jet\n",
    "    colors = []\n",
    "    for i in range(len(countries)):\n",
    "        colors.append(cm(1. * i / len(countries)))\n",
    "\n",
    "    # open the input data source and get the layer\n",
    "    filename = wrl.util.get_wradlib_data_file('geo/ne_10m_admin_0_'\n",
    "                                              'countries.shp')\n",
    "    dataset, layer = wrl.io.open_shape(filename)\n",
    "    \n",
    "    # filter spatially and plot as PatchCollection on ax3\n",
    "    layer.SetSpatialFilterRect(88, 20, 93, 27)\n",
    "    patches, keys = wrl.georef.get_shape_coordinates(layer,\n",
    "                                                     dest_srs=wgs84,\n",
    "                                                     key='name')\n",
    "    i = 0\n",
    "    for name, patch in zip(keys, patches):\n",
    "        # why comes the US in here?\n",
    "        if name in countries:\n",
    "            wrl.vis.add_patches(ax, patch, facecolor=colors[i],\n",
    "                                cmap=mpl.cm.jet, alpha=0.4)\n",
    "            i += 1\n",
    "    ax.autoscale(True)\n",
    "    ax.set_aspect('equal')\n",
    "    ax.set_xlabel('Longitude')\n",
    "    ax.set_ylabel('Latitude')\n",
    "    ax.set_title('South Asia - WGS 84')\n",
    "\n",
    "fig = pl.figure(figsize=(10,10))\n",
    "ax = fig.add_subplot(111, aspect='equal')\n",
    "plot_wgs84(ax)"
   ]
  },
  {
   "cell_type": "markdown",
   "metadata": {},
   "source": [
    "### Plotting as Projection Map"
   ]
  },
  {
   "cell_type": "markdown",
   "metadata": {},
   "source": [
    "This example shows how to plot countries as patches on a projected map.  \n",
    "\n",
    "The patches are read using OGR.Layer `AttributeFilter` and [wradlib.georef.get_shape_coordinates()](generated/wradlib.georef.get_shape_coordinates.rst) function. The data is transformed to the wanted projection by giving the projection OSR (Spatial Reference) with the keyword argument `dest_srs`. The patches are added as an array of patches to the map via[wradlib.vis.add_patches()](generated/wradlib.vis.add_patches.rst)."
   ]
  },
  {
   "cell_type": "code",
   "execution_count": null,
   "metadata": {
    "collapsed": false
   },
   "outputs": [],
   "source": [
    "def plot_albers(ax):\n",
    "    from osgeo import osr\n",
    "    india = osr.SpatialReference()\n",
    "    # asia south albers equal area conic\n",
    "    india.ImportFromEPSG(102028)\n",
    "\n",
    "    # some testing on additional axes\n",
    "    # add Bangladesh to countries\n",
    "    countries = ['India', 'Nepal', 'Bhutan', 'Myanmar', 'Bangladesh']\n",
    "    # create colors for country-patches\n",
    "    cm = mpl.cm.jet\n",
    "    colors = []\n",
    "    for i in range(len(countries)):\n",
    "        colors.append(cm(1. * i / len(countries)))\n",
    "\n",
    "    # open the input data source and get the layer\n",
    "    filename = wrl.util.get_wradlib_data_file('geo/ne_10m_admin_0_'\n",
    "                                              'countries.shp')\n",
    "    dataset, layer = wrl.io.open_shape(filename)\n",
    "    # iterate over countries, filter by attribute, plot single patches on ax2\n",
    "    for i, item in enumerate(countries):\n",
    "        fattr = \"name = '\" + item + \"'\"\n",
    "        layer.SetAttributeFilter(fattr)\n",
    "        # get country patches and geotransform to destination srs\n",
    "        patches, keys = wrl.georef.get_shape_coordinates(layer,\n",
    "                                                         dest_srs=india,\n",
    "                                                         key='name')\n",
    "        wrl.vis.add_patches(pl.gca(), patches, facecolor=colors[i])\n",
    "    \n",
    "    ax.autoscale(True)\n",
    "    ax.set_aspect('equal')\n",
    "    ax.set_xlabel('X - Coordinate')\n",
    "    ax.set_ylabel('Y - Coordinate')\n",
    "    ax.ticklabel_format(style='sci', scilimits=(0, 0))\n",
    "    ax.set_title('South Asia - Albers Equal Area Conic ')\n",
    "    \n",
    "fig = pl.figure(figsize=(10,10))\n",
    "ax = fig.add_subplot(111, aspect='equal')\n",
    "plot_albers(ax)"
   ]
  }
 ],
 "metadata": {
  "celltoolbar": "Edit Metadata",
  "kernelspec": {
   "display_name": "Python 2",
   "language": "python",
   "name": "python2"
  },
  "language_info": {
   "codemirror_mode": {
    "name": "ipython",
    "version": 2
   },
   "file_extension": ".py",
   "mimetype": "text/x-python",
   "name": "python",
   "nbconvert_exporter": "python",
   "pygments_lexer": "ipython2",
   "version": "2.7.11"
  }
 },
 "nbformat": 4,
 "nbformat_minor": 0
}
