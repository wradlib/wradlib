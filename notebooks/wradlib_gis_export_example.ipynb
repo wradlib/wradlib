{
 "cells": [
  {
   "cell_type": "markdown",
   "metadata": {
    "collapsed": true
   },
   "source": [
    "This notebook is part of the wradlib documentation: http://wradlib.org/wradlib-docs.\n",
    "\n",
    "Copyright (c) 2016, wradlib developers.\n",
    "Distributed under the MIT License. See LICENSE.txt for more info."
   ]
  },
  {
   "cell_type": "markdown",
   "metadata": {},
   "source": [
    "# Export a dataset in GIS-compatible format\n",
    "\n",
    "In this notebook, we demonstrate how to export a gridded dataset in GeoTIFF and ESRI ASCII format. This will be exemplified using RADOLAN data from the German Weather Service."
   ]
  },
  {
   "cell_type": "code",
   "execution_count": null,
   "metadata": {
    "collapsed": true
   },
   "outputs": [],
   "source": [
    "import wradlib\n",
    "import warnings\n",
    "warnings.filterwarnings('ignore')"
   ]
  },
  {
   "cell_type": "markdown",
   "metadata": {},
   "source": [
    "### Step 1: Read the original data"
   ]
  },
  {
   "cell_type": "code",
   "execution_count": null,
   "metadata": {
    "collapsed": true
   },
   "outputs": [],
   "source": [
    "# We will export this RADOLAN dataset to a GIS compatible format\n",
    "wdir = wradlib.util.get_wradlib_data_path() + '/radolan/grid/'\n",
    "filename = 'radolan/misc/raa01-sf_10000-1408102050-dwd---bin.gz'\n",
    "filename = wradlib.util.get_wradlib_data_file(filename)\n",
    "data, meta = wradlib.io.read_RADOLAN_composite(filename)"
   ]
  },
  {
   "cell_type": "markdown",
   "metadata": {},
   "source": [
    "### Step 2: Get the projected coordinates of the RADOLAN grid"
   ]
  },
  {
   "cell_type": "code",
   "execution_count": null,
   "metadata": {
    "collapsed": true
   },
   "outputs": [],
   "source": [
    "# This is the RADOLAN projection\n",
    "proj_osr = wradlib.georef.create_osr(\"dwd-radolan\")\n",
    "\n",
    "# Get projected RADOLAN coordinates for corner definition\n",
    "xy = wradlib.georef.get_radolan_grid(900, 900)"
   ]
  },
  {
   "cell_type": "markdown",
   "metadata": {},
   "source": [
    "### Step 3a: Export as GeoTIFF\n",
    "\n",
    "For RADOLAN grids, this projection wi#ll probably not be recognized by\n",
    "ESRI ArcGIS.\n",
    "Please note that that the geotransform for creating GeoTIFF files\n",
    "requires the top-left corner of the bounding box. See help for\n",
    "io.to_GeoTIFF for further instructions, particularly on how to define\n",
    "the geotransform.\n"
   ]
  },
  {
   "cell_type": "code",
   "execution_count": null,
   "metadata": {
    "collapsed": true
   },
   "outputs": [],
   "source": [
    "geotransform = [xy[0, 0, 0], 1., 0, xy[-1, -1, 1] + 1., 0, -1.]\n",
    "wradlib.io.to_GeoTIFF(wdir + \"geotiff.tif\", data, geotransform,\n",
    "                      proj=proj_osr)"
   ]
  },
  {
   "cell_type": "markdown",
   "metadata": {},
   "source": [
    "### Step 3b: Export as ESRI ASCII file (aka Arc/Info ASCII Grid)"
   ]
  },
  {
   "cell_type": "code",
   "execution_count": null,
   "metadata": {
    "collapsed": false
   },
   "outputs": [],
   "source": [
    "# Export to Arc/Info ASCII Grid format (aka ESRI grid)\n",
    "#     It should be possible to import this to most conventional\n",
    "# GIS software.\n",
    "wradlib.io.to_AAIGrid(wdir + \"aaigrid.asc\", data, xy[0, 0, 0], xy[0, 0, 1],\n",
    "                      1., proj=proj_osr, to_esri=False)"
   ]
  }
 ],
 "metadata": {
  "kernelspec": {
   "display_name": "Python 2",
   "language": "python",
   "name": "python2"
  },
  "language_info": {
   "codemirror_mode": {
    "name": "ipython",
    "version": 2
   },
   "file_extension": ".py",
   "mimetype": "text/x-python",
   "name": "python",
   "nbconvert_exporter": "python",
   "pygments_lexer": "ipython2",
   "version": "2.7.11"
  }
 },
 "nbformat": 4,
 "nbformat_minor": 0
}
