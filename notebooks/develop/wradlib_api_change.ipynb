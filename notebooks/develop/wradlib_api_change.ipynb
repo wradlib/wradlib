{
 "cells": [
  {
   "cell_type": "markdown",
   "metadata": {
    "nbsphinx": "hidden"
   },
   "source": [
    "This notebook is part of the wradlib documentation: http://wradlib.org/wradlib-docs.\n",
    "\n",
    "Copyright (c) 2016, wradlib developers.\n",
    "Distributed under the MIT License. See LICENSE.txt for more info."
   ]
  },
  {
   "cell_type": "markdown",
   "metadata": {},
   "source": [
    "# API-Change "
   ]
  },
  {
   "cell_type": "markdown",
   "metadata": {},
   "source": [
    "This notebook shows $\\omega radlib's$ ability to warn the user of pending changes in the api. Function-`@decorators` are used for this. With the `@deprecated`-decorator a `DeprecationWarning` is issued, while the `@apichange_kwarg`-decorator issues `DeprecationWarning` about changes in the calling parameters. Besides warning the new behaviour can already be utilized by a given transformation function."
   ]
  },
  {
   "cell_type": "code",
   "execution_count": null,
   "metadata": {
    "collapsed": false
   },
   "outputs": [],
   "source": [
    "# import section\n",
    "import sys\n",
    "import warnings\n",
    "#warnings.filterwarnings('ignore')\n",
    "import numpy as np\n",
    "import matplotlib.pyplot as pl\n",
    "try:\n",
    "    get_ipython().magic(\"matplotlib inline\")\n",
    "except:\n",
    "    pl.ion()\n",
    "\n",
    "with warnings.catch_warnings():\n",
    "    warnings.filterwarnings(\"always\",category=DeprecationWarning)\n",
    "    import wradlib as wrl"
   ]
  },
  {
   "cell_type": "markdown",
   "metadata": {},
   "source": [
    "## Deprecation Warning"
   ]
  },
  {
   "cell_type": "code",
   "execution_count": null,
   "metadata": {
    "collapsed": true
   },
   "outputs": [],
   "source": [
    "@wrl.util.deprecated()\n",
    "def old_function(z):\n",
    "    return z"
   ]
  },
  {
   "cell_type": "code",
   "execution_count": null,
   "metadata": {
    "collapsed": false
   },
   "outputs": [],
   "source": [
    "old_function(1)"
   ]
  },
  {
   "cell_type": "code",
   "execution_count": null,
   "metadata": {
    "collapsed": true
   },
   "outputs": [],
   "source": [
    "def new_function(x):\n",
    "    return 0"
   ]
  },
  {
   "cell_type": "code",
   "execution_count": null,
   "metadata": {
    "collapsed": true
   },
   "outputs": [],
   "source": [
    "@wrl.util.deprecated(new_function)\n",
    "def old_function(z):\n",
    "    return z"
   ]
  },
  {
   "cell_type": "code",
   "execution_count": null,
   "metadata": {
    "collapsed": false
   },
   "outputs": [],
   "source": [
    "old_function(1)"
   ]
  },
  {
   "cell_type": "markdown",
   "metadata": {},
   "source": [
    "## Future Change"
   ]
  },
  {
   "cell_type": "markdown",
   "metadata": {},
   "source": [
    "First, we define the function, where the api will be changed. The function takes parameter ``z`` and keyword argument ``x``, which excepts type `str` and defaults to none.\n",
    "\n",
    "The new behaviour is to accept only ``int``. We define our function decorator as:\n",
    "\n",
    "```python\n",
    "@wrl.util.apichange_kwarg(\"0.6.0\", par='x', typ=str, msg=\"x will take int data in the future\")\n",
    "```\n",
    "\n",
    "This means that the api-change takes place from version ``0.6.0`` on, it affects parameter ``x``, which is of type ``str`` and it will display the message \"x will take int data in the future\"."
   ]
  },
  {
   "cell_type": "code",
   "execution_count": null,
   "metadata": {
    "collapsed": false
   },
   "outputs": [],
   "source": [
    "@wrl.util.apichange_kwarg(\"0.6.0\", par='x', typ=str, msg=\"x will take int data in the future\")\n",
    "def futurechange(z, x=None):\n",
    "    if isinstance(x, str):\n",
    "        print(z, x, type(x),\n",
    "              \"normal function behaviour, DeprecationWarning is issued\")\n",
    "    elif isinstance(x, type(None)):\n",
    "        print(z, x, type(x),\n",
    "              \"normal function behaviour, no DeprecationWarning\")\n",
    "    else:\n",
    "        print(z, x, type(x),\n",
    "              \"using wrong type here, no DeprecationWarning, \"\n",
    "              \"but TypeError will be raised\")\n",
    "        raise TypeError(\"Wrong Input %s, 'str' expected\" % type(x))\n",
    "    sys.stdout.flush()\n",
    "    return z, x"
   ]
  },
  {
   "cell_type": "code",
   "execution_count": null,
   "metadata": {
    "collapsed": false
   },
   "outputs": [],
   "source": [
    "futurechange(0)"
   ]
  },
  {
   "cell_type": "code",
   "execution_count": null,
   "metadata": {
    "collapsed": false
   },
   "outputs": [],
   "source": [
    "futurechange(1, x='10')"
   ]
  },
  {
   "cell_type": "code",
   "execution_count": null,
   "metadata": {
    "collapsed": false
   },
   "outputs": [],
   "source": [
    "try:\n",
    "    futurechange(2, x=20)\n",
    "except TypeError as e:\n",
    "    print(\"Type error: {0}\".format(e))"
   ]
  },
  {
   "cell_type": "markdown",
   "metadata": {},
   "source": [
    "## Type Changed"
   ]
  },
  {
   "cell_type": "markdown",
   "metadata": {},
   "source": [
    "When the API has changed finally, we just adapt the ``@decorator`` and we need to define a transformation function for the keyword parameter:"
   ]
  },
  {
   "cell_type": "code",
   "execution_count": null,
   "metadata": {
    "collapsed": true
   },
   "outputs": [],
   "source": [
    "def help_function(x):\n",
    "    return int(x)"
   ]
  },
  {
   "cell_type": "code",
   "execution_count": null,
   "metadata": {
    "collapsed": false
   },
   "outputs": [],
   "source": [
    "@wrl.util.apichange_kwarg(\"0.6.0\", par='x', typ=str, exfunc=help_function)\n",
    "def typechanged(z, x=None):\n",
    "    if isinstance(x, int):\n",
    "        print(z, x, type(x), \"normal function behaviour or type change, \"\n",
    "                             \"DeprecationWarning is issued when 'x' \"\n",
    "                             \"is type(str)\")\n",
    "    elif isinstance(x, type(None)):\n",
    "        print(z, x, type(x),\n",
    "              \"normal function behaviour, no DeprecationWarning\")\n",
    "    else:\n",
    "        print(z, x, type(x),\n",
    "              \"using wrong type here, TypeError will be raised\")\n",
    "        raise TypeError(\"Wrong Input %s, 'int' expected\" % type(x))\n",
    "    sys.stdout.flush()\n",
    "    return z, x"
   ]
  },
  {
   "cell_type": "code",
   "execution_count": null,
   "metadata": {
    "collapsed": false
   },
   "outputs": [],
   "source": [
    "typechanged(0)"
   ]
  },
  {
   "cell_type": "code",
   "execution_count": null,
   "metadata": {
    "collapsed": false
   },
   "outputs": [],
   "source": [
    "typechanged(3, x='30')"
   ]
  },
  {
   "cell_type": "code",
   "execution_count": null,
   "metadata": {
    "collapsed": false
   },
   "outputs": [],
   "source": [
    "typechanged(4, x=40)"
   ]
  },
  {
   "cell_type": "markdown",
   "metadata": {},
   "source": [
    "## Name Changed"
   ]
  },
  {
   "cell_type": "markdown",
   "metadata": {},
   "source": [
    "If the name of the keyword argument has already changed, here from `x` to `y`."
   ]
  },
  {
   "cell_type": "code",
   "execution_count": null,
   "metadata": {
    "collapsed": true
   },
   "outputs": [],
   "source": [
    "@wrl.util.apichange_kwarg(\"0.6.0\", par='x', typ=str, expar='y')\n",
    "def namechanged(z, y=None):\n",
    "    if isinstance(y, str):\n",
    "        print(z, y, type(y), \"DeprecationWarning\")\n",
    "    elif isinstance(y, type(None)):\n",
    "        print(z, y, type(y),\n",
    "              \"normal function behaviour, no DeprecationWarning\")\n",
    "    else:\n",
    "        print(z, y, type(y), \"using wrong type here, TypeError is issued\")\n",
    "        raise TypeError(\"Wrong Input %s, 'str' expected\" % type(y))\n",
    "    sys.stdout.flush()\n",
    "    return z, y"
   ]
  },
  {
   "cell_type": "code",
   "execution_count": null,
   "metadata": {
    "collapsed": false
   },
   "outputs": [],
   "source": [
    "namechanged(0)"
   ]
  },
  {
   "cell_type": "code",
   "execution_count": null,
   "metadata": {
    "collapsed": false
   },
   "outputs": [],
   "source": [
    "namechanged(5, x='50')"
   ]
  },
  {
   "cell_type": "code",
   "execution_count": null,
   "metadata": {
    "collapsed": false
   },
   "outputs": [],
   "source": [
    "try:\n",
    "    namechanged(6, x=60)\n",
    "except TypeError as e:\n",
    "    print(\"Type error: {0}\".format(e))"
   ]
  },
  {
   "cell_type": "code",
   "execution_count": null,
   "metadata": {
    "collapsed": false
   },
   "outputs": [],
   "source": [
    "namechanged(7, y='70')"
   ]
  },
  {
   "cell_type": "code",
   "execution_count": null,
   "metadata": {
    "collapsed": false
   },
   "outputs": [],
   "source": [
    "try:\n",
    "    namechanged(8, y=80)\n",
    "except TypeError as e:\n",
    "    print(\"Type error: {0}\".format(e))"
   ]
  },
  {
   "cell_type": "markdown",
   "metadata": {},
   "source": [
    "## Name and Type changed"
   ]
  },
  {
   "cell_type": "code",
   "execution_count": null,
   "metadata": {
    "collapsed": true
   },
   "outputs": [],
   "source": [
    "@wrl.util.apichange_kwarg(\"0.6.0\", par='x', typ=str, expar='y',\n",
    "                          exfunc=help_function)\n",
    "def name_and_type_changed(z, y=None):\n",
    "    if isinstance(y, int):\n",
    "        print(z, y, type(y),\n",
    "              \"normal function behaviour or paramter and type change, \"\n",
    "              \"DeprecationWarning is issued when 'x' is given\")\n",
    "    elif isinstance(y, type(None)):\n",
    "        print(z, y, type(y),\n",
    "              \"normal function behaviour, no DeprecationWarning\")\n",
    "    else:\n",
    "        print(z, y, type(y),\n",
    "              \"using wrong type here, TypeError will be raised\")\n",
    "        raise TypeError(\"Wrong Input %s, 'str' expected\" % type(y))\n",
    "    return z, y"
   ]
  },
  {
   "cell_type": "code",
   "execution_count": null,
   "metadata": {
    "collapsed": false
   },
   "outputs": [],
   "source": [
    "name_and_type_changed(0)"
   ]
  },
  {
   "cell_type": "code",
   "execution_count": null,
   "metadata": {
    "collapsed": false
   },
   "outputs": [],
   "source": [
    "name_and_type_changed(9, x='90')"
   ]
  },
  {
   "cell_type": "code",
   "execution_count": null,
   "metadata": {
    "collapsed": false
   },
   "outputs": [],
   "source": [
    "try:\n",
    "    name_and_type_changed(10, x=100)\n",
    "except TypeError as e:\n",
    "    print(\"Type error: {0}\".format(e))"
   ]
  }
 ],
 "metadata": {
  "celltoolbar": "Edit Metadata",
  "kernelspec": {
   "display_name": "Python 2",
   "language": "python",
   "name": "python2"
  },
  "language_info": {
   "codemirror_mode": {
    "name": "ipython",
    "version": 2
   },
   "file_extension": ".py",
   "mimetype": "text/x-python",
   "name": "python",
   "nbconvert_exporter": "python",
   "pygments_lexer": "ipython2",
   "version": "2.7.11"
  }
 },
 "nbformat": 4,
 "nbformat_minor": 0
}
