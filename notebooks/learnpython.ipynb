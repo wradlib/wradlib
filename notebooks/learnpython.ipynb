{
 "cells": [
  {
   "cell_type": "markdown",
   "metadata": {
    "nbsphinx": "hidden"
   },
   "source": [
    "This notebook is part of the $\\omega radlib$ documentation: http://wradlib.org/wradlib-docs.\n",
    "\n",
    "Copyright (c) 2016, $\\omega radlib$ developers.\n",
    "Distributed under the MIT License. See LICENSE.txt for more info."
   ]
  },
  {
   "cell_type": "markdown",
   "metadata": {},
   "source": [
    "# An incomplete introduction to Python"
   ]
  },
  {
   "cell_type": "markdown",
   "metadata": {},
   "source": [
    "In order to use $\\omega radlib$, you need to be able to use Python. The notebooks in this section will give you a glimpse of the Python language and important scientific packages, confront you with some Python exercises, and refer you to further online material. In addition, we will address some issues that are relevant to $\\omega radlib$, but do not necessarily address $\\omega radlib$ functionality.\n",
    "\n",
    "As an introduction to scientific python, **this section is necessarily incomplete**. There are better and more comprehensive courses such as the [SciPy Lecture Notes](http://www.scipy-lectures.org/index.html) or the [Dive into Python](http://www.diveintopython3.net/) book. \n",
    "\n",
    "Mostly, we will assume that you have some basic knowledge about programming, e.g. from other interpreted langauages such as [R](https://www.r-project.org/) or Matlab. Otherwise, a fundamental course such as [Dive into Python](http://www.diveintopython3.net/) might help you more."
   ]
  },
  {
   "cell_type": "markdown",
   "metadata": {
    "nbsphinx-toctree": {
     "maxdepth": 2
    }
   },
   "source": [
    "## List of Python related articles in this section\n",
    "\n",
    "- [A quick start to Python](python/quickstart.ipynb)\n",
    "- [Numpy: manipulating numerical data](python/numpyintro.ipynb)\n",
    "- [Visualising data with Matplotlib](python/mplintro.ipynb)\n",
    "- [Dealing with time series](python/timeseries.ipynb)\n",
    "- [Using virtual environments](python/virtenvs.ipynb)\n",
    "- [Integrated Development Environments for Python](../ide.rst)"
   ]
  }
 ],
 "metadata": {
  "celltoolbar": "Edit Metadata",
  "kernelspec": {
   "display_name": "Python 2",
   "language": "python",
   "name": "python2"
  },
  "language_info": {
   "codemirror_mode": {
    "name": "ipython",
    "version": 2
   },
   "file_extension": ".py",
   "mimetype": "text/x-python",
   "name": "python",
   "nbconvert_exporter": "python",
   "pygments_lexer": "ipython2",
   "version": "2.7.12"
  }
 },
 "nbformat": 4,
 "nbformat_minor": 0
}
