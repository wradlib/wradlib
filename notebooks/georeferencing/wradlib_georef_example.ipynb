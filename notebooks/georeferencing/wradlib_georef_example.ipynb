{
 "cells": [
  {
   "cell_type": "markdown",
   "metadata": {
    "collapsed": true
   },
   "source": [
    "This notebook is part of the wradlib documentation: http://wradlib.org/wradlib-docs.\n",
    "\n",
    "Copyright (c) 2016, wradlib developers.\n",
    "Distributed under the MIT License. See LICENSE.txt for more info."
   ]
  },
  {
   "cell_type": "markdown",
   "metadata": {
    "collapsed": true
   },
   "source": [
    "# Example for georeferencing a radar dataset"
   ]
  },
  {
   "cell_type": "code",
   "execution_count": null,
   "metadata": {
    "collapsed": true
   },
   "outputs": [],
   "source": [
    "import wradlib.georef as georef\n",
    "import numpy as np\n",
    "import matplotlib.pyplot as pl\n",
    "import matplotlib as mpl\n",
    "from matplotlib.patches import Rectangle\n",
    "import warnings\n",
    "warnings.filterwarnings('ignore')\n",
    "try:\n",
    "    get_ipython().magic(\"matplotlib inline\")\n",
    "except:\n",
    "    pl.ion()"
   ]
  },
  {
   "cell_type": "markdown",
   "metadata": {
    "collapsed": true
   },
   "source": [
    "**1st step:** Compute centroid coordinates and vertices of all radar bins in WGS84 (longitude and latitude)."
   ]
  },
  {
   "cell_type": "code",
   "execution_count": null,
   "metadata": {
    "collapsed": true
   },
   "outputs": [],
   "source": [
    "# Define the polar coordinates and the site coordinates in lat/lon    \n",
    "r = np.arange(1, 129) * 1000\n",
    "az = np.linspace(0, 360, 361)[0:-1]\n",
    "\n",
    "# Site coordinates for different DWD radar locations (you choose)\n",
    "# LAT:  drs:  51.12527778 ; fbg: 47.87444444 ; tur: 48.58611111 ; # muc: 48.3372222\n",
    "# LON:  drs:  13.76972222 ; fbg: 8.005 ; tur: 9.783888889 ; muc: 11.61277778\n",
    "sitecoords = (9.7839, 48.5861)"
   ]
  },
  {
   "cell_type": "markdown",
   "metadata": {},
   "source": [
    "We can now generate the polgon vertices of the radar bins - with **each vertex in lon/lat coordinates**."
   ]
  },
  {
   "cell_type": "code",
   "execution_count": null,
   "metadata": {
    "collapsed": true
   },
   "outputs": [],
   "source": [
    "polygons = georef.polar2polyvert(r, az, sitecoords)"
   ]
  },
  {
   "cell_type": "markdown",
   "metadata": {},
   "source": [
    "... or we can compute the corresponding centroids of all bins -  - with **each centroid in lon/lat coordinates**."
   ]
  },
  {
   "cell_type": "code",
   "execution_count": null,
   "metadata": {
    "collapsed": true
   },
   "outputs": [],
   "source": [
    "cent_lon, cent_lat = georef.polar2centroids(r, az, sitecoords)"
   ]
  },
  {
   "cell_type": "markdown",
   "metadata": {},
   "source": [
    "In order to understand how vertices and centroids correspond, we can plot them together."
   ]
  },
  {
   "cell_type": "code",
   "execution_count": null,
   "metadata": {
    "collapsed": false
   },
   "outputs": [],
   "source": [
    "fig = pl.figure(figsize=(16, 16))\n",
    "aspect = ( cent_lon.max()-cent_lon.min() ) / ( cent_lat.max()-cent_lat.min() )\n",
    "ax = fig.add_subplot(121, aspect = aspect )\n",
    "polycoll = mpl.collections.PolyCollection(polygons, closed=True,\n",
    "                                          facecolors='None', linewidth=0.1)\n",
    "ax.add_collection(polycoll, autolim=True)\n",
    "#ax.plot(cent_lon, cent_lat, 'r+')\n",
    "pl.title('Zoom in\\n(only possible for interactive plots).')\n",
    "ax.add_patch(Rectangle((sitecoords[0]+0.25, sitecoords[1]+0.25), 0.2, 0.2/aspect, edgecolor=\"red\", facecolor=\"None\", zorder=3))\n",
    "pl.xlim(cent_lon.min(), cent_lon.max())\n",
    "pl.ylim(cent_lat.min(), cent_lat.max())\n",
    "\n",
    "ax = fig.add_subplot(122, aspect = aspect)\n",
    "polycoll = mpl.collections.PolyCollection(polygons, closed=True,\n",
    "                                          facecolors='None')\n",
    "ax.add_collection(polycoll, autolim=True)\n",
    "ax.plot(cent_lon, cent_lat, 'r+')\n",
    "pl.title('Zoom into red box of left plot')\n",
    "pl.xlim(sitecoords[0]+0.25, sitecoords[0]+0.25+0.2)\n",
    "pl.ylim(sitecoords[1]+0.25, sitecoords[1]+0.25+0.2/aspect)"
   ]
  },
  {
   "cell_type": "markdown",
   "metadata": {},
   "source": [
    "**2nd step:** Reproject the centroid coordinates to Gauss-Krueger Zone 3 (i.e. EPSG-Code 31467)."
   ]
  },
  {
   "cell_type": "code",
   "execution_count": null,
   "metadata": {
    "collapsed": true
   },
   "outputs": [],
   "source": [
    "proj_gk3 = georef.epsg_to_osr(31467)\n",
    "x, y = georef.reproject(cent_lon, cent_lat, projection_targe=proj_gk3)"
   ]
  }
 ],
 "metadata": {
  "kernelspec": {
   "display_name": "Python 2",
   "language": "python",
   "name": "python2"
  },
  "language_info": {
   "codemirror_mode": {
    "name": "ipython",
    "version": 2
   },
   "file_extension": ".py",
   "mimetype": "text/x-python",
   "name": "python",
   "nbconvert_exporter": "python",
   "pygments_lexer": "ipython2",
   "version": "2.7.11"
  }
 },
 "nbformat": 4,
 "nbformat_minor": 0
}
