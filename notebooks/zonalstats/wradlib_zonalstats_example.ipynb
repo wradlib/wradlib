{
 "cells": [
  {
   "cell_type": "markdown",
   "metadata": {
    "nbsphinx": "hidden"
   },
   "source": [
    "This notebook is part of the wradlib documentation: http://wradlib.org/wradlib-docs.\n",
    "\n",
    "Copyright (c) 2016, wradlib developers.\n",
    "Distributed under the MIT License. See LICENSE.txt for more info."
   ]
  },
  {
   "cell_type": "markdown",
   "metadata": {},
   "source": [
    "# Zonal Statistics Example"
   ]
  },
  {
   "cell_type": "code",
   "execution_count": null,
   "metadata": {
    "collapsed": true
   },
   "outputs": [],
   "source": [
    "import wradlib as wrl\n",
    "import matplotlib.pyplot as pl\n",
    "import matplotlib as mpl\n",
    "import warnings\n",
    "warnings.filterwarnings('ignore')\n",
    "try:\n",
    "    get_ipython().magic(\"matplotlib inline\")\n",
    "except:\n",
    "    pl.ion()\n",
    "import numpy as np"
   ]
  },
  {
   "cell_type": "markdown",
   "metadata": {},
   "source": [
    "## Setup Examples"
   ]
  },
  {
   "cell_type": "code",
   "execution_count": null,
   "metadata": {
    "collapsed": true
   },
   "outputs": [],
   "source": [
    "def testplot(cats, catsavg, xy, data,\n",
    "             levels=[0, 1, 2, 3, 4, 5, 10, 15, 20, 25, 30, 40, 50, 100],\n",
    "             title=\"\"):\n",
    "    \"\"\"Quick test plot layout for this example file\n",
    "    \"\"\"\n",
    "    colors = pl.cm.spectral(np.linspace(0, 1, len(levels)))\n",
    "    mycmap, mynorm = from_levels_and_colors(levels, colors, extend=\"max\")\n",
    "\n",
    "    radolevels = [0, 1, 2, 3, 4, 5, 10, 15, 20, 25, 30, 40, 50, 100]\n",
    "    radocolors = pl.cm.spectral(np.linspace(0, 1, len(radolevels)))\n",
    "    radocmap, radonorm = from_levels_and_colors(radolevels, radocolors,\n",
    "                                                extend=\"max\")\n",
    "\n",
    "    fig = pl.figure(figsize=(10, 16))\n",
    "\n",
    "    # Average rainfall sum\n",
    "    ax = fig.add_subplot(211, aspect=\"equal\")\n",
    "    coll = PatchCollection(cats, array=catsavg, cmap=mycmap, norm=mynorm,\n",
    "                           edgecolors='white', lw=0.5)\n",
    "    ax.add_collection(coll)\n",
    "    ax.autoscale()\n",
    "    pl.colorbar(coll, ax=ax, shrink=0.5)\n",
    "    pl.xlabel(\"GK2 Easting\")\n",
    "    pl.ylabel(\"GK2 Northing\")\n",
    "    pl.title(title)\n",
    "    pl.draw()\n",
    "\n",
    "    # Original radar data\n",
    "    ax1 = fig.add_subplot(212, aspect=\"equal\")\n",
    "    pm = pl.pcolormesh(xy[:, :, 0], xy[:, :, 1], np.ma.masked_invalid(data),\n",
    "                        cmap=radocmap, norm=radonorm)\n",
    "    coll = PatchCollection(cats, facecolor='None', edgecolor='white', lw=0.5)\n",
    "    ax1.add_collection(coll)\n",
    "    cb = pl.colorbar(pm, ax=ax1, shrink=0.5)\n",
    "    cb.set_label(\"(mm/h)\")\n",
    "    pl.xlabel(\"GK2 Easting\")\n",
    "    pl.ylabel(\"GK2 Northing\")\n",
    "    pl.title(\"Original radar rain sums\")\n",
    "    pl.draw()\n",
    "    pl.tight_layout()"
   ]
  },
  {
   "cell_type": "markdown",
   "metadata": {},
   "source": [
    "## Zonal Stats Rectangular Grid"
   ]
  },
  {
   "cell_type": "code",
   "execution_count": null,
   "metadata": {
    "collapsed": true
   },
   "outputs": [],
   "source": [
    "from matplotlib.collections import PatchCollection\n",
    "from matplotlib.colors import from_levels_and_colors\n",
    "import matplotlib.patches as patches\n",
    "import datetime as dt\n",
    "from osgeo import osr"
   ]
  },
  {
   "cell_type": "code",
   "execution_count": null,
   "metadata": {
    "collapsed": false
   },
   "outputs": [],
   "source": [
    "# check for GEOS enabled GDAL\n",
    "if not wrl.util.has_geos():\n",
    "    print(\"NO GEOS support within GDAL, aborting...\")\n",
    "    exit(0)"
   ]
  },
  {
   "cell_type": "code",
   "execution_count": null,
   "metadata": {
    "collapsed": false
   },
   "outputs": [],
   "source": [
    "# Get RADOLAN grid coordinates\n",
    "grid_xy_radolan = wrl.georef.get_radolan_grid(900, 900)\n",
    "x_radolan = grid_xy_radolan[:, :, 0]\n",
    "y_radolan = grid_xy_radolan[:, :, 1]\n",
    "\n",
    "# create radolan projection osr object\n",
    "proj_stereo = wrl.georef.create_osr(\"dwd-radolan\")\n",
    "\n",
    "# create Gauss Krueger zone 2 projection osr object\n",
    "proj_gk = osr.SpatialReference()\n",
    "proj_gk.ImportFromEPSG(31466)\n",
    "\n",
    "# transform radolan polar stereographic projection to GK2\n",
    "xy = wrl.georef.reproject(grid_xy_radolan,\n",
    "                          projection_source=proj_stereo,\n",
    "                          projection_target=proj_gk)\n",
    "\n",
    "# Open shapefile (already in GK2)\n",
    "\n",
    "shpfile = wrl.util.get_wradlib_data_file('shapefiles/agger/agger_merge.shp')\n",
    "dataset, inLayer = wrl.io.open_shape(shpfile)\n",
    "cats, keys = wrl.georef.get_shape_coordinates(inLayer)\n",
    "\n",
    "# Read and prepare the actual data (RADOLAN)\n",
    "f = wrl.util.get_wradlib_data_file(\n",
    "    'radolan/misc/raa01-sf_10000-1406100050-dwd---bin.gz')\n",
    "data, attrs = wrl.io.read_RADOLAN_composite(f, missing=np.nan)\n",
    "sec = attrs['secondary']\n",
    "data.flat[sec] = np.nan\n",
    "\n",
    "# Reduce grid size using a bounding box (to enhancing performance)\n",
    "bbox = inLayer.GetExtent()\n",
    "buffer = 5000.\n",
    "bbox = dict(left=bbox[0] - buffer, right=bbox[1] + buffer,\n",
    "            bottom=bbox[2] - buffer, top=bbox[3] + buffer)\n",
    "mask, shape = wrl.zonalstats.mask_from_bbox(xy[..., 0], xy[..., 1],\n",
    "                                                bbox)\n",
    "xy_ = np.vstack((xy[..., 0][mask].ravel(), xy[..., 1][mask].ravel())).T\n",
    "data_ = data[mask]"
   ]
  },
  {
   "cell_type": "code",
   "execution_count": null,
   "metadata": {
    "collapsed": false
   },
   "outputs": [],
   "source": [
    "###########################################################################\n",
    "# Approach #1: Assign grid points to each polygon and compute the average.\n",
    "#\n",
    "# - Uses matplotlib.path.Path\n",
    "# - Each point is weighted equally (assumption: polygon >> grid cell)\n",
    "# - this is quick, but theoretically dirty\n",
    "###########################################################################\n",
    "\n",
    "t1 = dt.datetime.now()\n",
    "\n",
    "# Create instance of type ZonalDataPoint from source grid and\n",
    "# catchment array\n",
    "zd = wrl.zonalstats.ZonalDataPoint(xy_, cats, srs=proj_gk, buf=500.)\n",
    "# dump to file (for later use - see below)\n",
    "zd.dump_vector('test_zonal_points_cart')\n",
    "# Create instance of type GridPointsToPoly from zonal data object\n",
    "obj1 = wrl.zonalstats.GridPointsToPoly(zd)\n",
    "\n",
    "isecs1 = obj1.zdata.isecs  # for plotting (see below)\n",
    "\n",
    "t2 = dt.datetime.now()\n",
    "\n",
    "# Compute stats for target polygons\n",
    "avg1 = obj1.mean(data_.ravel())\n",
    "var1 = obj1.var(data_.ravel())\n",
    "\n",
    "t3 = dt.datetime.now()\n",
    "\n",
    "# Create instance of type GridPointsToPoly from zonal data file\n",
    "# (much faster)\n",
    "obj1 = wrl.zonalstats.GridPointsToPoly('test_zonal_points_cart')\n",
    "\n",
    "t4 = dt.datetime.now()\n",
    "\n",
    "print(\"Approach #1 computation time:\")\n",
    "print(\"\\tCreate object from scratch: %f \"\n",
    "      \"seconds\" % (t2 - t1).total_seconds())\n",
    "print(\"\\tCreate object from dumped file: %f \"\n",
    "      \"seconds\" % (t4 - t3).total_seconds())\n",
    "print(\"\\tCompute stats using object: %f \"\n",
    "      \"seconds\" % (t3 - t2).total_seconds())\n",
    "\n",
    "# PLOTTING Approach #1\n",
    "\n",
    "# Just a test for plotting results with zero buffer\n",
    "zd2 = wrl.zonalstats.ZonalDataPoint(xy_, cats, buf=0)\n",
    "# Create instance of type GridPointsToPoly from zonal data object\n",
    "obj2 = wrl.zonalstats.GridPointsToPoly(zd2)\n",
    "isecs2 = obj2.zdata.isecs"
   ]
  },
  {
   "cell_type": "code",
   "execution_count": null,
   "metadata": {
    "collapsed": false
   },
   "outputs": [],
   "source": [
    "# Illustrate results for an example catchment i\n",
    "i = 6  # try e.g. 48, 100\n",
    "fig = pl.figure(figsize=(10,8))\n",
    "ax = fig.add_subplot(111, aspect=\"equal\")\n",
    "\n",
    "# Target polygon patches\n",
    "trg_patches = [patches.Polygon(item, True) for item in obj1.zdata.trg.data]\n",
    "trg_patch = [trg_patches[i]]\n",
    "p = PatchCollection(trg_patch, facecolor=\"None\", edgecolor=\"black\",\n",
    "                    linewidth=2)\n",
    "ax.add_collection(p)\n",
    "\n",
    "# pips\n",
    "sources = obj1.zdata.src.data\n",
    "pl.scatter(sources[:, 0], sources[:, 1], s=200, c=\"grey\",\n",
    "            edgecolor=\"None\", label=\"all points\")\n",
    "pl.scatter(isecs2[i][:, 0], isecs2[i][:, 1], s=200, c=\"green\",\n",
    "            edgecolor=\"None\", label=\"buffer=0 m\")\n",
    "pl.scatter(isecs1[i][:, 0], isecs1[i][:, 1], s=50, c=\"red\",\n",
    "            edgecolor=\"None\", label=\"buffer=500 m\")\n",
    "bbox = wrl.zonalstats.get_bbox(cats[i][:, 0], cats[i][:, 1])\n",
    "pl.xlim(bbox[\"left\"] - 2000, bbox[\"right\"] + 2000)\n",
    "pl.ylim(bbox[\"bottom\"] - 2000, bbox[\"top\"] + 2000)\n",
    "pl.legend()\n",
    "pl.title(\"Catchment #%d: Points considered for stats\" % i)"
   ]
  },
  {
   "cell_type": "code",
   "execution_count": null,
   "metadata": {
    "collapsed": false
   },
   "outputs": [],
   "source": [
    "# Plot average rainfall and original data\n",
    "testplot(trg_patches, avg1, xy, data,\n",
    "         title=\"Catchment rainfall mean (GridPointsToPoly)\")"
   ]
  },
  {
   "cell_type": "code",
   "execution_count": null,
   "metadata": {
    "collapsed": false
   },
   "outputs": [],
   "source": [
    "testplot(trg_patches, var1, xy, data,\n",
    "         levels=np.arange(0, np.max(var1), 1.),\n",
    "         title=\"Catchment rainfall variance (GridPointsToPoly)\")"
   ]
  },
  {
   "cell_type": "code",
   "execution_count": null,
   "metadata": {
    "collapsed": false
   },
   "outputs": [],
   "source": [
    "###########################################################################\n",
    "# Approach #2: Compute weighted mean based on fraction of source polygons\n",
    "# in target polygons\n",
    "#\n",
    "# - This is more accurate (no assumptions), but probably slower...\n",
    "###########################################################################\n",
    "\n",
    "# Create vertices for each grid cell\n",
    "# (MUST BE DONE IN NATIVE RADOLAN COORDINATES)\n",
    "grdverts = wrl.zonalstats.grid_centers_to_vertices(x_radolan[mask],\n",
    "                                                   y_radolan[mask], 1.,\n",
    "                                                   1.)\n",
    "# And reproject to Cartesian reference system (here: GK2)\n",
    "grdverts = wrl.georef.reproject(grdverts,\n",
    "                                projection_source=proj_stereo,\n",
    "                                projection_target=proj_gk)\n",
    "\n",
    "t1 = dt.datetime.now()\n",
    "\n",
    "# Create instance of type ZonalDataPoly from source grid and\n",
    "# catchment array\n",
    "zd = wrl.zonalstats.ZonalDataPoly(grdverts, cats, srs=proj_gk)\n",
    "# dump to file\n",
    "zd.dump_vector('test_zonal_poly_cart')\n",
    "# Create instance of type GridPointsToPoly from zonal data object\n",
    "obj3 = wrl.zonalstats.GridCellsToPoly(zd)\n",
    "\n",
    "t2 = dt.datetime.now()\n",
    "\n",
    "# Compute stats for target polygons\n",
    "avg3 = obj3.mean(data_.ravel())\n",
    "var3 = obj3.var(data_.ravel())\n",
    "\n",
    "t3 = dt.datetime.now()\n",
    "\n",
    "# Create instance of type GridCellsToPoly from zonal data file\n",
    "obj3 = wrl.zonalstats.GridCellsToPoly('test_zonal_poly_cart')\n",
    "\n",
    "t4 = dt.datetime.now()\n",
    "\n",
    "print(\"Approach #2 computation time:\")\n",
    "print(\"\\tCreate object from scratch: %f \"\n",
    "      \"seconds\" % (t2 - t1).total_seconds())\n",
    "print(\"\\tCreate object from dumped file: %f \"\n",
    "      \"seconds\" % (t4 - t3).total_seconds())\n",
    "print(\"\\tCompute stats using object: %f \"\n",
    "      \"seconds\" % (t3 - t2).total_seconds())"
   ]
  },
  {
   "cell_type": "code",
   "execution_count": null,
   "metadata": {
    "collapsed": false
   },
   "outputs": [],
   "source": [
    "# PLOTTING Approach #2\n",
    "\n",
    "# Target polygon patches\n",
    "trg_patches = [patches.Polygon(item, True) for item in obj3.zdata.trg.data]\n",
    "\n",
    "# Plot average rainfall and original data\n",
    "testplot(trg_patches, avg3, xy, data,\n",
    "         title=\"Catchment rainfall mean (GridCellsToPoly)\")"
   ]
  },
  {
   "cell_type": "code",
   "execution_count": null,
   "metadata": {
    "collapsed": false
   },
   "outputs": [],
   "source": [
    "testplot(trg_patches, var3, xy, data,\n",
    "         levels=np.arange(0, np.max(var3), 1.),\n",
    "         title=\"Catchment rainfall variance (GridCellsToPoly)\")"
   ]
  },
  {
   "cell_type": "code",
   "execution_count": null,
   "metadata": {
    "collapsed": false
   },
   "outputs": [],
   "source": [
    "# Illustrate results for an example catchment i\n",
    "i = 6  # try any index between 0 and 13\n",
    "fig = pl.figure(figsize=(10,8))\n",
    "ax = fig.add_subplot(111, aspect=\"equal\")\n",
    "\n",
    "# Grid cell patches\n",
    "src_index = obj3.zdata.get_source_index(i)\n",
    "grd_patches = [patches.Polygon(item)\n",
    "               for item in obj3.zdata.src.get_data_by_idx(src_index)]\n",
    "p = PatchCollection(grd_patches, facecolor=\"None\", edgecolor=\"black\")\n",
    "ax.add_collection(p)\n",
    "\n",
    "# Target polygon patches\n",
    "trg_patch = [trg_patches[i]]\n",
    "p = PatchCollection(trg_patch, facecolor=\"None\", edgecolor=\"red\",\n",
    "                    linewidth=2)\n",
    "ax.add_collection(p)\n",
    "\n",
    "# View the actual intersections\n",
    "isecs = obj3.zdata.get_isec(i)\n",
    "isec_patches = wrl.zonalstats.numpy_to_pathpatch(isecs)\n",
    "colors = 100 * np.linspace(0, 1., len(isec_patches))\n",
    "p = PatchCollection(isec_patches, cmap=pl.cm.jet, alpha=0.5)\n",
    "p.set_array(np.array(colors))\n",
    "ax.add_collection(p)\n",
    "\n",
    "bbox = wrl.zonalstats.get_bbox(cats[i][:, 0], cats[i][:, 1])\n",
    "pl.xlim(bbox[\"left\"] - 2000, bbox[\"right\"] + 2000)\n",
    "pl.ylim(bbox[\"bottom\"] - 2000, bbox[\"top\"] + 2000)\n",
    "pl.draw()"
   ]
  },
  {
   "cell_type": "code",
   "execution_count": null,
   "metadata": {
    "collapsed": false
   },
   "outputs": [],
   "source": [
    "# Compare estimates\n",
    "maxlim = np.max(np.concatenate((avg1, avg3)))\n",
    "fig = pl.figure(figsize=(10, 8))\n",
    "ax = fig.add_subplot(111, aspect=\"equal\")\n",
    "pl.scatter(avg1, avg3, edgecolor=\"None\", alpha=0.5)\n",
    "pl.xlabel(\"Average of points in or close to polygon (mm)\")\n",
    "pl.ylabel(\"Area-weighted average (mm)\")\n",
    "pl.xlim(0, maxlim)\n",
    "pl.ylim(0, maxlim)\n",
    "pl.plot([-1, maxlim + 1], [-1, maxlim + 1], color=\"black\")\n",
    "pl.show()"
   ]
  },
  {
   "cell_type": "markdown",
   "metadata": {},
   "source": [
    "## Zonal Stats Polar Grid"
   ]
  },
  {
   "cell_type": "code",
   "execution_count": null,
   "metadata": {
    "collapsed": true
   },
   "outputs": [],
   "source": [
    "filename = wrl.util.get_wradlib_data_file('hdf5/rainsum_boxpol_20140609.h5')\n",
    "data, attrib = wrl.io.from_hdf5(filename)\n",
    "\n",
    "# get Lat, Lon, range, azimuth, rays, bins out of radar data\n",
    "lat1 = attrib['Latitude']\n",
    "lon1 = attrib['Longitude']\n",
    "r1 = attrib['r']\n",
    "a1 = attrib['az']\n",
    "\n",
    "rays = a1.shape[0]\n",
    "bins = r1.shape[0]\n",
    "\n",
    "# create polar grid polygon vertices in lat,lon\n",
    "radar_ll = wrl.georef.polar2polyvert(r1, a1, (lon1, lat1))\n",
    "\n",
    "# create polar grid centroids in lat,lon\n",
    "rlon, rlat = wrl.georef.polar2centroids(r1, a1, (lon1, lat1))\n",
    "radar_llc = np.dstack((rlon, rlat))\n",
    "\n",
    "# setup OSR objects\n",
    "proj_gk = osr.SpatialReference()\n",
    "proj_gk.ImportFromEPSG(31466)\n",
    "proj_ll = osr.SpatialReference()\n",
    "proj_ll.ImportFromEPSG(4326)\n",
    "\n",
    "# project ll grids to GK2\n",
    "radar_gk = wrl.georef.reproject(radar_ll, projection_source=proj_ll,\n",
    "                                projection_target=proj_gk)\n",
    "radar_gkc = wrl.georef.reproject(radar_llc, projection_source=proj_ll,\n",
    "                                 projection_target=proj_gk)\n",
    "\n",
    "# reshape\n",
    "radar_gk.shape = (rays, bins, 5, 2)\n",
    "radar_gkc.shape = (rays, bins, 2)\n",
    "shpfile = wrl.util.get_wradlib_data_file('shapefiles/agger/agger_merge.shp')\n",
    "dataset, inLayer = wrl.io.open_shape(shpfile)\n",
    "cats, keys = wrl.georef.get_shape_coordinates(inLayer)\n",
    "\n",
    "\n",
    "# create synthetic box\n",
    "box = np.array([[2600000., 5630000.], [2600000., 5640000.],\n",
    "                [2610000., 5640000.], [2610000., 5630000.],\n",
    "                [2600000., 5630000.]])\n",
    "l = list(cats)\n",
    "\n",
    "# Todo: remove after testing\n",
    "l = l[0:3]\n",
    "\n",
    "l.append(box)\n",
    "cats = np.array(l)\n",
    "bbox = inLayer.GetExtent()\n",
    "\n",
    "# create catchment bounding box\n",
    "buffer = 5000.\n",
    "bbox = dict(left=bbox[0] - buffer, right=bbox[1] + buffer,\n",
    "            bottom=bbox[2] - buffer, top=bbox[3] + buffer)\n",
    "\n",
    "mask, shape = wrl.zonalstats.mask_from_bbox(radar_gkc[..., 0],\n",
    "                                            radar_gkc[..., 1],\n",
    "                                            bbox,\n",
    "                                            polar=True)\n",
    "\n",
    "radar_gkc_ = radar_gkc[mask, :]\n",
    "radar_gk_ = radar_gk[mask]\n",
    "data_ = data[mask]"
   ]
  },
  {
   "cell_type": "code",
   "execution_count": null,
   "metadata": {
    "collapsed": false
   },
   "outputs": [],
   "source": [
    "###########################################################################\n",
    "# Approach #1: Assign grid points to each polygon and compute the average.\n",
    "#\n",
    "# - Uses matplotlib.path.Path\n",
    "# - Each point is weighted equally (assumption: polygon >> grid cell)\n",
    "# - this is quick, but theoretically dirty\n",
    "# - for polar grids a range-area dependency has to be taken into account\n",
    "###########################################################################\n",
    "\n",
    "t1 = dt.datetime.now()\n",
    "\n",
    "# Create instance of type ZonalDataPoint from source grid and\n",
    "# catchment array\n",
    "zd = wrl.zonalstats.ZonalDataPoint(radar_gkc_, cats, srs=proj_gk,\n",
    "                                   buf=500.)\n",
    "# dump to file\n",
    "zd.dump_vector('test_zonal_points')\n",
    "# Create instance of type GridPointsToPoly from zonal data object\n",
    "obj1 = wrl.zonalstats.GridPointsToPoly(zd)\n",
    "\n",
    "isecs1 = obj1.zdata.isecs\n",
    "t2 = dt.datetime.now()\n",
    "\n",
    "# Compute stats for target polygons\n",
    "avg1 = obj1.mean(data_.ravel())\n",
    "var1 = obj1.var(data_.ravel())\n",
    "\n",
    "t3 = dt.datetime.now()\n",
    "\n",
    "# Create instance of type GridPointsToPoly from zonal data file\n",
    "obj1 = wrl.zonalstats.GridPointsToPoly('test_zonal_points')\n",
    "\n",
    "t4 = dt.datetime.now()\n",
    "\n",
    "print (\"Approach #1 computation time:\")\n",
    "print(\n",
    "\"\\tCreate object from scratch: %f seconds\" % (t2 - t1).total_seconds())\n",
    "print(\n",
    "\"\\tCreate object from dumped file: %f seconds\" % (t4 - t3).total_seconds())\n",
    "print(\n",
    "\"\\tCompute stats using object: %f seconds\" % (t3 - t2).total_seconds())"
   ]
  },
  {
   "cell_type": "code",
   "execution_count": null,
   "metadata": {
    "collapsed": false
   },
   "outputs": [],
   "source": [
    "# PLOTTING Approach #2\n",
    "\n",
    "# Just a test for plotting results with zero buffer\n",
    "zd = wrl.zonalstats.ZonalDataPoint(radar_gkc_, cats, buf=0)\n",
    "# Create instance of type GridPointsToPoly from zonal data object\n",
    "obj2 = wrl.zonalstats.GridPointsToPoly(zd)\n",
    "isecs2 = obj2.zdata.isecs"
   ]
  },
  {
   "cell_type": "code",
   "execution_count": null,
   "metadata": {
    "collapsed": false
   },
   "outputs": [],
   "source": [
    "# Illustrate results for an example catchment i\n",
    "i = 0  # try e.g. 6, 12\n",
    "fig = pl.figure(figsize=(10,8))\n",
    "ax = fig.add_subplot(111, aspect=\"equal\")\n",
    "\n",
    "# Target polygon patches\n",
    "trg_patches = [patches.Polygon(item, True) for item in obj1.zdata.trg.data]\n",
    "trg_patch = [trg_patches[i]]\n",
    "p = PatchCollection(trg_patch, facecolor=\"None\", edgecolor=\"black\",\n",
    "                    linewidth=2)\n",
    "ax.add_collection(p)\n",
    "\n",
    "# pips\n",
    "sources = obj1.zdata.src.data\n",
    "pl.scatter(sources[:, 0], sources[:, 1], s=200, c=\"grey\",\n",
    "           edgecolor=\"None\", label=\"all points\")\n",
    "pl.scatter(isecs2[i][:, 0], isecs2[i][:, 1], s=200, c=\"green\",\n",
    "           edgecolor=\"None\", label=\"buffer=0 m\")\n",
    "pl.scatter(isecs1[i][:, 0], isecs1[i][:, 1], s=50, c=\"red\",\n",
    "           edgecolor=\"None\", label=\"buffer=500 m\")\n",
    "bbox = wrl.zonalstats.get_bbox(cats[i][:, 0], cats[i][:, 1])\n",
    "pl.xlim(bbox[\"left\"] - 2000, bbox[\"right\"] + 2000)\n",
    "pl.ylim(bbox[\"bottom\"] - 2000, bbox[\"top\"] + 2000)\n",
    "pl.legend()\n",
    "pl.title(\"Catchment #%d: Points considered for stats\" % i)"
   ]
  },
  {
   "cell_type": "code",
   "execution_count": null,
   "metadata": {
    "collapsed": false
   },
   "outputs": [],
   "source": [
    "# Plot average rainfall and original data\n",
    "testplot(trg_patches, avg1, radar_gkc, data,\n",
    "         title=\"Catchment rainfall mean (GridPointsToPoly)\")"
   ]
  },
  {
   "cell_type": "code",
   "execution_count": null,
   "metadata": {
    "collapsed": false
   },
   "outputs": [],
   "source": [
    "testplot(trg_patches, var1, radar_gkc, data, levels=np.arange(0, 20, 1.0),\n",
    "         title=\"Catchment rainfall variance (GridPointsToPoly)\")"
   ]
  },
  {
   "cell_type": "code",
   "execution_count": null,
   "metadata": {
    "collapsed": false
   },
   "outputs": [],
   "source": [
    "###########################################################################\n",
    "# Approach #2: Compute weighted mean based on fraction of source polygons\n",
    "# in target polygons\n",
    "#\n",
    "# - This is more accurate (no assumptions), but probably slower...\n",
    "###########################################################################\n",
    "\n",
    "t1 = dt.datetime.now()\n",
    "\n",
    "# Create instance of type ZonalDataPoly from source grid and\n",
    "# catchment array\n",
    "zd = wrl.zonalstats.ZonalDataPoly(radar_gk_, cats, srs=proj_gk)\n",
    "# dump to file\n",
    "zd.dump_vector('test_zonal_poly')\n",
    "# Create instance of type GridPointsToPoly from zonal data object\n",
    "obj3 = wrl.zonalstats.GridCellsToPoly(zd)\n",
    "\n",
    "obj3.zdata.dump_vector('test_zonal_poly')\n",
    "t2 = dt.datetime.now()\n",
    "\n",
    "avg3 = obj3.mean(data_.ravel())\n",
    "var3 = obj3.var(data_.ravel())\n",
    "\n",
    "t3 = dt.datetime.now()\n",
    "\n",
    "# Create instance of type GridCellsToPoly from zonal data file\n",
    "obj4 = wrl.zonalstats.GridCellsToPoly('test_zonal_poly')\n",
    "\n",
    "t4 = dt.datetime.now()\n",
    "\n",
    "print (\"Approach #2 computation time:\")\n",
    "print(\n",
    "\"\\tCreate object from scratch: %f seconds\" % (t2 - t1).total_seconds())\n",
    "print(\n",
    "\"\\tCreate object from dumped file: %f seconds\" % (t4 - t3).total_seconds())\n",
    "print(\n",
    "\"\\tCompute stats using object: %f seconds\" % (t3 - t2).total_seconds())\n",
    "\n",
    "obj3.zdata.trg.dump_raster('test_zonal_hdr.nc', 'netCDF', 'mean',\n",
    "                           pixel_size=100.)\n",
    "\n",
    "obj3.zdata.trg.dump_vector('test_zonal_shp')\n",
    "obj3.zdata.trg.dump_vector('test_zonal_json.geojson', 'GeoJSON')\n",
    "\n",
    "# Target polygon patches\n",
    "trg_patches = [patches.Polygon(item, True) for item in obj3.zdata.trg.data]"
   ]
  },
  {
   "cell_type": "code",
   "execution_count": null,
   "metadata": {
    "collapsed": false
   },
   "outputs": [],
   "source": [
    "# Plot average rainfall and original data\n",
    "testplot(trg_patches, avg3, radar_gkc, data,\n",
    "         title=\"Catchment rainfall mean (PolarGridCellsToPoly)\")"
   ]
  },
  {
   "cell_type": "code",
   "execution_count": null,
   "metadata": {
    "collapsed": false
   },
   "outputs": [],
   "source": [
    "testplot(trg_patches, var3, radar_gkc, data, levels=np.arange(0, 20, 1.0),\n",
    "         title=\"Catchment rainfall variance (PolarGridCellsToPoly)\")"
   ]
  },
  {
   "cell_type": "code",
   "execution_count": null,
   "metadata": {
    "collapsed": false
   },
   "outputs": [],
   "source": [
    "# Illustrate results for an example catchment i\n",
    "i = 0  # try any index between 0 and 13\n",
    "fig = pl.figure(figsize=(10,8))\n",
    "ax = fig.add_subplot(111, aspect=\"equal\")\n",
    "\n",
    "# Grid cell patches\n",
    "src_index = obj3.zdata.get_source_index(i)\n",
    "grd_patches = [patches.Polygon(item) for item in\n",
    "               obj3.zdata.src.get_data_by_idx(src_index)]\n",
    "p = PatchCollection(grd_patches, facecolor=\"None\", edgecolor=\"black\")\n",
    "ax.add_collection(p)\n",
    "\n",
    "# Target polygon patches\n",
    "trg_patch = [trg_patches[i]]\n",
    "p = PatchCollection(trg_patch, facecolor=\"None\", edgecolor=\"red\",\n",
    "                    linewidth=2)\n",
    "ax.add_collection(p)\n",
    "\n",
    "# View the actual intersections\n",
    "t1 = dt.datetime.now()\n",
    "isecs = obj3.zdata.get_isec(i)\n",
    "isec_patches = wrl.zonalstats.numpy_to_pathpatch(isecs)\n",
    "colors = 100 * np.linspace(0, 1., len(isec_patches))\n",
    "p = PatchCollection(isec_patches, cmap=pl.cm.jet, alpha=0.5)\n",
    "p.set_array(np.array(colors))\n",
    "ax.add_collection(p)\n",
    "\n",
    "bbox = wrl.zonalstats.get_bbox(cats[i][:, 0], cats[i][:, 1])\n",
    "pl.xlim(bbox[\"left\"] - 2000, bbox[\"right\"] + 2000)\n",
    "pl.ylim(bbox[\"bottom\"] - 2000, bbox[\"top\"] + 2000)\n",
    "pl.draw()\n",
    "\n",
    "t2 = dt.datetime.now()\n",
    "print(\"plot intersection takes: %f seconds\" % (t2 - t1).total_seconds())"
   ]
  },
  {
   "cell_type": "code",
   "execution_count": null,
   "metadata": {
    "collapsed": false
   },
   "outputs": [],
   "source": [
    "# Compare estimates\n",
    "maxlim = np.max(np.concatenate((avg1, avg3)))\n",
    "fig = pl.figure(figsize=(10, 8))\n",
    "ax = fig.add_subplot(111, aspect=\"equal\")\n",
    "pl.scatter(avg1, avg3, edgecolor=\"None\", alpha=0.5)\n",
    "pl.xlabel(\"Average of points in or close to polygon (mm)\")\n",
    "pl.ylabel(\"Area-weighted average (mm)\")\n",
    "pl.xlim(0, maxlim)\n",
    "pl.ylim(0, maxlim)\n",
    "pl.plot([-1, maxlim + 1], [-1, maxlim + 1], color=\"black\")\n",
    "pl.show()"
   ]
  }
 ],
 "metadata": {
  "celltoolbar": "Edit Metadata",
  "kernelspec": {
   "display_name": "Python 2",
   "language": "python",
   "name": "python2"
  },
  "language_info": {
   "codemirror_mode": {
    "name": "ipython",
    "version": 2
   },
   "file_extension": ".py",
   "mimetype": "text/x-python",
   "name": "python",
   "nbconvert_exporter": "python",
   "pygments_lexer": "ipython2",
   "version": "2.7.11"
  }
 },
 "nbformat": 4,
 "nbformat_minor": 0
}
