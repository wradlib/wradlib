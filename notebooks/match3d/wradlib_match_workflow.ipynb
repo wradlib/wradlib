{
 "cells": [
  {
   "cell_type": "markdown",
   "metadata": {
    "nbsphinx": "hidden"
   },
   "source": [
    "This notebook is part of the $\\omega radlib$  documentation: http://wradlib.org/wradlib-docs.\n",
    "\n",
    "Copyright (c) 2016, $\\omega radlib$  developers.\n",
    "Distributed under the MIT License. See LICENSE.txt for more info."
   ]
  },
  {
   "cell_type": "markdown",
   "metadata": {},
   "source": [
    "# Match spaceborn PR (GPM/TRMM) with ground radars"
   ]
  },
  {
   "cell_type": "markdown",
   "metadata": {},
   "source": [
    "The idea is to match ground radar (GR) and space-born radar (PR) measurements in order to create spatially and temporally coicident samples without interpolation. The procedure had been suggested [Schwaller and Morris (2011)](http://journals.ametsoc.org/doi/pdf/10.1175/2010JTECHA1403.1), and is based on IDL code provided by Rob Warren (Monash University, Australia). \n",
    "\n",
    "The basic principle is illustrated in Fig. 2 of the original paper of Schwaller and Morris (2011):\n",
    "\n",
    "![image](fig2_schwaller_morris_2011.png)\n",
    "\n",
    "\n",
    "*Quote: \"[...] The matchup method averages PR and GR full-resolution space and ground radar bins within the minimum volume needed to produce a spatially coincident sample. The along-ray PR data are averaged \n",
    "only in the vertical, between the top and bottom height of each GR elevation sweep it intersects [...] \n",
    "The GR data are averaged only in the horizontal within the individual elevation sweep surfaces, over an \n",
    "approximately circular area centered on each intersecting PR ray’s parallax-adjusted profile [...]\".*\n",
    "\n",
    "This becomes clearer in Fig. 3:\n",
    "![image](fig3_schwaller_morris_2011.png)\n",
    "\n",
    "Schwaller, MR, and Morris, KR. 2011. A ground validation network for the Global Precipitation Measurement mission. J. Atmos. Oceanic Technol., 28, 301-319."
   ]
  },
  {
   "cell_type": "markdown",
   "metadata": {},
   "source": [
    "## Conventions\n",
    "\n",
    "This code is based on the following conventions:\n",
    "\n",
    "- `gr` indicates **g**round **r**adar\n",
    "- `pr` indicates space-born **p**recipitation **r**adar (TRMM or GPM)\n",
    "\n",
    "The base routines are designed to process one GR sweep at a time. If a full GR volume with `nelev` of sweeps is available, you can iterate over each sweep. In this code, `ee` is an index that points to one of the `nelev` sweeps/elevation angles. Accordingly, a **GR** data set will be organised as an array of shape `(nelev_gr, nray_gr, ngate_gr)`.\n",
    "\n",
    "A **PR** data set is typically organised as arrays with dimensions `(nscan_pr, nray_pr, ngate_pr)`.\n",
    "\n",
    "*Please note*: the GR and PR datasets are managed by using convenience functions from the module file `io_func.py` located in the same directory as this notebook. "
   ]
  },
  {
   "cell_type": "code",
   "execution_count": null,
   "metadata": {
    "collapsed": false
   },
   "outputs": [],
   "source": [
    "import wradlib as wradlib\n",
    "import matplotlib.pyplot as pl\n",
    "import matplotlib as mpl\n",
    "from matplotlib.collections import PatchCollection\n",
    "from matplotlib.colors import from_levels_and_colors\n",
    "from matplotlib.path import Path\n",
    "import matplotlib.patches as patches\n",
    "import matplotlib.cm as cm\n",
    "import warnings\n",
    "warnings.filterwarnings('ignore')\n",
    "try:\n",
    "    get_ipython().magic(\"matplotlib inline\")\n",
    "except:\n",
    "    pl.ion()\n",
    "import numpy as np\n",
    "import datetime as dt\n",
    "from osgeo import osr"
   ]
  },
  {
   "cell_type": "code",
   "execution_count": null,
   "metadata": {
    "collapsed": false
   },
   "outputs": [],
   "source": [
    "# Import from external libraries\n",
    "#    these functions and objects will finally have to be moved to wradlib!\n",
    "# use relative import\n",
    "try:\n",
    "    from io_func import *\n",
    "except:\n",
    "    from . io_func import *"
   ]
  },
  {
   "cell_type": "code",
   "execution_count": null,
   "metadata": {
    "collapsed": true
   },
   "outputs": [],
   "source": [
    "# Space-born precipitation radar parameters\n",
    "pr_pars = {\"trmm\": {\n",
    "   \"zt\": 402500.,  # orbital height of TRMM (post boost)   APPROXIMATION!\n",
    "   \"dr\": 250.,     # gate spacing of TRMM\n",
    "    }, \"gpm\": {\n",
    "   \"zt\": 407000.,  # orbital height of GPM                 APPROXIMATION!\n",
    "   \"dr\": 125.      # gate spacing of GPM\n",
    "}}"
   ]
  },
  {
   "cell_type": "code",
   "execution_count": null,
   "metadata": {
    "collapsed": true
   },
   "outputs": [],
   "source": [
    "# Set parameters for this procedure\n",
    "bw_pr = 0.71                  # PR beam width\n",
    "platf = \"gpm\"                 # PR platform/product: one out of [\"gpm\", \"trmm_2a23\", \"trmm_2a25\"]\n",
    "zt = pr_pars[platf][\"zt\"]     # PR orbit height (meters)\n",
    "dr_pr = pr_pars[platf][\"dr\"]  # PR gate length (meters)\n",
    "ee = 2                        # Index that points to the GR elevation angle to be used"
   ]
  },
  {
   "cell_type": "code",
   "execution_count": null,
   "metadata": {
    "collapsed": false
   },
   "outputs": [],
   "source": [
    "# define GPM data set\n",
    "gpm_file = wradlib.util.get_wradlib_data_file('gpm/2A-RW-BRS.GPM.Ku.V6-20160118.20141206-S095002-E095137.004383.V04A.HDF5')\n",
    "\n",
    "# define matching ground radar file\n",
    "gr2gpm_file = wradlib.util.get_wradlib_data_file('hdf5/IDR66_20141206_094829.vol.h5')\n",
    "\n",
    "# define TRMM data sets\n",
    "trmm_2a23_file = wradlib.util.get_wradlib_data_file('trmm/2A-RW-BRS.TRMM.PR.2A23.20100206-S111422-E111519.069662.7.HDF')\n",
    "trmm_2a25_file = wradlib.util.get_wradlib_data_file('trmm/2A-RW-BRS.TRMM.PR.2A25.20100206-S111422-E111519.069662.7.HDF')\n",
    "\n",
    "# define matching ground radar file\n",
    "gr2trmm_file = wradlib.util.get_wradlib_data_file('hdf5/IDR66_20100206_111233.vol.h5')"
   ]
  },
  {
   "cell_type": "markdown",
   "metadata": {},
   "source": [
    "## Data Input"
   ]
  },
  {
   "cell_type": "markdown",
   "metadata": {},
   "source": [
    "### Read and organize the data"
   ]
  },
  {
   "cell_type": "code",
   "execution_count": null,
   "metadata": {
    "collapsed": false
   },
   "outputs": [],
   "source": [
    "# read spaceborn PR data\n",
    "if platf == \"gpm\":\n",
    "    pr_data = read_gpm(gpm_file)\n",
    "elif platf == \"trmm\":\n",
    "    try:\n",
    "        pr_data = read_trmm(trmm_2a23_file, trmm_2a25_file)\n",
    "        print(\"test\")\n",
    "    except IOError:\n",
    "        # Mostly needed on Windows Anaconda (netcdf4 without hdf4 support)\n",
    "        pr_data = read_trmm_gdal(trmm_2a23_file, trmm_2a25_file)\n",
    "else:\n",
    "    raise(\"Invalid platform\")\n",
    "# read matching GR data\n",
    "if platf == \"gpm\":\n",
    "    gr_data = read_gr2(gr2gpm_file)\n",
    "elif platf==\"trmm\":\n",
    "    gr_data = read_gr2(gr2trmm_file)\n",
    "else:\n",
    "    raise(\"Invalid platform\")"
   ]
  },
  {
   "cell_type": "markdown",
   "metadata": {},
   "source": [
    "### Extract relevant GR data and meta-data"
   ]
  },
  {
   "cell_type": "code",
   "execution_count": null,
   "metadata": {
    "collapsed": false
   },
   "outputs": [],
   "source": [
    "# number of rays in gr sweep\n",
    "nray_gr = gr_data['nbeam'].astype(\"i4\")[ee]\n",
    "# number of gates in gr beam\n",
    "ngate_gr = gr_data['ngate'].astype(\"i4\")[ee]\n",
    "# number of sweeps\n",
    "nelev = gr_data['ntilt']\n",
    "# elevation of sweep (degree)\n",
    "elev = gr_data['elang'][ee]\n",
    "# gate length (meters)\n",
    "dr_gr = gr_data['dr'][ee]\n",
    "# reflectivity array of sweep\n",
    "ref_gr = gr_data['refl'][ee]\n",
    "# sweep datetime stamp\n",
    "date_gr = gr_data['sdate'][ee]\n",
    "# range of first gate\n",
    "r0_gr = gr_data['r0'][ee]                    \n",
    "# azimuth angle of first beam\n",
    "a0_gr = gr_data['a0'][ee]\n",
    "# Longitude of GR\n",
    "lon0_gr = gr_data['lon']\n",
    "# Latitude of GR\n",
    "lat0_gr = gr_data['lat']\n",
    "# Altitude of GR (meters)\n",
    "alt0_gr = gr_data['alt']\n",
    "# Beam width of GR (degree)\n",
    "bw_gr = 1."
   ]
  },
  {
   "cell_type": "markdown",
   "metadata": {},
   "source": [
    "### Extract relevant PR data and meta-data"
   ]
  },
  {
   "cell_type": "code",
   "execution_count": null,
   "metadata": {
    "collapsed": false
   },
   "outputs": [],
   "source": [
    "# Longitudes of PR scans\n",
    "pr_lon = pr_data['lon']\n",
    "# Latitudes of PR scans\n",
    "pr_lat = pr_data['lat']\n",
    "# Precip flag\n",
    "pflag = pr_data['pflag']\n",
    "# Number of scans on PR data\n",
    "nscan_pr= pr_data['nscan']\n",
    "# Number of rays in one PR scan\n",
    "nray_pr = pr_data['nray']\n",
    "# Number of gates in one PR ray\n",
    "ngate_pr = pr_data['nbin']"
   ]
  },
  {
   "cell_type": "markdown",
   "metadata": {},
   "source": [
    "## Georeferencing"
   ]
  },
  {
   "cell_type": "markdown",
   "metadata": {},
   "source": [
    "### Set fundamental georeferencing parameters"
   ]
  },
  {
   "cell_type": "code",
   "execution_count": null,
   "metadata": {
    "collapsed": false,
    "scrolled": true
   },
   "outputs": [],
   "source": [
    "# Calculate equivalent earth radius\n",
    "wgs84 = wradlib.georef.get_default_projection()\n",
    "re1 = wradlib.georef.get_earth_radius(lat0_gr, wgs84) * 4./3.\n",
    "print(\"eff. Earth radius 1:\", re1)\n",
    "a = wgs84.GetSemiMajor()\n",
    "b = wgs84.GetSemiMinor()\n",
    "print(\"SemiMajor, SemiMinor:\", a, b)\n",
    "\n",
    "# Set up aeqd-projection gr-centered\n",
    "rad = wradlib.georef.proj4_to_osr(('+proj=aeqd +lon_0={lon:f} ' + \n",
    "                                   '+lat_0={lat:f} +a={a:f} ' +\n",
    "                                   '+b={b:f}').format(lon=lon0_gr,\n",
    "                                                      lat=lat0_gr,\n",
    "                                                      a=a, b=b))\n",
    "re2 = wradlib.georef.get_earth_radius(lat0_gr, rad) * 4./3.\n",
    "print(\"eff. Earth radius 2:\", re2)"
   ]
  },
  {
   "cell_type": "markdown",
   "metadata": {},
   "source": [
    "### Georeference GR data"
   ]
  },
  {
   "cell_type": "code",
   "execution_count": null,
   "metadata": {
    "collapsed": false
   },
   "outputs": [],
   "source": [
    "# create gr range and azimuth arrays\n",
    "rmax_gr = r0_gr + ngate_gr * dr_gr\n",
    "r_gr = np.arange(0, ngate_gr) * dr_gr + dr_gr/2.\n",
    "az_gr = np.arange(0, nray_gr) - a0_gr\n",
    "print(\"Range/Azi-Shape:\", r_gr.shape, az_gr.shape)\n",
    "\n",
    "# create gr lonlat grid\n",
    "gr_polargrid = np.meshgrid(r_gr, az_gr)\n",
    "gr_lon, gr_lat, gr_alt = wradlib.georef.polar2lonlatalt_n(gr_polargrid[0], gr_polargrid[1], elev, (lon0_gr, lat0_gr, alt0_gr ))\n",
    "gr_ll = np.dstack((gr_lon, gr_lat, gr_alt))\n",
    "print(\"LonLatAlt-Grid-Shape\", gr_ll.shape)\n",
    "\n",
    "# reproject to xyz\n",
    "gr_xyz = wradlib.georef.reproject(gr_ll, projection_source=wgs84, projection_target=rad)\n",
    "print(\"XYZ-Grid-Shape:\", gr_xyz.shape)\n",
    "\n",
    "# get radar domain (outer ring)\n",
    "gr_domain = gr_xyz[:,-1,0:2]\n",
    "gr_domain = np.vstack((gr_domain, gr_domain[0]))\n",
    "print(\"Domain-Shape:\", gr_domain.shape)"
   ]
  },
  {
   "cell_type": "markdown",
   "metadata": {},
   "source": [
    "### Georeference PR data"
   ]
  },
  {
   "cell_type": "code",
   "execution_count": null,
   "metadata": {
    "collapsed": false
   },
   "outputs": [],
   "source": [
    "pr_x, pr_y = wradlib.georef.reproject(pr_lon, pr_lat, \n",
    "                                      projection_source=wgs84, \n",
    "                                      projection_target=rad)\n",
    "pr_xy = np.dstack((pr_x, pr_y))\n",
    "print(\"PR-GRID-Shapes:\", pr_x.shape, pr_y.shape, pr_xy.shape)"
   ]
  },
  {
   "cell_type": "markdown",
   "metadata": {},
   "source": [
    "## Data handling"
   ]
  },
  {
   "cell_type": "markdown",
   "metadata": {},
   "source": [
    "### Subset relevant PR data"
   ]
  },
  {
   "cell_type": "code",
   "execution_count": null,
   "metadata": {
    "collapsed": false
   },
   "outputs": [],
   "source": [
    "# Create ZonalData for spatial subsetting (inside GR range domain)\n",
    "\n",
    "# get precip indexes\n",
    "precip_mask = (pflag == 2) & wradlib.zonalstats.get_clip_mask(pr_xy, gr_domain, rad)\n",
    "\n",
    "# get iscan/iray boolean arrays\n",
    "#iscan = precip_idx.nonzero()[0]\n",
    "#iray = precip_idx.nonzero()[1]\n",
    "#print(iscan, iray)\n",
    "print(precip_mask.shape, pr_xy.shape)\n",
    "print(pflag.shape, pr_xy.reshape(-1, pr_xy.shape[-1]).shape)\n",
    "pl.imshow(precip_mask)"
   ]
  },
  {
   "cell_type": "markdown",
   "metadata": {},
   "source": [
    "### PR Parallax Correction"
   ]
  },
  {
   "cell_type": "code",
   "execution_count": null,
   "metadata": {
    "collapsed": false,
    "scrolled": false
   },
   "outputs": [],
   "source": [
    "print(\"NRAY\", nray_pr)\n",
    "print(\"NBIN\", ngate_pr)\n",
    "\n",
    "# Approximation!\n",
    "alpha = abs(-17.04 + np.arange(nray_pr) * bw_pr)\n",
    "\n",
    "print(alpha.shape)\n",
    "\n",
    "# Correct for parallax, get 3D-XYZ-Array\n",
    "#   xyzp_pr: Parallax corrected xyz coordinates\n",
    "#   r_pr_inv: range array from ground to PR platform\n",
    "#   zp: PR bin altitudes\n",
    "xyp_pr, r_pr_inv, z_pr = wradlib.georef.correct_parallax(pr_xy, ngate_pr, dr_pr, alpha)\n",
    "xyzp_pr = np.concatenate((xyp_pr, np.repeat(z_pr[np.newaxis, ..., np.newaxis], xyp_pr.shape[0], axis=0)),\n",
    "                   axis=-1)\n",
    "print(pr_xy.shape)\n",
    "print(\"PR_XYP:\", xyp_pr.shape, xyzp_pr.shape, r_pr_inv.shape, z_pr.shape)"
   ]
  },
  {
   "cell_type": "markdown",
   "metadata": {},
   "source": [
    "### Compute spherical coordinates of PR bins with regard to GR"
   ]
  },
  {
   "cell_type": "code",
   "execution_count": null,
   "metadata": {
    "collapsed": false
   },
   "outputs": [],
   "source": [
    "r_pr, elev_pr, az_pr = wradlib.georef.sat2pol(xyzp_pr, alt0_gr, re1)    \n",
    "mask = (elev_pr > (1.0 - bw_gr/2.)) & (elev_pr < (1.0 + bw_gr/2.))\n",
    "pl.figure()\n",
    "pl.pcolormesh(mask[90,:,:].T)"
   ]
  },
  {
   "cell_type": "markdown",
   "metadata": {},
   "source": [
    "### Compute PR and GR pulse volumes"
   ]
  },
  {
   "cell_type": "code",
   "execution_count": null,
   "metadata": {
    "collapsed": false
   },
   "outputs": [],
   "source": [
    "# PR pulse volumes\n",
    "\n",
    "# Range of PR bins\n",
    "dists = wradlib.georef.dist_from_orbit(zt, alpha, r_pr_inv)\n",
    "vol_pr2  = np.pi * dr_pr * (dists * np.radians(bw_pr / 2.))**2\n",
    "\n",
    "# Or using wradlib's native function\n",
    "vol_pr = wradlib.qual.pulse_volume(dists, dr_pr, bw_pr)\n",
    "#vol_pr = np.pi * dr_pr * (dists ** 2) * (np.tan(np.radians(bw_pr/2.))) ** 2\n",
    "\n",
    "# Evaluate difference between both approaches\n",
    "print(\"Min. difference (m3):\", (vol_pr - vol_pr2).min())\n",
    "print(\"Max. difference (m3): \", (vol_pr - vol_pr2).max())\n",
    "print(\"Average rel. difference (%):\", round(np.mean(vol_pr-vol_pr2)*100./np.mean(np.mean(vol_pr2)), 4))\n",
    "\n",
    "# Verdict: differences are negligble - use wradlibs's native function!"
   ]
  },
  {
   "cell_type": "code",
   "execution_count": null,
   "metadata": {
    "collapsed": false
   },
   "outputs": [],
   "source": [
    "# GR pulse volumes\n",
    "#   along one beam\n",
    "vol_gr = wradlib.qual.pulse_volume(r_gr, dr_gr, bw_gr)\n",
    "#   with shape (nray_gr, ngate_gr)\n",
    "vol_gr = np.repeat(vol_gr, nray_gr).reshape((nray_gr,ngate_gr), order=\"F\")"
   ]
  },
  {
   "cell_type": "markdown",
   "metadata": {},
   "source": [
    "### Median Brightband Width/Height"
   ]
  },
  {
   "cell_type": "code",
   "execution_count": null,
   "metadata": {
    "collapsed": false
   },
   "outputs": [],
   "source": [
    "print(z_pr.shape)\n",
    "print(pr_data['zbb'].shape, pr_data['bbwidth'].shape, pr_data['quality'].shape)\n",
    "ratio, ibb = wradlib.qual.get_bb_ratio(pr_data['zbb'], pr_data['bbwidth'], pr_data['quality'], z_pr)\n",
    "zbb = pr_data['zbb'].copy()\n",
    "zbb[~ibb] = np.nan"
   ]
  },
  {
   "cell_type": "markdown",
   "metadata": {},
   "source": [
    "### Convert PR Ku reflectivities to S-band \n",
    "\n",
    "Based on [Cao et.al (2013)](http://dx.doi.org/10.1002/jgrd.50138)"
   ]
  },
  {
   "cell_type": "code",
   "execution_count": null,
   "metadata": {
    "collapsed": false
   },
   "outputs": [],
   "source": [
    "refp = pr_data['refl'][:,:,::-1]\n",
    "\n",
    "refp_ss = np.zeros_like(refp) * np.nan\n",
    "refp_sh = np.zeros_like(refp) * np.nan\n",
    "\n",
    "a_s, a_h = (wradlib.trafo.ku2s.snow, wradlib.trafo.ku2s.hail) \n",
    "\n",
    "ia = (ratio >= 1)\n",
    "refp_ss[ia] = refp[ia] + wradlib.util.calculate_polynomial(refp[ia], a_s[:,10])\n",
    "refp_sh[ia] = refp[ia] + wradlib.util.calculate_polynomial(refp[ia], a_h[:,10])\n",
    "ib = (ratio <= 0)\n",
    "refp_ss[ib] = refp[ib] + wradlib.util.calculate_polynomial(refp[ib], a_s[:,0])\n",
    "refp_sh[ib] = refp[ib] + wradlib.util.calculate_polynomial(refp[ib], a_h[:,0])\n",
    "im = (ratio > 0) & (ratio < 1)\n",
    "ind = np.round(ratio[im] * 10).astype(np.int)\n",
    "refp_ss[im] = refp[im] + wradlib.util.calculate_polynomial(refp[im], a_s[:,ind])\n",
    "refp_sh[im] = refp[im] + wradlib.util.calculate_polynomial(refp[im], a_h[:,ind])\n",
    "\n",
    "# Jackson Tan's fix for C-band\n",
    "is_cband = False\n",
    "if (is_cband):\n",
    "    deltas = (refp_ss - refp) * 5.3 / 10.0\n",
    "    refp_ss = refp + deltas\n",
    "    deltah = (refp_sh - refp) * 5.3 / 10.0\n",
    "    refp_sh = refp + deltah\n",
    "\n",
    "refp_ss[refp < 0] = np.nan\n",
    "out = np.ma.masked_invalid(refp_ss)"
   ]
  },
  {
   "cell_type": "markdown",
   "metadata": {},
   "source": [
    "### Convert S-band GR reflectivities to Ku-band\n",
    "\n",
    "Using the method of [Liao and Meneghini (2009)](http://dx.doi.org/10.1175/2008JAMC1974.1)"
   ]
  },
  {
   "cell_type": "code",
   "execution_count": null,
   "metadata": {
    "collapsed": false
   },
   "outputs": [],
   "source": [
    "# Convert S-band GR reflectivities to Ku-band using method of Liao and Meneghini (2009)\n",
    "ref_gr_ku = np.zeros_like(ref_gr) * np.nan\n",
    "\n",
    "# Which zbb value should we take here???\n",
    "#    Q'n'Dirty: just take the mean of all PR profiles\n",
    "#    TODO: Consider zbb for each profile during the matching process\n",
    "\n",
    "# Snow\n",
    "ia = ( gr_xyz[...,2] >= np.nanmean(zbb) )\n",
    "#ref_gr_ku[ia] = wradlib.trafo.ku2s.snow[0] + wradlib.trafo.ku2s.snow[1]*ref_gr[ia] + wradlib.trafo.ku2s.snow[2]*ref_gr[ia]**2\n",
    "ref_gr_ku[ia] = wradlib.util.calculate_polynomial(ref_gr[ia], wradlib.trafo.s2ku.snow)\n",
    "# Rain\n",
    "ib = ( gr_xyz[...,2] < np.nanmean(zbb) )\n",
    "#ref_gr_ku[ib] = wradlib.trafo.ku2s.rain[0] + wradlib.trafo.ku2s.rain[1]*ref_gr[ia] + wradlib.trafo.ku2s.rain[2]*ref_gr[ia]**2\n",
    "ref_gr_ku[ib] = wradlib.util.calculate_polynomial(ref_gr[ib], wradlib.trafo.s2ku.rain)\n",
    "\n",
    "# Jackson Tan's fix for C-band\n",
    "is_cband = False\n",
    "if (is_cband):\n",
    "    delta = (ref_gr_ku - ref_gr) * 5.3/10.0\n",
    "    ref_gr_ku = ref_gr + delta"
   ]
  },
  {
   "cell_type": "markdown",
   "metadata": {},
   "source": [
    "## Matching PR/GR"
   ]
  },
  {
   "cell_type": "markdown",
   "metadata": {},
   "source": [
    "### Identify which PR rays actually intersect with the GR sweep\n",
    "\n",
    "Based on the above criteria (in radar range, precipitating PR profile) and based on PR elevation angle (with regard to GR)."
   ]
  },
  {
   "cell_type": "code",
   "execution_count": null,
   "metadata": {
    "collapsed": false
   },
   "outputs": [],
   "source": [
    "# First assumption: no valid PR bins (all False)\n",
    "valid = np.asarray(elev_pr, dtype=np.bool)==False\n",
    "print(valid.shape, precip_mask.shape)\n",
    "# PR is inside GR range and is precipitating\n",
    "iscan = precip_mask.nonzero()[0]\n",
    "iray = precip_mask.nonzero()[1]\n",
    "valid[iscan,iray] = True\n",
    "# PR bins intersect with GR sweep\n",
    "valid = valid & (elev_pr >= elev-bw_gr/2.) & (elev_pr <= elev+bw_gr/2.)\n",
    "#valid = precip_mask[..., np.newaxis] & (elev_pr >= elev-bw_gr/2.) & (elev_pr <= elev+bw_gr/2.)\n",
    "# Number of matching PR bins per profile\n",
    "nvalids = np.sum(valid, axis=2)\n",
    "# scan and ray indices for profiles with at least one valid bin\n",
    "vscan, vray = np.where(nvalids>0)\n",
    "# number of profiles with at least one valid bin\n",
    "nprof = len(vscan)"
   ]
  },
  {
   "cell_type": "code",
   "execution_count": null,
   "metadata": {
    "collapsed": false
   },
   "outputs": [],
   "source": [
    "# Lots of containers to store samples (only for one GR sweep angle!)\n",
    "x = np.zeros(nprof)*np.nan        # x coordinate of sample\n",
    "y = np.zeros(nprof)*np.nan        # y coordinate of sample\n",
    "z = np.zeros(nprof)*np.nan        # z coordinate of sample\n",
    "dz = np.zeros(nprof)*np.nan       # depth of sample\n",
    "ds = np.zeros(nprof)*np.nan       # width of sample\n",
    "rs = np.zeros(nprof)*np.nan       # range of sample from GR\n",
    "refpr1 = np.zeros(nprof)*np.nan     # PR reflectivity\n",
    "refpr2 = np.zeros(nprof)*np.nan     # PR reflectivity (S-band, snow)\n",
    "refpr3 = np.zeros(nprof)*np.nan     # PR reflectivity (S-band, hail)  \n",
    "refgr1 = np.zeros(nprof)*np.nan     # GR reflectivity\n",
    "refgr2 = np.zeros(nprof)*np.nan     # GR reflectivity (Ku-band)\n",
    "ntotpr = np.zeros(nprof,dtype=\"i4\")# total number of PR bins in sample\n",
    "nrej1 = np.zeros(nprof,dtype=\"i4\")# number of rejected PR bins in sample\n",
    "ntotgr = np.zeros(nprof,dtype=\"i4\")# total number of GR bins in sample\n",
    "nrej2 = np.zeros(nprof,dtype=\"i4\")# number of rejected GR bins in sample\n",
    "iref1 = np.zeros(nprof)*np.nan    # path-integrated PR reflectivity\n",
    "iref2 = np.zeros(nprof)*np.nan    # path-integrated GR reflectivity\n",
    "stdv1 = np.zeros(nprof)*np.nan    # std. dev. of PR reflectivity in sample\n",
    "stdv2 = np.zeros(nprof)*np.nan    # std. dev. of GR reflectivity in sample\n",
    "volpr = np.zeros(nprof)*np.nan     # total volume of PR bins in sample\n",
    "volgr = np.zeros(nprof)*np.nan     # total volume of GR bins in sample"
   ]
  },
  {
   "cell_type": "code",
   "execution_count": null,
   "metadata": {
    "collapsed": false
   },
   "outputs": [],
   "source": [
    "# Loop over relevant PR profiles\n",
    "for ii, (ss, rr)  in enumerate(zip(vscan,vray)):\n",
    "    # Index and count valid bins in each profile\n",
    "    ip = np.where(valid[ss,rr])[0]\n",
    "    numbins = len(ip)\n",
    "    ntotpr[ii]=numbins\n",
    "    if numbins == 0:\n",
    "        continue\n",
    "    # Compute the mean position of these bins\n",
    "    x[ii]=np.mean(xyzp_pr[ss,rr,ip,0])\n",
    "    y[ii]=np.mean(xyzp_pr[ss,rr,ip,1])\n",
    "    z[ii]=np.mean(xyzp_pr[ss,rr,ip,2])\n",
    "    \n",
    "    #np.stack((pr_xp, pr_yp, \n",
    "    #          np.repeat(zp[np.newaxis, ...], pr_xp.shape[0], axis=0)),\n",
    "    #          axis=3)\n",
    "\n",
    "    # Thickness of the layer\n",
    "    dz[ii]=(numbins * dr_pr) * np.cos( np.radians(alpha[rr]) )\n",
    "\n",
    "    # PR averaging volume\n",
    "    volpr[ii]=np.sum(vol_pr2[rr,ip])\n",
    "\n",
    "    # Note mean TRMM beam diameter\n",
    "    ds[ii]=np.radians(bw_pr) * np.mean( ( (zt-z[ii]) / np.cos( np.radians(alpha[rr]) ) ) )\n",
    "\n",
    "    # Note distance from radar\n",
    "    s=np.sqrt(x[ii]**2+y[ii]**2)\n",
    "    rs[ii]=(re2+z[ii]) * np.sin(s/re2) / np.cos(np.radians(elev))\n",
    "    \n",
    "    # This should not be required because we applied ZonalData\n",
    "    ### Check that sample is within radar range\n",
    "    ##if r[ii,jj]+ds[ii,jj]/2. gt rmax then continue\n",
    "\n",
    "    ## THIS IS THE ORIGINAL IDL CODE - IS THIS A BUG???\n",
    "    ##ref1[ii,jj]=MEAN(refp1,/nan)\n",
    "    ##ref3[ii,jj]=MEAN(refp2,/nan)\n",
    "    ##ref4[ii,jj]=MEAN(refp3,/nan)\n",
    "    \n",
    "    # Simple linear average of reflectivity \n",
    "    #   - we can become fancier in the next step\n",
    "    # ATTENTION: NEED TO FLIP ARRAY\n",
    "    refpr1[ii]=np.nanmean(np.flipud(refp)   [ss,rr,ip])\n",
    "    refpr2[ii]=np.nanmean(np.flipud(refp_ss)[ss,rr,ip])\n",
    "    refpr3[ii]=np.nanmean(np.flipud(refp_sh)[ss,rr,ip])\n",
    "    \n",
    "    ## Not sure why we need this...\n",
    "    ### Note the number of rejected bins\n",
    "    ##nrej1[ii,jj]=ROUND(TOTAL(FINITE(refp1,/nan)))\n",
    "    ##if FINITE(stdv1[ii,jj]) eq 0 and np-nrej1[ii,jj] gt 1 then STOP\n",
    "\n",
    "    # SHOULD WE USE ZONALDATA INSTEAD? COULD BE MORE ACCURATE, BUT ALSO SLOWER\n",
    "    # WE COULD BASICALLY START A NEW LOOP HERE AND RUN ZONALDATA BEFORE\n",
    "    \n",
    "    # Compute the horizontal distance to all the GR bins\n",
    "    d = np.sqrt((gr_xyz[...,0]-x[ii])**2 + (gr_xyz[...,1]-y[ii])**2)\n",
    "\n",
    "    # Find all GR bins within the SR beam\n",
    "    aa, bb = np.where(d <= ds[ii]/2.)\n",
    "\n",
    "    # Store the number of bins\n",
    "    ntotgr[ii] = len(aa)\n",
    "\n",
    "    if len(aa) == 0:\n",
    "        continue\n",
    "\n",
    "    # Extract the relevant GR bins\n",
    "\n",
    "    # Compute the GR averaging volume\n",
    "    volgr[ii]=np.sum(vol_gr[aa,bb])\n",
    "\n",
    "    # Average over those bins that exceed the reflectivity threshold \n",
    "    #   IDL code does exponential distance and volume weighting\n",
    "    #   Let's try simple mean first,\n",
    "    #   THEN ZonalStats!\n",
    "    refgr1[ii]=np.nanmean(ref_gr[aa,bb])\n",
    "    refgr2[ii]=np.nanmean(ref_gr_ku[aa,bb])"
   ]
  },
  {
   "cell_type": "code",
   "execution_count": null,
   "metadata": {
    "collapsed": false
   },
   "outputs": [],
   "source": [
    "fig = pl.figure(figsize=(12,5))\n",
    "ax = fig.add_subplot(121, aspect=\"equal\")\n",
    "pl.scatter(refgr1, refpr1, marker=\"+\", c=\"black\")\n",
    "pl.plot([0,60],[0,60], linestyle=\"solid\", color=\"black\")\n",
    "pl.xlim(10,50)\n",
    "pl.ylim(10,50)\n",
    "pl.xlabel(\"GR reflectivity (dBZ)\")\n",
    "pl.ylabel(\"PR reflectivity (dBZ)\")\n",
    "ax = fig.add_subplot(122)\n",
    "pl.hist(refgr1[refpr1>-10], bins=np.arange(-10,50,5), edgecolor=\"None\", label=\"GR\")\n",
    "pl.hist(refpr1[refpr1>-10], bins=np.arange(-10,50,5), edgecolor=\"red\", facecolor=\"None\", label=\"PR\")\n",
    "pl.xlabel(\"Reflectivity (dBZ)\")\n",
    "pl.legend()"
   ]
  },
  {
   "cell_type": "code",
   "execution_count": null,
   "metadata": {
    "collapsed": false
   },
   "outputs": [],
   "source": [
    "fig = pl.figure(figsize=(12,12))\n",
    "ax = fig.add_subplot(121, aspect=\"equal\")\n",
    "pl.scatter(x, y, c=refpr1, cmap=pl.cm.jet, vmin=0, vmax=50, edgecolor=\"None\")\n",
    "pl.title(\"PR reflectivity\")\n",
    "pl.grid()\n",
    "ax = fig.add_subplot(122, aspect=\"equal\")\n",
    "pl.scatter(x, y, c=refgr1, cmap=pl.cm.jet, vmin=0, vmax=50, edgecolor=\"None\")\n",
    "pl.title(\"GR reflectivity\")\n",
    "pl.grid()"
   ]
  }
 ],
 "metadata": {
  "celltoolbar": "Edit Metadata",
  "kernelspec": {
   "display_name": "Python 2",
   "language": "python",
   "name": "python2"
  },
  "language_info": {
   "codemirror_mode": {
    "name": "ipython",
    "version": 2
   },
   "file_extension": ".py",
   "mimetype": "text/x-python",
   "name": "python",
   "nbconvert_exporter": "python",
   "pygments_lexer": "ipython2",
   "version": "2.7.12"
  }
 },
 "nbformat": 4,
 "nbformat_minor": 0
}
