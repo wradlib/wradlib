{
 "cells": [
  {
   "cell_type": "markdown",
   "metadata": {
    "slideshow": {
     "slide_type": "skip"
    }
   },
   "source": [
    "This notebook is part of the $\\omega radlib$ documentation: http://wradlib.org/wradlib-docs.\n",
    "\n",
    "Copyright (c) 2016, $\\omega radlib$ developers.\n",
    "Distributed under the MIT License. See LICENSE.txt for more info."
   ]
  },
  {
   "cell_type": "markdown",
   "metadata": {
    "slideshow": {
     "slide_type": "slide"
    }
   },
   "source": [
    "# Simple fuzzy echo classification from dual-pol moments "
   ]
  },
  {
   "cell_type": "code",
   "execution_count": null,
   "metadata": {
    "collapsed": false,
    "slideshow": {
     "slide_type": "fragment"
    }
   },
   "outputs": [],
   "source": [
    "import wradlib\n",
    "from wradlib.util import get_wradlib_data_file\n",
    "import os\n",
    "import numpy as np\n",
    "import matplotlib.pyplot as plt\n",
    "import warnings\n",
    "warnings.filterwarnings('ignore')\n",
    "try:\n",
    "    get_ipython().magic(\"matplotlib inline\")\n",
    "except:\n",
    "    plt.ion()"
   ]
  },
  {
   "cell_type": "markdown",
   "metadata": {
    "slideshow": {
     "slide_type": "slide"
    }
   },
   "source": [
    "## Setting the file paths"
   ]
  },
  {
   "cell_type": "code",
   "execution_count": null,
   "metadata": {
    "collapsed": false,
    "slideshow": {
     "slide_type": "fragment"
    }
   },
   "outputs": [],
   "source": [
    "rhofile = get_wradlib_data_file('netcdf/TAG-20120801-140046-02-R.nc')\n",
    "phifile = get_wradlib_data_file('netcdf/TAG-20120801-140046-02-P.nc')\n",
    "reffile = get_wradlib_data_file('netcdf/TAG-20120801-140046-02-Z.nc')\n",
    "dopfile = get_wradlib_data_file('netcdf/TAG-20120801-140046-02-V.nc')\n",
    "zdrfile = get_wradlib_data_file('netcdf/TAG-20120801-140046-02-D.nc')\n",
    "mapfile = get_wradlib_data_file('hdf5/TAG_cmap_sweeps_0204050607.hdf5')"
   ]
  },
  {
   "cell_type": "markdown",
   "metadata": {
    "slideshow": {
     "slide_type": "slide"
    }
   },
   "source": [
    "## Read the data (radar moments and static clutter map)"
   ]
  },
  {
   "cell_type": "code",
   "execution_count": null,
   "metadata": {
    "collapsed": false,
    "slideshow": {
     "slide_type": "fragment"
    }
   },
   "outputs": [],
   "source": [
    "# We need to organize our data as a dictionary\n",
    "dat = {}\n",
    "dat[\"rho\"], attrs_rho = wradlib.io.read_EDGE_netcdf(rhofile)\n",
    "dat[\"phi\"], attrs_phi = wradlib.io.read_EDGE_netcdf(phifile)\n",
    "dat[\"ref\"], attrs_ref = wradlib.io.read_EDGE_netcdf(reffile)\n",
    "dat[\"dop\"], attrs_dop = wradlib.io.read_EDGE_netcdf(dopfile)\n",
    "dat[\"zdr\"], attrs_zdr = wradlib.io.read_EDGE_netcdf(zdrfile)\n",
    "dat[\"map\"]            = wradlib.io.from_hdf5(mapfile)[0][0]"
   ]
  },
  {
   "cell_type": "markdown",
   "metadata": {
    "slideshow": {
     "slide_type": "slide"
    }
   },
   "source": [
    "## Identify non-meteorological echoes using fuzzy echo classification"
   ]
  },
  {
   "cell_type": "markdown",
   "metadata": {
    "slideshow": {
     "slide_type": "fragment"
    }
   },
   "source": [
    "See [Crisologo et al. (2015)](http://link.springer.com/article/10.1007/s13143-014-0049-y) and [Vulpiani et al. (2012)](http://journals.ametsoc.org/doi/abs/10.1175/JAMC-D-10-05024.1) for details."
   ]
  },
  {
   "cell_type": "code",
   "execution_count": null,
   "metadata": {
    "collapsed": false,
    "slideshow": {
     "slide_type": "fragment"
    }
   },
   "outputs": [],
   "source": [
    "weights = {\"zdr\": 0.4, \n",
    "           \"rho\": 0.4, \n",
    "           \"rho2\": 0.4, \n",
    "           \"phi\": 0.1, \n",
    "           \"dop\": 0.1, \n",
    "           \"map\": 0.5}\n",
    "cmap, nanmask = wradlib.clutter.classify_echo_fuzzy(dat, \n",
    "                                                    weights=weights, \n",
    "                                                    thresh=0.5)"
   ]
  },
  {
   "cell_type": "markdown",
   "metadata": {
    "slideshow": {
     "slide_type": "slide"
    }
   },
   "source": [
    "## View classfication results"
   ]
  },
  {
   "cell_type": "code",
   "execution_count": null,
   "metadata": {
    "collapsed": false,
    "slideshow": {
     "slide_type": "fragment"
    }
   },
   "outputs": [],
   "source": [
    "fig = plt.figure(figsize=(18,16))\n",
    "\n",
    "#   Horizontal reflectivity\n",
    "ax = plt.subplot(121, aspect=\"equal\")\n",
    "ax, pm = wradlib.vis.plot_ppi(np.ma.masked_invalid(dat[\"ref\"]), ax=ax)\n",
    "ax = wradlib.vis.plot_ppi_crosshair(site=(0,0), \n",
    "                                    ranges=[80,160,240])\n",
    "plt.xlim(-240,240)\n",
    "plt.ylim(-240,240)\n",
    "plt.xlabel(\"# bins from radar\")\n",
    "plt.ylabel(\"# bins from radar\")\n",
    "cbar = plt.colorbar(pm, shrink=0.3)\n",
    "cbar.set_label(\"dBZ\", fontsize = \"large\")\n",
    "\n",
    "#   Echo classification\n",
    "ax = plt.subplot(122, aspect=\"equal\")\n",
    "ax, pm = wradlib.vis.plot_ppi(np.ma.masked_array(cmap.astype(np.uint8), \n",
    "                                                 np.isnan(dat[\"ref\"]), ax=ax), \n",
    "                              cmap=\"bwr\")\n",
    "ax = wradlib.vis.plot_ppi_crosshair(site=(0,0),\n",
    "                                    ranges=[80,160,240])\n",
    "plt.xlim(-240,240)\n",
    "plt.ylim(-240,240)\n",
    "plt.xlabel(\"# bins from radar\")\n",
    "plt.ylabel(\"# bins from radar\")\n",
    "cbar = plt.colorbar(pm, shrink=0.3)\n",
    "cbar.set_label(\"meterol. echo=0 - non-meteorol. echo=1\", \n",
    "               fontsize = \"large\")"
   ]
  }
 ],
 "metadata": {
  "celltoolbar": "Slideshow",
  "kernelspec": {
   "display_name": "Python 2",
   "language": "python",
   "name": "python2"
  },
  "language_info": {
   "codemirror_mode": {
    "name": "ipython",
    "version": 2
   },
   "file_extension": ".py",
   "mimetype": "text/x-python",
   "name": "python",
   "nbconvert_exporter": "python",
   "pygments_lexer": "ipython2",
   "version": "2.7.12"
  },
  "livereveal": {
   "scroll": true
  }
 },
 "nbformat": 4,
 "nbformat_minor": 0
}
