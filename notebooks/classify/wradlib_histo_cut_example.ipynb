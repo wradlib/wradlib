{
 "cells": [
  {
   "cell_type": "markdown",
   "metadata": {
    "nbsphinx": "hidden"
   },
   "source": [
    "This notebook is part of the $\\omega radlib$ documentation: http://wradlib.org/wradlib-docs.\n",
    "\n",
    "Copyright (c) 2016, $\\omega radlib$ developers.\n",
    "Distributed under the MIT License. See LICENSE.txt for more info."
   ]
  },
  {
   "cell_type": "markdown",
   "metadata": {
    "collapsed": true
   },
   "source": [
    "# Heuristic clutter detection based on distribution properties (\"histo cut\")\n",
    "\n",
    "Detects areas with anomalously low or high average reflectivity or precipitation. It is recommended to use long term average or sums (months to year)."
   ]
  },
  {
   "cell_type": "code",
   "execution_count": null,
   "metadata": {
    "collapsed": true
   },
   "outputs": [],
   "source": [
    "import wradlib.clutter as clutter\n",
    "from wradlib.vis import plot_ppi\n",
    "import wradlib.util as util\n",
    "import numpy as np\n",
    "import matplotlib.pyplot as pl\n",
    "import warnings\n",
    "warnings.filterwarnings('ignore')\n",
    "try:\n",
    "    get_ipython().magic(\"matplotlib inline\")\n",
    "except:\n",
    "    pl.ion()"
   ]
  },
  {
   "cell_type": "markdown",
   "metadata": {},
   "source": [
    "### Load annual rainfall acummulation example (from DWD radar Feldberg)"
   ]
  },
  {
   "cell_type": "code",
   "execution_count": null,
   "metadata": {
    "collapsed": true
   },
   "outputs": [],
   "source": [
    "filename = util.get_wradlib_data_file('misc/annual_rainfall_fbg.gz')\n",
    "yearsum = np.loadtxt(filename)"
   ]
  },
  {
   "cell_type": "markdown",
   "metadata": {},
   "source": [
    "### Apply histo-cut filter to retrieve boolean array that highlights clutter as well as beam blockage"
   ]
  },
  {
   "cell_type": "code",
   "execution_count": null,
   "metadata": {
    "collapsed": true
   },
   "outputs": [],
   "source": [
    "mask = clutter.histo_cut(yearsum)"
   ]
  },
  {
   "cell_type": "markdown",
   "metadata": {},
   "source": [
    "### Plot results"
   ]
  },
  {
   "cell_type": "code",
   "execution_count": null,
   "metadata": {
    "collapsed": false
   },
   "outputs": [],
   "source": [
    "fig = pl.figure(figsize=(14,8))\n",
    "ax = fig.add_subplot(121)\n",
    "ax, pm = plot_ppi(np.log(yearsum), ax=ax)\n",
    "pl.title(\"Logarithm of annual precipitation sum\")\n",
    "pl.colorbar(pm, shrink=0.75)\n",
    "ax = fig.add_subplot(122)\n",
    "ax, pm = plot_ppi(mask.astype(np.uint8), ax=ax)\n",
    "pl.title(\"Map of execptionally low and high values\\n(clutter and beam blockage)\")\n",
    "pl.colorbar(pm, shrink=0.75)"
   ]
  }
 ],
 "metadata": {
  "kernelspec": {
   "display_name": "Python 2",
   "language": "python",
   "name": "python2"
  },
  "language_info": {
   "codemirror_mode": {
    "name": "ipython",
    "version": 2
   },
   "file_extension": ".py",
   "mimetype": "text/x-python",
   "name": "python",
   "nbconvert_exporter": "python",
   "pygments_lexer": "ipython2",
   "version": "2.7.12"
  }
 },
 "nbformat": 4,
 "nbformat_minor": 0
}
