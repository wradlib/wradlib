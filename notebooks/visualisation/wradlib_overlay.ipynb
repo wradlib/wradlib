{
 "cells": [
  {
   "cell_type": "markdown",
   "metadata": {
    "deletable": true,
    "editable": true,
    "nbsphinx": "hidden",
    "slideshow": {
     "slide_type": "skip"
    }
   },
   "source": [
    "This notebook is part of the $\\omega radlib$ documentation: http://wradlib.org/wradlib-docs.\n",
    "\n",
    "Copyright (c) 2016, $\\omega radlib$ developers.\n",
    "Distributed under the MIT License. See LICENSE.txt for more info."
   ]
  },
  {
   "cell_type": "markdown",
   "metadata": {
    "deletable": true,
    "editable": true,
    "slideshow": {
     "slide_type": "slide"
    }
   },
   "source": [
    "# Plot additional geodata "
   ]
  },
  {
   "cell_type": "markdown",
   "metadata": {
    "deletable": true,
    "editable": true,
    "slideshow": {
     "slide_type": "fragment"
    }
   },
   "source": [
    "- **underlay** e.g. terrain data from a Digital Elevation Model (DEM)\n",
    "- **overlay** features such as administrative borders, rivers, catchments, rain gauges, cities, ..."
   ]
  },
  {
   "cell_type": "markdown",
   "metadata": {
    "deletable": true,
    "editable": true,
    "slideshow": {
     "slide_type": "fragment"
    }
   },
   "source": [
    "*Here, we create a map without radar data to concentrate on the other layers.*"
   ]
  },
  {
   "cell_type": "code",
   "execution_count": null,
   "metadata": {
    "collapsed": true,
    "deletable": true,
    "editable": true,
    "slideshow": {
     "slide_type": "slide"
    }
   },
   "outputs": [],
   "source": [
    "import wradlib as wrl\n",
    "import matplotlib.pyplot as pl\n",
    "import warnings\n",
    "warnings.filterwarnings('ignore')\n",
    "try:\n",
    "    get_ipython().magic(\"matplotlib inline\")\n",
    "except:\n",
    "    pl.ion()\n",
    "import numpy as np\n",
    "# Some more matplotlib tools we will need...\n",
    "import matplotlib.ticker as ticker\n",
    "from matplotlib.colors import LogNorm\n",
    "from mpl_toolkits.axes_grid1 import make_axes_locatable"
   ]
  },
  {
   "cell_type": "markdown",
   "metadata": {
    "deletable": true,
    "editable": true,
    "slideshow": {
     "slide_type": "slide"
    }
   },
   "source": [
    "## Plotting a Digital Elevation Model (DEM)"
   ]
  },
  {
   "cell_type": "markdown",
   "metadata": {
    "deletable": true,
    "editable": true,
    "slideshow": {
     "slide_type": "fragment"
    }
   },
   "source": [
    "We use a preprocessed geotiff which was created from [**SRTM**](http://www2.jpl.nasa.gov/srtm) data via `gdal`\n",
    "\n",
    "```bash\n",
    "gdalwarp -te 88. 20. 93. 27. srtm_54_07.tif srtm_55_07.tif srtm_54_08.tif srtm_55_08.tif bangladesh.tif\n",
    "```"
   ]
  },
  {
   "cell_type": "markdown",
   "metadata": {
    "deletable": true,
    "editable": true,
    "slideshow": {
     "slide_type": "fragment"
    }
   },
   "source": [
    "Here we\n",
    "- read the DEM via [wradlib.io.open_raster](http://wradlib.org/wradlib-docs/latest/generated/wradlib.io.open_raster.html) and extracted via [wradlib.georef.extract_raster_dataset](http://wradlib.org/wradlib-docs/latest/generated/wradlib.georef.extract_raster_dataset.html).;\n",
    "- resample the data to a (lon/lat) grid with `spacing=0.005`."
   ]
  },
  {
   "cell_type": "markdown",
   "metadata": {
    "deletable": true,
    "editable": true,
    "slideshow": {
     "slide_type": "fragment"
    }
   },
   "source": [
    "*Note: we organise the code in functions which we can re-use in this notebook.*"
   ]
  },
  {
   "cell_type": "code",
   "execution_count": null,
   "metadata": {
    "collapsed": true,
    "deletable": true,
    "editable": true,
    "slideshow": {
     "slide_type": "fragment"
    }
   },
   "outputs": [],
   "source": [
    "def plot_dem(ax):\n",
    "    filename = wrl.util.get_wradlib_data_file('geo/bangladesh.tif')\n",
    "    ds = wrl.io.open_raster(filename)\n",
    "    # pixel_spacing is in output units (lonlat)\n",
    "    ds = wrl.georef.reproject_raster_dataset(ds, spacing=0.005)\n",
    "    rastervalues, rastercoords, proj = wrl.georef.extract_raster_dataset(ds)\n",
    "    # specify kwargs for plotting, using terrain colormap and LogNorm\n",
    "    dem = ax.pcolormesh(rastercoords[..., 0], rastercoords[..., 1],\n",
    "                        rastervalues, cmap=pl.cm.terrain, norm=LogNorm(),\n",
    "                        vmin=1, vmax=3000)\n",
    "    # make some space on the right for colorbar axis\n",
    "    div1 = make_axes_locatable(ax)\n",
    "    cax1 = div1.append_axes(\"right\", size=\"5%\", pad=0.1)\n",
    "    # add colorbar and title\n",
    "    # we use LogLocator for colorbar\n",
    "    cb = pl.gcf().colorbar(dem, cax=cax1, \n",
    "                           ticks=ticker.LogLocator(subs=range(10)))\n",
    "    cb.set_label('terrain height [m]')"
   ]
  },
  {
   "cell_type": "code",
   "execution_count": null,
   "metadata": {
    "collapsed": false,
    "deletable": true,
    "editable": true,
    "slideshow": {
     "slide_type": "fragment"
    }
   },
   "outputs": [],
   "source": [
    "fig = pl.figure(figsize=(10,10))\n",
    "ax = fig.add_subplot(111, aspect='equal')\n",
    "plot_dem(ax)"
   ]
  },
  {
   "cell_type": "markdown",
   "metadata": {
    "deletable": true,
    "editable": true,
    "slideshow": {
     "slide_type": "slide"
    }
   },
   "source": [
    "## Plotting borders"
   ]
  },
  {
   "cell_type": "markdown",
   "metadata": {
    "deletable": true,
    "editable": true,
    "slideshow": {
     "slide_type": "fragment"
    }
   },
   "source": [
    "For country borders, we use [ESRI Shapfiles](https://de.wikipedia.org/wiki/Shapefile) from [Natural Earth Data](http://www.naturalearthdata.com/). "
   ]
  },
  {
   "cell_type": "markdown",
   "metadata": {
    "deletable": true,
    "editable": true,
    "slideshow": {
     "slide_type": "fragment"
    }
   },
   "source": [
    "We extract features using \n",
    "- the `OGR.Layer` `AttributeFilter` and \n",
    "- the [wradlib.georef.get_shape_coordinates](http://wradlib.org/wradlib-docs/latest/generated/wradlib.georef.get_shape_coordinates.html) function. \n",
    "\n",
    "The plot overlay is done via [wradlib.vis.add_lines](http://wradlib.org/wradlib-docs/latest/generated/wradlib.vis.add_lines.html)."
   ]
  },
  {
   "cell_type": "code",
   "execution_count": null,
   "metadata": {
    "collapsed": true,
    "deletable": true,
    "editable": true,
    "slideshow": {
     "slide_type": "fragment"
    }
   },
   "outputs": [],
   "source": [
    "def plot_borders(ax):\n",
    "    # country list\n",
    "    countries = ['India', 'Nepal', 'Bhutan', 'Myanmar']\n",
    "    # open the input data source and get the layer\n",
    "    filename = wrl.util.get_wradlib_data_file('geo/ne_10m_admin_0_boundary_'\n",
    "                                              'lines_land.shp')\n",
    "    dataset, inLayer = wrl.io.open_shape(filename)\n",
    "    # iterate over countries, filter accordingly, get coordinates and plot\n",
    "    for item in countries:\n",
    "        # SQL-like selection syntax\n",
    "        fattr = \"(adm0_left = '\" + item + \"' or adm0_right = '\" + item + \"')\"\n",
    "        inLayer.SetAttributeFilter(fattr)\n",
    "        # get borders and names\n",
    "        borders, keys = wrl.georef.get_shape_coordinates(inLayer, key='name')\n",
    "        wrl.vis.add_lines(ax, borders, color='black', lw=2, zorder=4)\n",
    "    ax.autoscale()"
   ]
  },
  {
   "cell_type": "code",
   "execution_count": null,
   "metadata": {
    "collapsed": false,
    "deletable": true,
    "editable": true,
    "slideshow": {
     "slide_type": "fragment"
    }
   },
   "outputs": [],
   "source": [
    "fig = pl.figure(figsize=(10,10))\n",
    "ax = fig.add_subplot(111, aspect='equal')\n",
    "plot_dem(ax)\n",
    "plot_borders(ax)\n",
    "ax.set_xlim((88, 93))\n",
    "ax.set_ylim((20, 27))"
   ]
  },
  {
   "cell_type": "markdown",
   "metadata": {
    "deletable": true,
    "editable": true,
    "slideshow": {
     "slide_type": "slide"
    }
   },
   "source": [
    "## Plotting Rivers"
   ]
  },
  {
   "cell_type": "markdown",
   "metadata": {
    "deletable": true,
    "editable": true,
    "slideshow": {
     "slide_type": "fragment"
    }
   },
   "source": [
    "For rivers, we use [ESRI Shapfiles](https://de.wikipedia.org/wiki/Shapefile) from [FAO](http://www.fao.org/geonetwork/srv/en/metadata.show?id=37331) and [Natural Earth Data](http://www.naturalearthdata.com/). "
   ]
  },
  {
   "cell_type": "markdown",
   "metadata": {
    "deletable": true,
    "editable": true,
    "slideshow": {
     "slide_type": "fragment"
    }
   },
   "source": [
    "We extract features using \n",
    "- the `OGR.Layer` `SpatialFilter` and \n",
    "- the [wradlib.georef.get_shape_coordinates](http://wradlib.org/wradlib-docs/latest/generated/wradlib.georef.get_shape_coordinates.html) function.\n",
    "\n",
    "Then we use [wradlib.vis.add_lines](http://wradlib.org/wradlib-docs/latest/generated/wradlib.vis.add_lines.html) again for the overlay."
   ]
  },
  {
   "cell_type": "code",
   "execution_count": null,
   "metadata": {
    "collapsed": true,
    "deletable": true,
    "editable": true,
    "slideshow": {
     "slide_type": "fragment"
    }
   },
   "outputs": [],
   "source": [
    "def plot_rivers(ax):\n",
    "    # plot rivers from esri vector shape, filter spatially\n",
    "    # http://www.fao.org/geonetwork/srv/en/metadata.show?id=37331\n",
    "\n",
    "    # open the input data source and get the layer\n",
    "    filename = wrl.util.get_wradlib_data_file('geo/rivers_asia_37331.shp')\n",
    "    dataset, inLayer = wrl.io.open_shape(filename)\n",
    "\n",
    "    # do spatial filtering to get only geometries inside bounding box\n",
    "    inLayer.SetSpatialFilterRect(88, 20, 93, 27)\n",
    "    rivers, keys = wrl.georef.get_shape_coordinates(inLayer, key='MAJ_NAME')\n",
    "\n",
    "    # plot on ax1, and ax4\n",
    "    wrl.vis.add_lines(ax, rivers, color=pl.cm.terrain(0.), lw=0.5, zorder=3)"
   ]
  },
  {
   "cell_type": "code",
   "execution_count": null,
   "metadata": {
    "collapsed": false,
    "deletable": true,
    "editable": true,
    "slideshow": {
     "slide_type": "fragment"
    }
   },
   "outputs": [],
   "source": [
    "fig = pl.figure(figsize=(10,10))\n",
    "ax = fig.add_subplot(111, aspect='equal')\n",
    "plot_dem(ax)\n",
    "plot_borders(ax)\n",
    "plot_rivers(ax)\n",
    "ax.set_xlim((88, 93))\n",
    "ax.set_ylim((20, 27))"
   ]
  },
  {
   "cell_type": "code",
   "execution_count": null,
   "metadata": {
    "collapsed": true,
    "deletable": true,
    "editable": true,
    "slideshow": {
     "slide_type": "fragment"
    }
   },
   "outputs": [],
   "source": [
    "def plot_water(ax):\n",
    "    # plot rivers from esri vector shape, filter spatially\n",
    "    # plot rivers from NED\n",
    "    # open the input data source and get the layer\n",
    "    filename = wrl.util.get_wradlib_data_file('geo/ne_10m_rivers_lake_'\n",
    "                                              'centerlines.shp')\n",
    "    dataset, inLayer = wrl.io.open_shape(filename)\n",
    "    inLayer.SetSpatialFilterRect(88, 20, 93, 27)\n",
    "    rivers, keys = wrl.georef.get_shape_coordinates(inLayer)\n",
    "    wrl.vis.add_lines(ax, rivers, color=pl.cm.terrain(0.), lw=0.5, zorder=3)"
   ]
  },
  {
   "cell_type": "code",
   "execution_count": null,
   "metadata": {
    "collapsed": false,
    "deletable": true,
    "editable": true,
    "slideshow": {
     "slide_type": "fragment"
    }
   },
   "outputs": [],
   "source": [
    "fig = pl.figure(figsize=(10,10))\n",
    "ax = fig.add_subplot(111, aspect='equal')\n",
    "plot_dem(ax)\n",
    "plot_borders(ax)\n",
    "plot_rivers(ax)\n",
    "plot_water(ax)\n",
    "ax.set_xlim((88, 93))\n",
    "ax.set_ylim((20, 27))  "
   ]
  },
  {
   "cell_type": "markdown",
   "metadata": {
    "deletable": true,
    "editable": true,
    "slideshow": {
     "slide_type": "slide"
    }
   },
   "source": [
    "## Plotting Cities"
   ]
  },
  {
   "cell_type": "markdown",
   "metadata": {
    "deletable": true,
    "editable": true,
    "slideshow": {
     "slide_type": "fragment"
    }
   },
   "source": [
    "The 5 biggest cities of bangladesh are added using simple matplotlib functions."
   ]
  },
  {
   "cell_type": "code",
   "execution_count": null,
   "metadata": {
    "collapsed": true,
    "deletable": true,
    "editable": true,
    "slideshow": {
     "slide_type": "fragment"
    }
   },
   "outputs": [],
   "source": [
    "def plot_cities(ax):\n",
    "    # plot city dots with annotation, finalize plot\n",
    "    # lat/lon coordinates of five cities in Bangladesh\n",
    "    lats = [23.73, 22.32, 22.83, 24.37, 24.90]\n",
    "    lons = [90.40, 91.82, 89.55, 88.60, 91.87]\n",
    "    cities = ['Dhaka', 'Chittagong', 'Khulna', 'Rajshahi', 'Sylhet']\n",
    "    for lon, lat, city in zip(lons, lats, cities):\n",
    "        ax.plot(lon, lat, 'ro', zorder=5)\n",
    "        ax.text(lon + 0.01, lat + 0.01, city, fontsize='large')"
   ]
  },
  {
   "cell_type": "code",
   "execution_count": null,
   "metadata": {
    "collapsed": false,
    "deletable": true,
    "editable": true,
    "slideshow": {
     "slide_type": "fragment"
    }
   },
   "outputs": [],
   "source": [
    "fig = pl.figure(figsize=(10,10))\n",
    "ax = fig.add_subplot(111, aspect='equal')\n",
    "plot_dem(ax)\n",
    "plot_borders(ax)\n",
    "plot_rivers(ax)\n",
    "plot_water(ax)\n",
    "plot_cities(ax)\n",
    "\n",
    "ax.set_xlim((88, 93))\n",
    "ax.set_ylim((20, 27))  \n",
    "ax.set_xlabel('Longitude')\n",
    "ax.set_ylabel('Latitude')\n",
    "ax.set_aspect('equal')\n",
    "ax.set_title('Bangladesh')"
   ]
  },
  {
   "cell_type": "markdown",
   "metadata": {
    "deletable": true,
    "editable": true,
    "slideshow": {
     "slide_type": "slide"
    }
   },
   "source": [
    "## Plotting country patches"
   ]
  },
  {
   "cell_type": "markdown",
   "metadata": {
    "deletable": true,
    "editable": true,
    "slideshow": {
     "slide_type": "fragment"
    }
   },
   "source": [
    "### Plotting in \"geographic projection\" (WGS84)"
   ]
  },
  {
   "cell_type": "markdown",
   "metadata": {
    "deletable": true,
    "editable": true,
    "slideshow": {
     "slide_type": "fragment"
    }
   },
   "source": [
    "Here, we plot countries as `patches` on a lat/lon (WGS84) map (data from [Natural Earth Data](http://www.naturalearthdata.com/) again)."
   ]
  },
  {
   "cell_type": "markdown",
   "metadata": {
    "deletable": true,
    "editable": true,
    "slideshow": {
     "slide_type": "fragment"
    }
   },
   "source": [
    "We again extract the features using \n",
    "- the `OGR.Layer` `SpatialFilter` and \n",
    "- [wradlib.georef.get_shape_coordinates](http://wradlib.org/wradlib-docs/latest/generated/wradlib.georef.get_shape_coordinates.html)."
   ]
  },
  {
   "cell_type": "markdown",
   "metadata": {
    "deletable": true,
    "editable": true,
    "slideshow": {
     "slide_type": "fragment"
    }
   },
   "source": [
    "Then the patches are added one by one via [wradlib.vis.add_patches](http://wradlib.org/wradlib-docs/latest/generated/wradlib.vis.add_patches.html)."
   ]
  },
  {
   "cell_type": "code",
   "execution_count": null,
   "metadata": {
    "collapsed": true,
    "deletable": true,
    "editable": true,
    "slideshow": {
     "slide_type": "fragment"
    }
   },
   "outputs": [],
   "source": [
    "def plot_wgs84(ax):\n",
    "    from osgeo import osr\n",
    "    wgs84 = osr.SpatialReference()\n",
    "    wgs84.ImportFromEPSG(4326)\n",
    "    # some testing on additional axes\n",
    "    # add Bangladesh to countries\n",
    "    countries = ['India', 'Nepal', 'Bhutan', 'Myanmar', 'Bangladesh']\n",
    "    # create colors for country-patches\n",
    "    cm = pl.cm.jet\n",
    "    colors = []\n",
    "    for i in range(len(countries)):\n",
    "        colors.append(cm(1. * i / len(countries)))\n",
    "\n",
    "    # open the input data source and get the layer\n",
    "    filename = wrl.util.get_wradlib_data_file('geo/ne_10m_admin_0_'\n",
    "                                              'countries.shp')\n",
    "    dataset, layer = wrl.io.open_shape(filename)\n",
    "    \n",
    "    # filter spatially and plot as PatchCollection on ax3\n",
    "    layer.SetSpatialFilterRect(88, 20, 93, 27)\n",
    "    patches, keys = wrl.georef.get_shape_coordinates(layer,\n",
    "                                                     dest_srs=wgs84,\n",
    "                                                     key='name')\n",
    "    i = 0\n",
    "    for name, patch in zip(keys, patches):\n",
    "        # why comes the US in here?\n",
    "        if name in countries:\n",
    "            wrl.vis.add_patches(ax, patch, facecolor=colors[i],\n",
    "                                cmap=pl.cm.jet, alpha=0.4)\n",
    "            i += 1\n",
    "    ax.autoscale(True)\n",
    "    ax.set_aspect('equal')\n",
    "    ax.set_xlabel('Longitude')\n",
    "    ax.set_ylabel('Latitude')\n",
    "    ax.set_title('South Asia - WGS 84')"
   ]
  },
  {
   "cell_type": "code",
   "execution_count": null,
   "metadata": {
    "collapsed": false,
    "deletable": true,
    "editable": true
   },
   "outputs": [],
   "source": [
    "fig = pl.figure(figsize=(10,10))\n",
    "ax = fig.add_subplot(111, aspect='equal')\n",
    "plot_wgs84(ax)"
   ]
  },
  {
   "cell_type": "markdown",
   "metadata": {
    "deletable": true,
    "editable": true,
    "slideshow": {
     "slide_type": "slide"
    }
   },
   "source": [
    "### Plotting with a map projection"
   ]
  },
  {
   "cell_type": "markdown",
   "metadata": {
    "deletable": true,
    "editable": true,
    "slideshow": {
     "slide_type": "fragment"
    }
   },
   "source": [
    "Here, we plot countries as patches on a projected map.  "
   ]
  },
  {
   "cell_type": "markdown",
   "metadata": {
    "deletable": true,
    "editable": true,
    "slideshow": {
     "slide_type": "fragment"
    }
   },
   "source": [
    "We extract the features using \n",
    "- the `OGR.Layer` `AttributeFilter` and\n",
    "- the [wradlib.georef.get_shape_coordinates](http://wradlib.org/wradlib-docs/latest/generated/wradlib.georef.get_shape_coordinates.html) function. "
   ]
  },
  {
   "cell_type": "markdown",
   "metadata": {
    "deletable": true,
    "editable": true,
    "slideshow": {
     "slide_type": "fragment"
    }
   },
   "source": [
    "The coordinates of the features are reprojected on the fly using the `dest_srs` keyword of [wradlib.georef.get_shape_coordinates](http://wradlib.org/wradlib-docs/latest/generated/wradlib.georef.get_shape_coordinates.html).\n",
    "\n",
    "Then, the patches are added to the map via [wradlib.vis.add_patches](http://wradlib.org/wradlib-docs/latest/generated/wradlib.vis.add_patches.html)."
   ]
  },
  {
   "cell_type": "code",
   "execution_count": null,
   "metadata": {
    "collapsed": true,
    "deletable": true,
    "editable": true,
    "slideshow": {
     "slide_type": "fragment"
    }
   },
   "outputs": [],
   "source": [
    "def plot_mercator(ax):\n",
    "    from osgeo import osr\n",
    "    proj = osr.SpatialReference()\n",
    "    # \"Web Mercator\" projection (used by GoogleMaps, OSM, ...)\n",
    "    proj.ImportFromEPSG(3857)\n",
    "\n",
    "    # add Bangladesh to countries\n",
    "    countries = ['India', 'Nepal', 'Bhutan', 'Myanmar', 'Bangladesh']\n",
    "    # create colors for country-patches\n",
    "    cm = pl.cm.jet\n",
    "    colors = []\n",
    "    for i in range(len(countries)):\n",
    "        colors.append(cm(1. * i / len(countries)))\n",
    "\n",
    "    # open the input data source and get the layer\n",
    "    filename = wrl.util.get_wradlib_data_file('geo/ne_10m_admin_0_'\n",
    "                                              'countries.shp')\n",
    "    dataset, layer = wrl.io.open_shape(filename)\n",
    "    # iterate over countries, filter by attribute,\n",
    "    # plot single patches on ax2\n",
    "    for i, item in enumerate(countries):\n",
    "        fattr = \"name = '\" + item + \"'\"\n",
    "        layer.SetAttributeFilter(fattr)\n",
    "        # get country patches and geotransform to destination srs\n",
    "        patches, keys = wrl.georef.get_shape_coordinates(layer,\n",
    "                                                         dest_srs=proj,\n",
    "                                                         key='name')\n",
    "        wrl.vis.add_patches(pl.gca(), patches, facecolor=colors[i])\n",
    "    \n",
    "    ax.autoscale(True)\n",
    "    ax.set_aspect('equal')\n",
    "    ax.set_xlabel('X - Coordinate')\n",
    "    ax.set_ylabel('Y - Coordinate')\n",
    "    ax.ticklabel_format(style='sci', scilimits=(0, 0))\n",
    "    ax.set_title('South Asia in Web Mercator Projection ')"
   ]
  },
  {
   "cell_type": "code",
   "execution_count": null,
   "metadata": {
    "collapsed": false,
    "deletable": true,
    "editable": true,
    "slideshow": {
     "slide_type": "fragment"
    }
   },
   "outputs": [],
   "source": [
    "fig = pl.figure(figsize=(10,10))\n",
    "ax = fig.add_subplot(111, aspect='equal')\n",
    "plot_mercator(ax)"
   ]
  }
 ],
 "metadata": {
  "celltoolbar": "Slideshow",
  "kernelspec": {
   "display_name": "Python 2",
   "language": "python",
   "name": "python2"
  },
  "language_info": {
   "codemirror_mode": {
    "name": "ipython",
    "version": 2
   },
   "file_extension": ".py",
   "mimetype": "text/x-python",
   "name": "python",
   "nbconvert_exporter": "python",
   "pygments_lexer": "ipython2",
   "version": "2.7.13"
  },
  "livereveal": {
   "scroll": true
  }
 },
 "nbformat": 4,
 "nbformat_minor": 0
}
