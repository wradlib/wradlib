{
 "cells": [
  {
   "cell_type": "markdown",
   "metadata": {
    "nbsphinx": "hidden"
   },
   "source": [
    "This notebook is part of the wradlib documentation: http://wradlib.org/wradlib-docs.\n",
    "\n",
    "Copyright (c) 2016, wradlib developers.\n",
    "Distributed under the MIT License. See LICENSE.txt for more info."
   ]
  },
  {
   "cell_type": "markdown",
   "metadata": {},
   "source": [
    "# Recipe #2: Reading and visualizing an ODIM_H5 polar volume"
   ]
  },
  {
   "cell_type": "markdown",
   "metadata": {},
   "source": [
    "This recipe shows how extract the polar volume data from an ODIM_H5 hdf5 file (KNMI example file from OPERA), contruct a 3-dimensional Cartesian volume and produce a diagnostic plot. The challenge for this file is that for each elevation angle, the scan strategy is different."
   ]
  },
  {
   "cell_type": "code",
   "execution_count": null,
   "metadata": {
    "collapsed": true,
    "nbsphinx": "hidden"
   },
   "outputs": [],
   "source": [
    "import wradlib as wrl\n",
    "import matplotlib.pyplot as pl\n",
    "import warnings\n",
    "warnings.filterwarnings('ignore')\n",
    "try:\n",
    "    get_ipython().magic(\"matplotlib inline\")\n",
    "except:\n",
    "    pl.ion()\n",
    "import numpy as np"
   ]
  },
  {
   "cell_type": "code",
   "execution_count": null,
   "metadata": {
    "collapsed": false
   },
   "outputs": [],
   "source": [
    "import datetime as dt\n",
    "from osgeo import osr\n",
    "\n",
    "# read the data (sample file in WRADLIB_DATA)\n",
    "filename = wrl.util.get_wradlib_data_file('hdf5/knmi_polar_volume.h5')\n",
    "raw = wrl.io.read_OPERA_hdf5(filename)\n",
    "# this is the radar position tuple (longitude, latitude, altitude)\n",
    "sitecoords = (raw[\"where\"][\"lon\"][0], raw[\"where\"][\"lat\"][0],\n",
    "              raw[\"where\"][\"height\"][0])\n",
    "# define your cartesian reference system\n",
    "# proj = wradlib.georef.create_osr(32632)\n",
    "proj = osr.SpatialReference()\n",
    "proj.ImportFromEPSG(32632)\n",
    "# containers to hold Cartesian bin coordinates and data\n",
    "xyz, data = np.array([]).reshape((-1, 3)), np.array([])\n",
    "# iterate over 14 elevation angles\n",
    "for i in range(14):\n",
    "    # get the scan metadata for each elevation\n",
    "    where = raw[\"dataset%d/where\" % (i + 1)]\n",
    "    what = raw[\"dataset%d/data1/what\" % (i + 1)]\n",
    "    # define arrays of polar coordinate arrays (azimuth and range)\n",
    "    az = np.arange(0., 360., 360. / where[\"nrays\"])\n",
    "    r = np.arange(where[\"rstart\"],\n",
    "                  where[\"rstart\"] + where[\"nbins\"] * where[\"rscale\"],\n",
    "                  where[\"rscale\"])\n",
    "    # derive 3-D Cartesian coordinate tuples\n",
    "    xyz_ = wrl.vpr.volcoords_from_polar(sitecoords, where[\"elangle\"],\n",
    "                                        az, r, proj)\n",
    "    # get the scan data for this elevation\n",
    "    #   here, you can do all the processing on the 2-D polar level\n",
    "    #   e.g. clutter elimination, attenuation correction, ...\n",
    "    data_ = what[\"offset\"] + what[\"gain\"] * raw[\n",
    "        \"dataset%d/data1/data\" % (i + 1)]\n",
    "    # transfer to containers\n",
    "    xyz, data = np.vstack((xyz, xyz_)), np.append(data, data_.ravel())\n",
    "\n",
    "# generate 3-D Cartesian target grid coordinates\n",
    "maxrange = 200000.\n",
    "minelev = 0.1\n",
    "maxelev = 25.\n",
    "maxalt = 5000.\n",
    "horiz_res = 2000.\n",
    "vert_res = 250.\n",
    "trgxyz, trgshape = wrl.vpr.make_3D_grid(sitecoords, proj, maxrange,\n",
    "                                        maxalt, horiz_res, vert_res)\n",
    "\n",
    "# interpolate to Cartesian 3-D volume grid\n",
    "tstart = dt.datetime.now()\n",
    "gridder = wrl.vpr.CAPPI(xyz, trgxyz, trgshape, maxrange, minelev,\n",
    "                        maxelev)\n",
    "vol = np.ma.masked_invalid(gridder(data).reshape(trgshape))\n",
    "print(\"3-D interpolation took:\", dt.datetime.now() - tstart)\n",
    "\n",
    "# diagnostic plot\n",
    "trgx = trgxyz[:, 0].reshape(trgshape)[0, 0, :]\n",
    "trgy = trgxyz[:, 1].reshape(trgshape)[0, :, 0]\n",
    "trgz = trgxyz[:, 2].reshape(trgshape)[:, 0, 0]\n",
    "wrl.vis.plot_max_plan_and_vert(trgx, trgy, trgz, vol, unit=\"dBZH\",\n",
    "                               levels=range(-32, 60))"
   ]
  },
  {
   "cell_type": "markdown",
   "metadata": {
    "raw_mimetype": "text/restructuredtext"
   },
   "source": [
    "<div class=\"alert alert-info\">\n",
    "\n",
    "**Note** <br>\n",
    "\n",
    "In order to run the recipe code, you need to extract the sample data into a directory pointed to by environment variable ``WRADLIB_DATA``.",
    "\n",
    "</div>"
   ]
  }
 ],
 "metadata": {
  "celltoolbar": "Raw Cell Format",
  "kernelspec": {
   "display_name": "Python 2",
   "language": "python",
   "name": "python2"
  },
  "language_info": {
   "codemirror_mode": {
    "name": "ipython",
    "version": 2
   },
   "file_extension": ".py",
   "mimetype": "text/x-python",
   "name": "python",
   "nbconvert_exporter": "python",
   "pygments_lexer": "ipython2",
   "version": "2.7.11"
  }
 },
 "nbformat": 4,
 "nbformat_minor": 0
}
