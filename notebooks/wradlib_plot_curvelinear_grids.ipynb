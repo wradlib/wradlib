{
 "cells": [
  {
   "cell_type": "markdown",
   "metadata": {
    "nbsphinx": "hidden"
   },
   "source": [
    "This notebook is part of the wradlib documentation: http://wradlib.org/wradlib-docs.\n",
    "\n",
    "Copyright (c) 2016, wradlib developers.\n",
    "Distributed under the MIT License. See LICENSE.txt for more info."
   ]
  },
  {
   "cell_type": "markdown",
   "metadata": {},
   "source": [
    "# Plot data to curvelinear grid"
   ]
  },
  {
   "cell_type": "markdown",
   "metadata": {},
   "source": [
    "## Preface"
   ]
  },
  {
   "cell_type": "markdown",
   "metadata": {},
   "source": [
    "If you are working with radar station data, it is almost ever only available as polar data.\n",
    "This means you have a 2D-array, one dimension holding the azimuth (**PPI**) or elevation\n",
    "(**RHI**) angle values and the other holding the range values.\n",
    "\n",
    "In $\\omega radlib$ it is assumed that the first dimension is over the azimuth/elevation angles,\n",
    "while the second dimension is over the range bins."
   ]
  },
  {
   "cell_type": "markdown",
   "metadata": {},
   "source": [
    "## Create Curvelinear Grid"
   ]
  },
  {
   "cell_type": "markdown",
   "metadata": {},
   "source": [
    "The creation process of the curvelinear grid is bundled in the helper function [wradlib.vis.create_cg()](generated/wradlib.vis.create_cg.rst). I will not dwell too much on that, just this far [wradlib.vis.create_cg()](generated/wradlib.vis.create_cg.rst) uses a derived Axes implementation.\n",
    "\n",
    "[wradlib.vis.create_cg()](generated/wradlib.vis.create_cg.rst) takes scan type ('PPI' or 'RHI') as argument, figure object and grid definition are optional. The grid creation process generates three axes objects and set some reasonable starting values for labeling.\n",
    "\n",
    "The returned objects are ``cgax``, ``caax`` and ``paax``.\n",
    "\n",
    "- ``cgax``: matplotlib toolkit axisartist Axes object, Curvelinear Axes which holds the angle-range-grid\n",
    "- ``caax``: matplotlib Axes object (twin to cgax), Cartesian Axes (x-y-grid) for plotting cartesian data\n",
    "- ``paax``: matplotlib Axes object (parasite to cgax), The parasite axes object for plotting polar data\n",
    "\n",
    "A typical invocation of [wradlib.vis.create_cg()](generated/wradlib.vis.create_cg.rst) for a **PPI** is:\n",
    "\n",
    "```python\n",
    "    # create curvelinear axes\n",
    "    cgax, caax, paax = create_cg('PPI', fig, subplot)\n",
    "```\n",
    "\n",
    "For plotting actual polar data two functions exist, depending on whether your data holds a **PPI**\n",
    "[wradlib.vis.plot_cg_ppi()](generated/wradlib.vis.plot_cg_ppi.rst) or an **RHI** ([wradlib.vis.plot_cg_rhi()](generated/wradlib.vis.plot_cg_rhi.rst))."
   ]
  },
  {
   "cell_type": "markdown",
   "metadata": {},
   "source": [
    "Note\n",
    "----\n",
    "1. Other than most plotting functions you cannot give an axes object as an argument. All necessary axes objects are created on the fly. You may give an figure object and/or an subplot specification as parameter. For further information on howto plot multiple cg plots in one figure, have a look at the special section [Plotting on Grids](#Plotting-on-Grids).\n",
    "\n",
    "2. When using the ``refrac`` keyword with [wradlib.vis.plot_cg_rhi()](generated/wradlib.vis.plot_cg_rhi.rst) the data is plotted to the cartesian axis ``caax``."
   ]
  },
  {
   "cell_type": "markdown",
   "metadata": {},
   "source": [
    "Seealso\n",
    "-------\n",
    "- [wradlib.vis.create_cg()](generated/wradlib.vis.create_cg.rst)\n",
    "- [wradlib.vis.plot_cg_ppi()](generated/wradlib.vis.plot_cg_ppi.rst)\n",
    "- [wradlib.vis.plot_cg_rhi()](generated/wradlib.vis.plot_cg_rhi.rst)\n",
    "\n",
    "If you want to learn more about the matplotlib features used with [wradlib.vis.create_cg()](generated/wradlib.vis.create_cg.rst), have a look into\n",
    "\n",
    "- [Matplotlib AXISARTIST namespace](http://matplotlib.org/mpl_toolkits/axes_grid/users/axisartist.html)\n",
    "- [Matplotlib AxesGrid Toolkit](http://matplotlib.org/mpl_toolkits/axes_grid/index.html)\n",
    "- [The Matplotlib AxesGrid Toolkit User’s Guide](http://matplotlib.org/mpl_toolkits/axes_grid/users/index.html)"
   ]
  },
  {
   "cell_type": "markdown",
   "metadata": {},
   "source": [
    "## Plotting on Curvelinear Grids"
   ]
  },
  {
   "cell_type": "markdown",
   "metadata": {},
   "source": [
    "### Plot CG PPI"
   ]
  },
  {
   "cell_type": "markdown",
   "metadata": {},
   "source": [
    "[wradlib.vis.plot_cg_ppi()](generated/wradlib.vis.plot_cg_ppi.rst) is used in this section. There is also an\n",
    ":download:`example file <../../examples/plot_cg_ppi_example.py>` in the examples\n",
    "section, which covers most of the shown plotting capabilities."
   ]
  },
  {
   "cell_type": "markdown",
   "metadata": {},
   "source": [
    "#### Simple CG PPI"
   ]
  },
  {
   "cell_type": "markdown",
   "metadata": {},
   "source": [
    "First we will look into plotting a **PPI**. We start with importing the necessary modules:"
   ]
  },
  {
   "cell_type": "code",
   "execution_count": null,
   "metadata": {
    "collapsed": true
   },
   "outputs": [],
   "source": [
    "import wradlib as wrl\n",
    "import matplotlib.pyplot as pl\n",
    "import warnings\n",
    "warnings.filterwarnings('ignore')\n",
    "try:\n",
    "    get_ipython().magic(\"matplotlib inline\")\n",
    "except:\n",
    "    pl.ion()\n",
    "import numpy as np"
   ]
  },
  {
   "cell_type": "markdown",
   "metadata": {},
   "source": [
    "Next, we will load a polar scan from the WRADLIB_DATA folder and prepare it:"
   ]
  },
  {
   "cell_type": "code",
   "execution_count": null,
   "metadata": {
    "collapsed": false
   },
   "outputs": [],
   "source": [
    "# load a polar scan and create range and azimuth arrays accordingly\n",
    "filename = wrl.util.get_wradlib_data_file('misc/polar_dBZ_tur.gz')\n",
    "data = np.loadtxt(filename)\n",
    "r = np.arange(0, data.shape[1])\n",
    "az = np.arange(0, data.shape[0])\n",
    "# mask data array for better presentation\n",
    "mask_ind = np.where(data <= np.nanmin(data))\n",
    "data[mask_ind] = np.nan\n",
    "ma = np.ma.array(data, mask=np.isnan(data))"
   ]
  },
  {
   "cell_type": "markdown",
   "metadata": {},
   "source": [
    "For this simple example, we do not need the returned axes. The plotting routine would be invoked like this:"
   ]
  },
  {
   "cell_type": "code",
   "execution_count": null,
   "metadata": {
    "collapsed": false
   },
   "outputs": [],
   "source": [
    "fig = pl.figure(figsize=(10,8))\n",
    "wrl.vis.plot_cg_ppi(ma, fig=fig, refrac=False)\n",
    "t = pl.title('Simple CG PPI')\n",
    "t.set_y(1.05)"
   ]
  },
  {
   "cell_type": "markdown",
   "metadata": {},
   "source": [
    "### Decorated CG PPI"
   ]
  },
  {
   "cell_type": "markdown",
   "metadata": {},
   "source": [
    "Now we will make use of some of the capabilities of this curvelinear axes.\n",
    "\n",
    "You see, that for labeling x- and y-axis the cartesian axis is used. The `azimuth` label\n",
    "is set via :func:`text`. Also a colorbar is easily added. The plotting routine would be invoked like this, adding range and azimuth arrays and using the ``autoext`` feature:"
   ]
  },
  {
   "cell_type": "code",
   "execution_count": null,
   "metadata": {
    "collapsed": false
   },
   "outputs": [],
   "source": [
    "fig = pl.figure(figsize=(10,8))\n",
    "cgax, caax, paax, pm = wrl.vis.plot_cg_ppi(ma, r, az, autoext=True,\n",
    "                                           fig=fig, refrac=False)\n",
    "t = pl.title('Decorated CG PPI')\n",
    "t.set_y(1.05)\n",
    "cbar = pl.gcf().colorbar(pm, pad=0.075)\n",
    "caax.set_xlabel('x_range [km]')\n",
    "caax.set_ylabel('y_range [km]')\n",
    "pl.text(1.0, 1.05, 'azimuth', transform=caax.transAxes, va='bottom', \n",
    "        ha='right')\n",
    "cbar.set_label('reflectivity [dBZ]')"
   ]
  },
  {
   "cell_type": "markdown",
   "metadata": {},
   "source": [
    "### Sector CG PPI"
   ]
  },
  {
   "cell_type": "markdown",
   "metadata": {},
   "source": [
    "What if I want to plot only an interesting sector of the whole **PPI**? Not as easy, one might think.\n",
    "We also can generate a so called floating axis using the ``cgax`` now. Here we go:"
   ]
  },
  {
   "cell_type": "code",
   "execution_count": null,
   "metadata": {
    "collapsed": false
   },
   "outputs": [],
   "source": [
    "fig = pl.figure(figsize=(10,8))\n",
    "cgax, caax, paax, pm = wrl.vis.plot_cg_ppi(ma[200:250, 40:80],\n",
    "                                           r[40:81], az[200:251],\n",
    "                                           autoext=False,\n",
    "                                           fig=fig, refrac=False)\n",
    "t = pl.title('Decorated Sector CG PPI')\n",
    "t.set_y(1.05)\n",
    "cbar = pl.gcf().colorbar(pm, pad=0.075)\n",
    "caax.set_xlabel('x_range [km]')\n",
    "caax.set_ylabel('y_range [km]')\n",
    "pl.text(1.0, 1.05, 'azimuth', transform=caax.transAxes, va='bottom',\n",
    "        ha='right')\n",
    "cbar.set_label('reflectivity [dBZ]')\n",
    "\n",
    "# add floating axis\n",
    "cgax.axis[\"lat\"] = cgax.new_floating_axis(0, 240)\n",
    "cgax.axis[\"lat\"].set_ticklabel_direction('-')\n",
    "cgax.axis[\"lat\"].label.set_text(\"range [km]\")\n",
    "cgax.axis[\"lat\"].label.set_rotation(180)\n",
    "cgax.axis[\"lat\"].label.set_pad(10)"
   ]
  },
  {
   "cell_type": "markdown",
   "metadata": {},
   "source": [
    "### Special Markers"
   ]
  },
  {
   "cell_type": "markdown",
   "metadata": {},
   "source": [
    "One more good thing about curvelinear axes is that you can plot polar as well as cartesian data. However,\n",
    "you have to be careful, where to plot. Polar data has to be plottet to the parasite axis (``paax``). Cartesian\n",
    "data can be plottet to ``caax``, although you can also plot cartesian data to the main ``cgax``.\n",
    "\n",
    "Anyway, it is easy to overlay your polar data, with other station data (e.g. gauges).\n",
    "Taking the former sector example, we can plot some additional **stations**:"
   ]
  },
  {
   "cell_type": "code",
   "execution_count": null,
   "metadata": {
    "collapsed": false
   },
   "outputs": [],
   "source": [
    "fig = pl.figure(figsize=(10,8))\n",
    "cgax, caax, paax, pm = wrl.vis.plot_cg_ppi(ma[200:250, 40:80],\n",
    "                                           r[40:81], az[200:251],\n",
    "                                           autoext=False,\n",
    "                                           fig=fig, refrac=False)\n",
    "t = pl.title('Decorated Sector CG PPI')\n",
    "t.set_y(1.05)\n",
    "cbar = pl.gcf().colorbar(pm, pad=0.075)\n",
    "caax.set_xlabel('x_range [km]')\n",
    "caax.set_ylabel('y_range [km]')\n",
    "pl.text(1.0, 1.05, 'azimuth', transform=caax.transAxes, va='bottom',\n",
    "        ha='right')\n",
    "cbar.set_label('reflectivity [dBZ]')\n",
    "cgax.axis[\"lat\"] = cgax.new_floating_axis(0, 240)\n",
    "cgax.axis[\"lat\"].set_ticklabel_direction('-')\n",
    "cgax.axis[\"lat\"].label.set_text(\"range [km]\")\n",
    "cgax.axis[\"lat\"].label.set_rotation(180)\n",
    "cgax.axis[\"lat\"].label.set_pad(10)\n",
    "#plot on cartesian axis\n",
    "caax.plot(-60, -60, 'ro', label=\"caax\")\n",
    "caax.plot(-50, -70, 'ro')\n",
    "# plot on polar axis\n",
    "paax.plot(220, 90, 'bo', label=\"paax\")\n",
    "# plot on cg axis (same as on cartesian axis)\n",
    "cgax.plot(-50, -60, 'go', label=\"cgax\")\n",
    "# legend on main cg axis\n",
    "cgax.legend()"
   ]
  },
  {
   "cell_type": "markdown",
   "metadata": {},
   "source": [
    "### Special Specials"
   ]
  },
  {
   "cell_type": "markdown",
   "metadata": {},
   "source": [
    "But there is more to know, when using the curvelinear grids! As an example, you can get access to the underlying\n",
    "``cgax`` and ``grid_helper`` to change the azimuth and range resolution:"
   ]
  },
  {
   "cell_type": "code",
   "execution_count": null,
   "metadata": {
    "collapsed": false
   },
   "outputs": [],
   "source": [
    "from mpl_toolkits.axisartist.grid_finder import FixedLocator, DictFormatter\n",
    "fig = pl.figure(figsize=(10,8))\n",
    "cgax, caax, paax, pm = wrl.vis.plot_cg_ppi(ma[200:250, 40:80],\n",
    "                                           r[40:81], az[200:251],\n",
    "                                           autoext=False,\n",
    "                                           fig=fig, refrac=False)\n",
    "t = pl.title('Decorated Sector CG PPI')\n",
    "t.set_y(1.05)\n",
    "cbar = pl.gcf().colorbar(pm, pad=0.075)\n",
    "caax.set_xlabel('x_range [km]')\n",
    "caax.set_ylabel('y_range [km]')\n",
    "pl.text(1.0, 1.05, 'azimuth', transform=caax.transAxes, va='bottom',\n",
    "        ha='right')\n",
    "cbar.set_label('reflectivity [dBZ]')\n",
    "gh = cgax.get_grid_helper()\n",
    "# set azimuth resolution to 15deg\n",
    "locs = [i for i in np.arange(0., 359., 5.)]\n",
    "gh.grid_finder.grid_locator1 = FixedLocator(locs)\n",
    "gh.grid_finder.tick_formatter1 = DictFormatter(dict([(i, r\"${0:.0f}^\\circ$\".format(i)) for i in locs]))\n",
    "gh.grid_finder.grid_locator2._nbins = 30\n",
    "gh.grid_finder.grid_locator2._steps = [1, 1.5, 2, 2.5, 5, 10]\n",
    "cgax.axis[\"lat\"] = cgax.new_floating_axis(0, 240)\n",
    "cgax.axis[\"lat\"].set_ticklabel_direction('-')\n",
    "cgax.axis[\"lat\"].label.set_text(\"range [km]\")\n",
    "cgax.axis[\"lat\"].label.set_rotation(180)\n",
    "cgax.axis[\"lat\"].label.set_pad(10)"
   ]
  },
  {
   "cell_type": "markdown",
   "metadata": {},
   "source": [
    "The use of ``FixedLocator`` and ``DictFormatter`` should be clear. The use of `_nbins` and ``_steps`` is\n",
    "a bit of head-twisting. With ``_steps`` you can set the possible divisions of the range. In connection with\n",
    "the ``_nbins`` the range grid is created depending on maximum range. In the above situation with ``_nbins``\n",
    "set to 10 we get an range grid resolution of 25 (divider 2.5). When setting steps to 20 we get a resolution\n",
    "of 15 (divider 1.5). Choosing 30 lead to resolution of 10 (divider 1/10). So it may be good to play around\n",
    "a bit, for wanted results."
   ]
  },
  {
   "cell_type": "markdown",
   "metadata": {},
   "source": [
    "As you might have noticed the cartesian grid remained the same and the azimuth labels are bit overplottet.\n",
    "But matplotlib would be not matplotlib if there would be no solution. First we take care of the labeling.\n",
    "We push the title a bit higher to get space and toggle the ``caax`` labels to right and top:\n",
    "\n",
    "```python\n",
    "    t = plt.title('Very Special Sector CG PPI')\n",
    "    t.set_y(1.1)\n",
    "    caax.toggle_axisline()\n",
    "```\n",
    "\n",
    "Then we **toggle** \"left\" and \"right\" and \"top\" and \"bottom\" axis behaviour. We also have to put the colorbar a bit to the side and alter the location of the azimuth label. And, not to forgot to adapt the ticklabels of the cartesian axes. With little effort we got a better (IMHO) representation."
   ]
  },
  {
   "cell_type": "code",
   "execution_count": null,
   "metadata": {
    "collapsed": false
   },
   "outputs": [],
   "source": [
    "fig = pl.figure(figsize=(10,8))\n",
    "cgax, caax, paax, pm = wrl.vis.plot_cg_ppi(ma[200:250, 40:80],\n",
    "                                           r[40:81], az[200:251],\n",
    "                                           autoext=False,\n",
    "                                           fig=fig, refrac=False)\n",
    "t = pl.title('Very Special Sector CG PPI')\n",
    "t.set_y(1.1)\n",
    "cbar = pl.gcf().colorbar(pm, pad=0.1)\n",
    "caax.set_xlabel('x_range [km]')\n",
    "caax.set_ylabel('y_range [km]')\n",
    "caax.toggle_axisline()\n",
    "caax.grid(True)\n",
    "\n",
    "from matplotlib.ticker import MaxNLocator\n",
    "caax.xaxis.set_major_locator(MaxNLocator(15))\n",
    "caax.yaxis.set_major_locator(MaxNLocator(15))\n",
    "\n",
    "# make ticklabels of left and bottom axis visible,\n",
    "cgax.axis[\"left\"].major_ticklabels.set_visible(True)\n",
    "cgax.axis[\"bottom\"].major_ticklabels.set_visible(True)\n",
    "cgax.axis[\"left\"].get_helper().nth_coord_ticks = 0\n",
    "cgax.axis[\"bottom\"].get_helper().nth_coord_ticks = 0\n",
    "# and also set tickmarklength to zero for better presentation\n",
    "cgax.axis[\"right\"].major_ticks.set_ticksize(0)\n",
    "cgax.axis[\"top\"].major_ticks.set_ticksize(0)\n",
    "# make ticklabels of left and bottom axis unvisible,\n",
    "# because we are drawing them\n",
    "cgax.axis[\"right\"].major_ticklabels.set_visible(False)\n",
    "cgax.axis[\"top\"].major_ticklabels.set_visible(False)\n",
    "# and also set tickmarklength to zero for better presentation\n",
    "cgax.axis[\"right\"].major_ticks.set_ticksize(0)\n",
    "cgax.axis[\"top\"].major_ticks.set_ticksize(0)\n",
    "pl.text(0.025, -0.065, 'azimuth', transform=caax.transAxes, va='bottom',\n",
    "        ha='left')\n",
    "cbar.set_label('reflectivity [dBZ]')\n",
    "gh = cgax.get_grid_helper()\n",
    "# set azimuth resolution to 5deg\n",
    "locs = [i for i in np.arange(0., 359., 5.)]\n",
    "gh.grid_finder.grid_locator1 = FixedLocator(locs)\n",
    "gh.grid_finder.tick_formatter1 = DictFormatter(dict([(i, r\"${0:.0f}^\\circ$\".format(i)) for i in locs]))\n",
    "#gh.grid_finder.grid_locator1 = FixedLocator([i for i in np.arange(0, 359, 5, dtype=np.int32)])\n",
    "#gh.grid_finder.grid_locator1 = LocatorDMS(15)\n",
    "gh.grid_finder.grid_locator2._nbins = 30\n",
    "gh.grid_finder.grid_locator2._steps = [1, 1.5, 2, 2.5, 5, 10]\n",
    "cgax.axis[\"lat\"] = cgax.new_floating_axis(0, 240)\n",
    "cgax.axis[\"lat\"].set_ticklabel_direction('-')\n",
    "cgax.axis[\"lat\"].label.set_text(\"range [km]\")\n",
    "cgax.axis[\"lat\"].label.set_rotation(180)\n",
    "cgax.axis[\"lat\"].label.set_pad(10)"
   ]
  },
  {
   "cell_type": "markdown",
   "metadata": {},
   "source": [
    "## Plot CG RHI"
   ]
  },
  {
   "cell_type": "markdown",
   "metadata": {},
   "source": [
    "[wradlib.vis.plot_cg_rhi()](generated/wradlib.vis.plot_cg_rhi.rst) is used in this section. There is also an\n",
    ":download:`example file <../../examples/plot_cg_rhi_example.py>` in the examples section, which covers most of the shown plotting capabilities.\n",
    "\n",
    "An CG RHI plot is a little different compared to an CG PPI plot. I covers only one quadrant and\n",
    "the data is plottet counterclockwise from \"east\" (3 o'clock) to \"north\" (12 o'clock).\n",
    "\n",
    "Everything else is much the same and you can do whatever you want as shown in the section [Plot CG PPI](#Plot-CG-PPI).\n",
    "\n",
    "So just a quick example of an cg rhi plot with some decorations. Note, the ``grid_locator1`` for the theta angles is overwritten and now the grid is much finer."
   ]
  },
  {
   "cell_type": "code",
   "execution_count": null,
   "metadata": {
    "collapsed": false
   },
   "outputs": [],
   "source": [
    "from mpl_toolkits.axisartist.grid_finder import FixedLocator, DictFormatter\n",
    "# reading in GAMIC hdf5 file\n",
    "filename = wrl.util.get_wradlib_data_file('hdf5/2014-06-09--185000.rhi.mvol')\n",
    "data, metadata = wrl.io.read_GAMIC_hdf5(filename)\n",
    "data = data['SCAN0']['ZH']['data']\n",
    "r = metadata['SCAN0']['r']\n",
    "th = metadata['SCAN0']['el']\n",
    "# mask data array for better presentation\n",
    "mask_ind = np.where(data <= np.nanmin(data))\n",
    "data[mask_ind] = np.nan\n",
    "ma = np.ma.array(data, mask=np.isnan(data))\n",
    "#----------------------------------------------------------------\n",
    "# the simplest call, plot cg rhi in new window\n",
    "fig = pl.figure(figsize=(10,8))\n",
    "cgax, caax, paax, pm = wrl.vis.plot_cg_rhi(ma, r=r, th=th, rf=1e3, refrac=False,\n",
    "                                           fig=fig, subplot=111)\n",
    "t = pl.title('Decorated CG RHI')\n",
    "t.set_y(1.05)\n",
    "cgax.set_ylim(0,14)\n",
    "cbar = pl.gcf().colorbar(pm, pad=0.05)\n",
    "cbar.set_label('reflectivity [dBZ]')\n",
    "caax.set_xlabel('x_range [km]')\n",
    "caax.set_ylabel('y_range [km]')\n",
    "pl.text(1.0, 1.05, 'azimuth', transform=caax.transAxes, va='bottom',\n",
    "        ha='right')\n",
    "gh = cgax.get_grid_helper()\n",
    "# set theta to some nice values\n",
    "#gh.grid_finder.grid_locator1 = FixedLocator([i for i in np.arange(0, 359, 5)])\n",
    "locs = [0., 1., 2., 3., 4., 5., 6., 7., 8., 9., 10., 11., 12., 13., 14.,\n",
    "                15., 16., 17., 18., 20., 22., 25., 30., 35.,  40., 50., 60., 70., 80., 90.]\n",
    "gh.grid_finder.grid_locator1 = FixedLocator(locs)\n",
    "gh.grid_finder.tick_formatter1 = DictFormatter(dict([(i, r\"${0:.0f}^\\circ$\".format(i)) for i in locs]))"
   ]
  },
  {
   "cell_type": "markdown",
   "metadata": {},
   "source": [
    "## Plotting on Grids"
   ]
  },
  {
   "cell_type": "markdown",
   "metadata": {},
   "source": [
    "There are serveral possibilities to plot multiple cg plots in one figure. Since both plotting routines\n",
    "are equipped with the same mechanisms it is concentrated mostly on **RHI** plots."
   ]
  },
  {
   "cell_type": "markdown",
   "metadata": {},
   "source": [
    "Note\n",
    "----\n",
    "Using the :func:`tight_layout` and :func:`subplots_adjust` functions most alignment problems can be avoided.\n",
    "\n",
    "* [The Built-In Method](#The-Built-In-Method)\n",
    "* [The GridSpec Method](#The-GridSpec-Method)\n",
    "* [The AxesDivider Method](#The-AxesDivider-Method)"
   ]
  },
  {
   "cell_type": "markdown",
   "metadata": {},
   "source": [
    "### The Built-In Method"
   ]
  },
  {
   "cell_type": "markdown",
   "metadata": {},
   "source": [
    "Using the matplotlib grid definition for the parameter ``subplot``, we can easily plot two or more plots\n",
    "in one figure on a regular grid:"
   ]
  },
  {
   "cell_type": "code",
   "execution_count": null,
   "metadata": {
    "collapsed": false
   },
   "outputs": [],
   "source": [
    "# mask data array for better presentation\n",
    "mask_ind = np.where(data <= np.nanmin(data))\n",
    "data[mask_ind] = np.nan\n",
    "ma = np.ma.array(data, mask=np.isnan(data))\n",
    "subplots = [221, 222, 223, 224]\n",
    "fig = pl.figure(figsize=(10,8))\n",
    "for sp in subplots:\n",
    "    cgax, caax, paax, pm = wrl.vis.plot_cg_rhi(ma,\n",
    "                                               r, th, rf=1e3, autoext=True,\n",
    "                                               refrac=False, subplot=sp)\n",
    "    t = pl.title('CG RHI #%(sp)d' %locals())\n",
    "    t.set_y(1.1)\n",
    "    cgax.set_ylim(0, 15)\n",
    "    cbar = pl.gcf().colorbar(pm, pad=0.125)\n",
    "    caax.set_xlabel('range [km]')\n",
    "    caax.set_ylabel('height [km]')\n",
    "    gh = cgax.get_grid_helper()\n",
    "    # set theta to some nice values\n",
    "    locs = [0., 5., 10., 15., 20., 30., 40., 60., 90.]\n",
    "    gh.grid_finder.grid_locator1 = FixedLocator(locs)\n",
    "    gh.grid_finder.tick_formatter1 = DictFormatter(dict([(i, r\"${0:.0f}^\\circ$\".format(i)) for i in locs]))\n",
    "    cbar.set_label('reflectivity [dBZ]')"
   ]
  },
  {
   "cell_type": "markdown",
   "metadata": {},
   "source": [
    "### The GridSpec Method"
   ]
  },
  {
   "cell_type": "markdown",
   "metadata": {},
   "source": [
    "Here the abilities of [Matplotlib GridSpec](http://matplotlib.org/users/gridspec.html) are used.\n",
    "Now we can also plot on irregular grids. Just create your grid and take the GridSpec object as an input to the parameter ``subplot`` as follows (some padding has to be adjusted to get a nice plot):"
   ]
  },
  {
   "cell_type": "code",
   "execution_count": null,
   "metadata": {
    "collapsed": false
   },
   "outputs": [],
   "source": [
    "import matplotlib.gridspec as gridspec\n",
    "gs = gridspec.GridSpec(3, 3)\n",
    "subplots = [gs[0, :], gs[1, :-1], gs[1:, -1], gs[-1, 0], gs[-1, -2]]\n",
    "cbarpad = [0.05, 0.075, 0.2, 0.2, 0.2]\n",
    "labelpad = [1.25, 1.25, 1.1, 1.25, 1.25]\n",
    "fig = pl.figure(figsize=(10,8))\n",
    "for i, sp in enumerate(subplots):\n",
    "    cgax, caax, paax, pm = wrl.vis.plot_cg_rhi(ma,\n",
    "                                               r, th, rf=1e3, autoext=True,\n",
    "                                               refrac=False, subplot=sp)\n",
    "    t = pl.title('CG RHI #%(i)d' %locals())\n",
    "    t.set_y(labelpad[i])\n",
    "    cgax.set_ylim(0, 15)\n",
    "    cbar = pl.gcf().colorbar(pm, pad=cbarpad[i])\n",
    "    caax.set_xlabel('range [km]')\n",
    "    caax.set_ylabel('height [km]')\n",
    "    gh = cgax.get_grid_helper()\n",
    "    # set theta to some nice values\n",
    "    locs = [0., 5., 10., 15., 20., 30., 40., 60., 90.]\n",
    "    gh.grid_finder.grid_locator1 = FixedLocator(locs)\n",
    "    gh.grid_finder.tick_formatter1 = DictFormatter(dict([(i, r\"${0:.0f}^\\circ$\".format(i)) for i in locs]))\n",
    "    cbar.set_label('reflectivity [dBZ]')"
   ]
  },
  {
   "cell_type": "markdown",
   "metadata": {},
   "source": [
    "### The AxesDivider Method"
   ]
  },
  {
   "cell_type": "markdown",
   "metadata": {},
   "source": [
    "Here the capabilities of [Matplotlib AxesGrid1](http://matplotlib.org/mpl_toolkits/axes_grid/users/overview.html#axes-grid1) are used.\n",
    "\n",
    "We make a **PPI** now, it matches much better. Just plot your **PPI** data and create an axes divider:\n",
    "\n",
    "```python\n",
    "    from mpl_toolkits.axes_grid1 import make_axes_locatable\n",
    "    from matplotlib.ticker import NullFormatter, FuncFormatter, MaxNLocator\n",
    "    divider = make_axes_locatable(cgax)\n",
    "```\n",
    "\n",
    "Now you can easily append more axes to plot some other things, eg a maximum intensity projection:\n",
    "\n",
    "```python\n",
    "    axMipX = divider.append_axes(\"top\", size=1.2, pad=0.1, sharex=cgax))\n",
    "    axMipY = divider.append_axes(\"right\", size=1.2, pad=0.1, sharey=cgax))\n",
    "```"
   ]
  },
  {
   "cell_type": "markdown",
   "metadata": {},
   "source": [
    "OK, we have to create the mip data, we use the [wradlib.util.maximum_intensity_projection()](generated/wradlib.util.maximum_intensity_projection.rst):"
   ]
  },
  {
   "cell_type": "code",
   "execution_count": null,
   "metadata": {
    "collapsed": true
   },
   "outputs": [],
   "source": [
    "# angle of *cut* through ppi and scan elev.\n",
    "angle = 0.0\n",
    "elev = 0.0\n",
    "\n",
    "filename = wrl.util.get_wradlib_data_file('misc/polar_dBZ_tur.gz')\n",
    "data = np.loadtxt(filename)\n",
    "# we need to have meter here for the georef function inside mip\n",
    "d1 = np.arange(data.shape[1], dtype=np.float) * 1000\n",
    "d2 = np.arange(data.shape[0], dtype=np.float)\n",
    "data = np.roll(data, (d2 >= angle).nonzero()[0][0], axis=0)\n",
    "\n",
    "# calculate max intensity proj\n",
    "xs, ys, mip1 = wrl.util.maximum_intensity_projection(data, r=d1, az=d2, angle=angle, elev=elev)\n",
    "xs, ys, mip2 = wrl.util.maximum_intensity_projection(data, r=d1, az=d2, angle=90+angle, elev=elev)"
   ]
  },
  {
   "cell_type": "markdown",
   "metadata": {},
   "source": [
    "We also need a new formatter:"
   ]
  },
  {
   "cell_type": "code",
   "execution_count": null,
   "metadata": {
    "collapsed": true
   },
   "outputs": [],
   "source": [
    "def mip_formatter(x, pos):\n",
    "    x = x / 1000.\n",
    "    fmt_str = '{:g}'.format(x)\n",
    "    if np.abs(x) > 0 and np.abs(x) < 1:\n",
    "        return fmt_str.replace(\"0\", \"\", 1)\n",
    "    else:\n",
    "        return fmt_str"
   ]
  },
  {
   "cell_type": "code",
   "execution_count": null,
   "metadata": {
    "collapsed": false
   },
   "outputs": [],
   "source": [
    "from mpl_toolkits.axes_grid1 import make_axes_locatable\n",
    "from matplotlib.ticker import NullFormatter, FuncFormatter, MaxNLocator\n",
    "\n",
    "fig = pl.figure(figsize=(10,8))\n",
    "# normal cg plot\n",
    "cgax, caax, paax, pm = wrl.vis.plot_cg_ppi(data, r=d1, az=d2, refrac=True, fig=fig)\n",
    "cgax.set_xlim(-np.max(d1),np.max(d1))\n",
    "cgax.set_ylim(-np.max(d1),np.max(d1))\n",
    "caax.xaxis.set_major_formatter(FuncFormatter(mip_formatter))\n",
    "caax.yaxis.set_major_formatter(FuncFormatter(mip_formatter))\n",
    "caax.set_xlabel('x_range [km]')\n",
    "caax.set_ylabel('y_range [km]')\n",
    "\n",
    "# axes divider section\n",
    "divider = make_axes_locatable(cgax)\n",
    "axMipX = divider.append_axes(\"top\", size=1.2, pad=0.1, sharex=cgax)\n",
    "axMipY = divider.append_axes(\"right\", size=1.2, pad=0.1, sharey=cgax)\n",
    "\n",
    "# special handling for labels etc.\n",
    "cgax.axis[\"right\"].major_ticklabels.set_visible(False)\n",
    "cgax.axis[\"top\"].major_ticklabels.set_visible(False)\n",
    "axMipX.xaxis.set_major_formatter(NullFormatter())\n",
    "axMipX.yaxis.set_major_formatter(FuncFormatter(mip_formatter))\n",
    "axMipX.yaxis.set_major_locator(MaxNLocator(5))\n",
    "axMipY.yaxis.set_major_formatter(NullFormatter())\n",
    "axMipY.xaxis.set_major_formatter(FuncFormatter(mip_formatter))\n",
    "axMipY.xaxis.set_major_locator(MaxNLocator(5))\n",
    "\n",
    "# plot max intensity proj\n",
    "ma = np.ma.array(mip1, mask=np.isnan(mip1))\n",
    "axMipX.pcolormesh(xs, ys, ma)\n",
    "ma = np.ma.array(mip2, mask=np.isnan(mip2))\n",
    "axMipY.pcolormesh(ys.T, xs.T, ma.T)\n",
    "\n",
    "# set labels, limits etc\n",
    "axMipX.set_xlim(-np.max(d1),np.max(d1))\n",
    "axMipX.set_ylim(0, wrl.georef.beam_height_n(d1[-2], elev))\n",
    "axMipY.set_xlim(0, wrl.georef.beam_height_n(d1[-2], elev))\n",
    "axMipY.set_ylim(-np.max(d1),np.max(d1))\n",
    "axMipX.set_ylabel('height [km]')\n",
    "axMipY.set_xlabel('height [km]')\n",
    "axMipX.grid(True)\n",
    "axMipY.grid(True)\n",
    "t = pl.gcf().suptitle('AxesDivider CG-MIP Example')"
   ]
  }
 ],
 "metadata": {
  "celltoolbar": "Edit Metadata",
  "kernelspec": {
   "display_name": "Python 2",
   "language": "python",
   "name": "python2"
  },
  "language_info": {
   "codemirror_mode": {
    "name": "ipython",
    "version": 2
   },
   "file_extension": ".py",
   "mimetype": "text/x-python",
   "name": "python",
   "nbconvert_exporter": "python",
   "pygments_lexer": "ipython2",
   "version": "2.7.11"
  }
 },
 "nbformat": 4,
 "nbformat_minor": 1
}
