{
 "cells": [
  {
   "cell_type": "markdown",
   "metadata": {
    "nbsphinx": "hidden"
   },
   "source": [
    "This notebook is part of the $\\omega radlib$ documentation: http://wradlib.org/wradlib-docs.\n",
    "\n",
    "Copyright (c) 2016, $\\omega radlib$ developers.\n",
    "Distributed under the MIT License. See LICENSE.txt for more info."
   ]
  },
  {
   "cell_type": "markdown",
   "metadata": {},
   "source": [
    "# Visualisation and plotting with Matplotlib"
   ]
  },
  {
   "cell_type": "markdown",
   "metadata": {},
   "source": [
    "Matplotlib is the key Python package for producing so called publication-ready plot. It provides the basis for $\\omega radlib$'s entire [visualisation module](../vis), and is typically used together with [NumPy](numpyintro.ipynb) - which is the other major $\\omega radlib$ dependency.\n",
    "\n",
    "In our example notebooks, we use the magic command `%matplotlib inline`. This turns on \"inline plotting\", where plot graphics will appear in your notebook. This has important implications for interactivity: for inline plotting, commands in cells below the cell that outputs a plot will not affect the plot. For example, changing the color map is not possible from cells below the cell that creates a plot. However, for other backends, such as qt4, that open a separate window, cells below those that create the plot will change the plot - it is a live object in memory. If you are not using matplotlib in interactive mode at all, figures will only appear if you invoke `plt.show()`. \n",
    "\n",
    "If you do not want to use inline plotting, just use `%matplotlib` instead of `%matplotlib inline`. The Kernel has to be restarted for this change to become effective.\n",
    "\n",
    "<div class=\"alert alert-info\">\n",
    "\n",
    "**Note** <br>\n",
    "\n",
    "Using the `inline` parameter is mandatory if you are using the [Virtual Machine for Cross-Platform Weather Radar Science](http://openradar.github.io).\n",
    "\n",
    "</div>\n",
    "\n",
    "In the following, we use a sightly different syntax for `matplotlib inline`. This is because the notebook needs to be convertable to a Python script where IPython magic does not work. Please don't let this confuse you..."
   ]
  },
  {
   "cell_type": "code",
   "execution_count": null,
   "metadata": {
    "collapsed": true
   },
   "outputs": [],
   "source": [
    "# Instead of matplotlib inline\n",
    "import matplotlib.pyplot as pl\n",
    "try:\n",
    "    get_ipython().magic(\"matplotlib inline\")\n",
    "except:\n",
    "    pl.ion()\n",
    "import numpy as np"
   ]
  },
  {
   "cell_type": "markdown",
   "metadata": {},
   "source": [
    "## Simple plots and decorations\n",
    "\n",
    "After these imports, inline plots should work rightaway, e.g. a simple line plot of the sinus function:"
   ]
  },
  {
   "cell_type": "code",
   "execution_count": null,
   "metadata": {
    "collapsed": false
   },
   "outputs": [],
   "source": [
    "x = np.arange(0,4*np.pi,0.1)\n",
    "y = np.sin(x)\n",
    "pl.plot(x, y)"
   ]
  },
  {
   "cell_type": "markdown",
   "metadata": {},
   "source": [
    "## More complex plots and fine control\n",
    "\n",
    "A matplotlib plot can be understood from an object-oriented perspective. Each plot consists of a figure object (like a  canvas), an axes object (like a subplot or panel), and other objects such as a title, an axis, or a colorbar.\n",
    "\n",
    "![alt text](http://matplotlib.org/_images/fig_map.png \"Elements of plot\")\n",
    "\n",
    "Accordingly, a plot can be developed by creating or modifying the different objects. For example, the size of the entire plot is controlled by the `Figure` object. Each `subplot` in that figure corresponds to an `axes` object."
   ]
  },
  {
   "cell_type": "code",
   "execution_count": null,
   "metadata": {
    "collapsed": false
   },
   "outputs": [],
   "source": [
    "# Create the figure object\n",
    "fig = pl.figure(figsize=(12,8))\n",
    "# Add first axes object (of a multi-panel plot with two rows and one column)\n",
    "ax = fig.add_subplot(211)\n",
    "pl.plot(x, np.sin(x))\n",
    "pl.title(\"The Sinus Function\")\n",
    "pl.xlabel(\"This is my x-axis label\")\n",
    "# Add second axes object\n",
    "ax = fig.add_subplot(212)\n",
    "pl.plot(x, np.cos(x))\n",
    "pl.title(\"The Cosinus Function\")\n",
    "pl.xlabel(\"This is my x-axis label\")\n",
    "# Make sure the elements of the plot are arranged properly\n",
    "pl.tight_layout()"
   ]
  }
 ],
 "metadata": {
  "celltoolbar": "Edit Metadata",
  "kernelspec": {
   "display_name": "Python 2",
   "language": "python",
   "name": "python2"
  },
  "language_info": {
   "codemirror_mode": {
    "name": "ipython",
    "version": 2
   },
   "file_extension": ".py",
   "mimetype": "text/x-python",
   "name": "python",
   "nbconvert_exporter": "python",
   "pygments_lexer": "ipython2",
   "version": "2.7.12"
  }
 },
 "nbformat": 4,
 "nbformat_minor": 0
}
