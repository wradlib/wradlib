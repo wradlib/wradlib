{
 "cells": [
  {
   "cell_type": "markdown",
   "metadata": {
    "nbsphinx": "hidden"
   },
   "source": [
    "This notebook is part of the $\\omega radlib$ documentation: http://wradlib.org/wradlib-docs.\n",
    "\n",
    "Copyright (c) 2016, $\\omega radlib$ developers.\n",
    "Distributed under the MIT License. See LICENSE.txt for more info."
   ]
  },
  {
   "cell_type": "markdown",
   "metadata": {},
   "source": [
    "# NumPy: manipulating numerical data"
   ]
  },
  {
   "cell_type": "markdown",
   "metadata": {},
   "source": [
    "*NumPy* is the key Python package for creating and manipulating (multi-dimensional) numerical arrays. *NumPy* arrays are also the most important data objects in $\\omega radlib$. It has become a convention to import *NumPy* as follows:"
   ]
  },
  {
   "cell_type": "code",
   "execution_count": 3,
   "metadata": {
    "collapsed": true
   },
   "outputs": [],
   "source": [
    "import numpy as np"
   ]
  },
  {
   "cell_type": "markdown",
   "metadata": {},
   "source": [
    "## Creating and inspecting NumPy arrays\n",
    "\n",
    "The `ndarray`, a numerical array, is the most important data type in NumPy. "
   ]
  },
  {
   "cell_type": "code",
   "execution_count": 4,
   "metadata": {
    "collapsed": false
   },
   "outputs": [
    {
     "name": "stdout",
     "output_type": "stream",
     "text": [
      "[0 1 2 3]\n",
      "<type 'numpy.ndarray'>\n"
     ]
    }
   ],
   "source": [
    "a = np.array([0, 1, 2, 3])\n",
    "print(a)\n",
    "print(type(a))"
   ]
  },
  {
   "cell_type": "markdown",
   "metadata": {},
   "source": [
    "You can inspect the `shape` (i.e. the number and size of the dimensions of an array)."
   ]
  },
  {
   "cell_type": "code",
   "execution_count": 5,
   "metadata": {
    "collapsed": false
   },
   "outputs": [
    {
     "name": "stdout",
     "output_type": "stream",
     "text": [
      "(4L,)\n",
      "(2L, 2L)\n"
     ]
    }
   ],
   "source": [
    "print(a.shape)\n",
    "# This creates a 2-dimensional array\n",
    "a2 = np.array([[0, 1], [2, 3]])\n",
    "print(a2.shape)"
   ]
  },
  {
   "cell_type": "markdown",
   "metadata": {},
   "source": [
    "There are various ways to create arrays: from lists (as above), using convenience functions, or from file."
   ]
  },
  {
   "cell_type": "code",
   "execution_count": 20,
   "metadata": {
    "collapsed": false
   },
   "outputs": [
    {
     "name": "stdout",
     "output_type": "stream",
     "text": [
      "a looks like:\n",
      "array([0, 1, 2, 3])\n",
      "\n",
      "b looks like:\n",
      "array([[ 1.,  1.,  1.],\n",
      "       [ 1.,  1.,  1.]])\n",
      "and has shape (2L, 3L)\n",
      "\n",
      "c looks like:\n",
      "array([[ 0.],\n",
      "       [ 0.]])\n",
      "and has shape (2L, 1L)\n",
      "\n",
      "d looks like:\n",
      "array([2, 3, 4, 5, 6, 7, 8, 9])\n",
      "and has shape (8L,)\n",
      "\n",
      "e looks like:\n",
      "array([  0. ,   2.5,   5. ,   7.5,  10. ])\n",
      "and has shape (5L,)\n",
      "\n"
     ]
    }
   ],
   "source": [
    "# From lists\n",
    "a = np.array([0, 1, 2, 3])\n",
    "print(\"a looks like:\\n%r\\n\" % a)\n",
    "\n",
    "# Convenience functions\n",
    "b = np.ones( shape=(2,3) )\n",
    "print(\"b looks like:\\n%r\\nand has shape %r\\n\" % (b, b.shape) )\n",
    "\n",
    "c = np.zeros( shape=(2,1) )\n",
    "print(\"c looks like:\\n%r\\nand has shape %r\\n\" % (c, c.shape) )\n",
    "\n",
    "d = np.arange(2,10)\n",
    "print(\"d looks like:\\n%r\\nand has shape %r\\n\" % (d, d.shape) )\n",
    "\n",
    "e = np.linspace(0,10,5)\n",
    "print(\"e looks like:\\n%r\\nand has shape %r\\n\" % (e, e.shape) )"
   ]
  },
  {
   "cell_type": "markdown",
   "metadata": {},
   "source": [
    "You can change the shape of an array without changing its size."
   ]
  },
  {
   "cell_type": "code",
   "execution_count": 7,
   "metadata": {
    "collapsed": false
   },
   "outputs": [
    {
     "name": "stdout",
     "output_type": "stream",
     "text": [
      "Array a has shape (10L,).\n",
      "Array b has shape (2L, 5L)\n"
     ]
    }
   ],
   "source": [
    "a = np.arange(10)\n",
    "b = np.reshape(a, (2,5))\n",
    "print(\"Array a has shape %r.\\nArray b has shape %r\" % (a.shape, b.shape))"
   ]
  },
  {
   "cell_type": "code",
   "execution_count": null,
   "metadata": {
    "collapsed": true
   },
   "outputs": [],
   "source": []
  }
 ],
 "metadata": {
  "celltoolbar": "Edit Metadata",
  "kernelspec": {
   "display_name": "Python 2",
   "language": "python",
   "name": "python2"
  },
  "language_info": {
   "codemirror_mode": {
    "name": "ipython",
    "version": 2
   },
   "file_extension": ".py",
   "mimetype": "text/x-python",
   "name": "python",
   "nbconvert_exporter": "python",
   "pygments_lexer": "ipython2",
   "version": "2.7.12"
  }
 },
 "nbformat": 4,
 "nbformat_minor": 0
}
