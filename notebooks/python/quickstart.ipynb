{
 "cells": [
  {
   "cell_type": "markdown",
   "metadata": {
    "nbsphinx": "hidden",
    "slideshow": {
     "slide_type": "-"
    }
   },
   "source": [
    "This notebook is part of the $\\omega radlib$ documentation: http://wradlib.org/wradlib-docs.\n",
    "\n",
    "Copyright (c) 2016, $\\omega radlib$ developers.\n",
    "Distributed under the MIT License. See LICENSE.txt for more info."
   ]
  },
  {
   "cell_type": "markdown",
   "metadata": {
    "slideshow": {
     "slide_type": "slide"
    }
   },
   "source": [
    "# A quick start to Python"
   ]
  },
  {
   "cell_type": "markdown",
   "metadata": {
    "slideshow": {
     "slide_type": "subslide"
    }
   },
   "source": [
    "In order to use $\\omega radlib$, you need to be able to use Python. This notebook will give you a glimpse of the Python language, confront you with some Python exercises, and refer you to further in-depth courses for learning Python.   "
   ]
  },
  {
   "cell_type": "markdown",
   "metadata": {
    "slideshow": {
     "slide_type": "slide"
    }
   },
   "source": [
    "## Hello interpreted world\n",
    "\n",
    "Python is an interpreted language just as e.g. R, Matlab and many others. In contrast to a compiled languages such as C, C++ or Fortran, each command is immediately interpreted by the Python interpreter. In this case, executing the following cell produces an immediate output. "
   ]
  },
  {
   "cell_type": "code",
   "execution_count": null,
   "metadata": {
    "collapsed": false,
    "slideshow": {
     "slide_type": "subslide"
    }
   },
   "outputs": [],
   "source": [
    "print(\"Hello interpreted world.\")"
   ]
  },
  {
   "cell_type": "markdown",
   "metadata": {},
   "source": [
    "## Important data types"
   ]
  },
  {
   "cell_type": "code",
   "execution_count": null,
   "metadata": {
    "collapsed": true
   },
   "outputs": [],
   "source": []
  },
  {
   "cell_type": "markdown",
   "metadata": {},
   "source": [
    "## Control flow\n",
    "\n",
    "How to create loops and iterate over items? "
   ]
  },
  {
   "cell_type": "markdown",
   "metadata": {
    "slideshow": {
     "slide_type": "slide"
    }
   },
   "source": [
    "## The building blocks of scientific Python\n",
    "\n",
    "Unlike Matlab, Scilab or R, Python does not come with a pre-bundled set\n",
    "of modules for scientific computing. Below are the basic building blocks\n",
    "that can be combined to obtain a scientific computing environment:\n",
    "\n",
    "* **Python**, a generic and modern computing language\n",
    "\n",
    "    * Python language: data types (``string``, ``int``), flow control,\n",
    "      data collections (lists, dictionaries), patterns, etc.\n",
    "\n",
    "    * Modules of the standard library.\n",
    "\n",
    "    * A large number of specialized modules or applications written in\n",
    "      Python: web protocols, web framework, etc. ... and scientific\n",
    "      computing.\n",
    "\n",
    "    * Development tools (automatic testing, documentation generation)\n",
    "\n",
    "* **IPython**: an interactive **Python shell** (http://ipython.org)\n",
    "\n",
    "* **Numpy**: provides powerful **numerical arrays** objects, and routines to\n",
    "  manipulate them (http://www.numpy.org)\n",
    "\n",
    "* **Scipy**: high-level data processing routines.\n",
    "  Optimization, regression, interpolation, etc (http://www.scipy.org)\n",
    "\n",
    "* **Matplotlib** : 2-D visualization, \"publication-ready\" plots \n",
    "  (http://matplotlib.org)"
   ]
  },
  {
   "cell_type": "code",
   "execution_count": null,
   "metadata": {
    "collapsed": true,
    "slideshow": {
     "slide_type": "-"
    }
   },
   "outputs": [],
   "source": []
  }
 ],
 "metadata": {
  "celltoolbar": "Edit Metadata",
  "kernelspec": {
   "display_name": "Python 2",
   "language": "python",
   "name": "python2"
  },
  "language_info": {
   "codemirror_mode": {
    "name": "ipython",
    "version": 2
   },
   "file_extension": ".py",
   "mimetype": "text/x-python",
   "name": "python",
   "nbconvert_exporter": "python",
   "pygments_lexer": "ipython2",
   "version": "2.7.12"
  }
 },
 "nbformat": 4,
 "nbformat_minor": 0
}
