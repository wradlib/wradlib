{
 "cells": [
  {
   "cell_type": "markdown",
   "metadata": {
    "nbsphinx": "hidden",
    "slideshow": {
     "slide_type": "-"
    }
   },
   "source": [
    "This notebook is part of the $\\omega radlib$ documentation: http://wradlib.org/wradlib-docs.\n",
    "\n",
    "Copyright (c) 2016, $\\omega radlib$ developers.\n",
    "Distributed under the MIT License. See LICENSE.txt for more info."
   ]
  },
  {
   "cell_type": "markdown",
   "metadata": {
    "slideshow": {
     "slide_type": "slide"
    }
   },
   "source": [
    "# A quick start to Python"
   ]
  },
  {
   "cell_type": "markdown",
   "metadata": {
    "slideshow": {
     "slide_type": "subslide"
    }
   },
   "source": [
    "In order to use $\\omega radlib$, you need to be able to use Python. This notebook will give you a glimpse of the Python language, confront you with some Python exercises, and refer you to further in-depth courses for learning Python.   "
   ]
  },
  {
   "cell_type": "markdown",
   "metadata": {
    "slideshow": {
     "slide_type": "slide"
    }
   },
   "source": [
    "## Hello interpreted world\n",
    "\n",
    "Python is an interpreted language just as e.g. R, Matlab and many others. In contrast to a compiled languages such as C, C++ or Fortran, each command is immediately interpreted by the Python interpreter. In this case, executing the following cell produces an immediate output."
   ]
  },
  {
   "cell_type": "code",
   "execution_count": null,
   "metadata": {
    "collapsed": false,
    "slideshow": {
     "slide_type": "subslide"
    }
   },
   "outputs": [],
   "source": [
    "print(\"Hello interpreted world.\")"
   ]
  },
  {
   "cell_type": "markdown",
   "metadata": {},
   "source": [
    "## Important data types\n",
    "\n",
    "Python knows various standard data types such as `integer`, `float`, `bool` and `str`. If you define a variable, Python typically assigns the *type* of that variable for you.  "
   ]
  },
  {
   "cell_type": "code",
   "execution_count": null,
   "metadata": {
    "collapsed": false
   },
   "outputs": [],
   "source": [
    "x1 = 2\n",
    "print(\"x1 is of %r\" % type(x1))\n",
    "\n",
    "x2 = 2.3\n",
    "print(\"x2 is of %r\" % type(x2))\n",
    "\n",
    "x3 = True\n",
    "print(\"x3 is of %r\" % type(x3))\n",
    "\n",
    "x4 = x1 * x2\n",
    "print(\"x4 is of %r\" % type(x4))\n",
    "\n",
    "x5 = \"Hello interpreted world.\"\n",
    "print(\"x5 is of %r\" % type(x5))"
   ]
  },
  {
   "cell_type": "markdown",
   "metadata": {},
   "source": [
    "As you noticed in the above cell, you can inspect the data type of a variable by using function `type()`. Python has a plethora of data types beyond the standard ones shwn above. See for example:"
   ]
  },
  {
   "cell_type": "code",
   "execution_count": null,
   "metadata": {
    "collapsed": false
   },
   "outputs": [],
   "source": [
    "print( type(sum) )\n",
    "print( type(type) )"
   ]
  },
  {
   "cell_type": "markdown",
   "metadata": {},
   "source": [
    "## Using modules and functions\n",
    "\n",
    "For most applications, you will need to use `functions` that are available in `modules`. Just think of a module as a collection (or library) of functions. Some are shipped with the Python interpreter ([Python Standard Library](https://docs.python.org/2/library/)), others (such as wradlib) need to be installed (e.g. from the [Python Package Index](https://pypi.python.org/pypi)) or using the [Anaconda](https://www.continuum.io/downloads) Package Manager (`conda`).\n",
    "\n",
    "In order to use a function from a module, you need to `import` the module. See e.g. how to import the `os` module and use its `getcwd` function (which retruns the path to the current working directory):"
   ]
  },
  {
   "cell_type": "code",
   "execution_count": null,
   "metadata": {
    "collapsed": false
   },
   "outputs": [],
   "source": [
    "import os\n",
    "mycwd = os.getcwd()\n",
    "print(mycwd)"
   ]
  },
  {
   "cell_type": "markdown",
   "metadata": {},
   "source": [
    "In most developing environments (including jupyter/IPython), you can use the *TAB* key for code completion and for listing functions available in a module. Just try to create a cell, enter `os.` and hit the *TAB* key. You can then select a function (or attribute) or narrov down availabel functions by typing further characters. \n",
    "\n",
    "Once you selected (or typed) a function name, *jupyter* will show you the help content after hitting *TAB+Shift*.\n",
    "\n",
    "Alternatively, you can get help for a function in any Python environment by calling `help`:"
   ]
  },
  {
   "cell_type": "code",
   "execution_count": null,
   "metadata": {
    "collapsed": false
   },
   "outputs": [],
   "source": [
    "help(os.getcwd)"
   ]
  },
  {
   "cell_type": "markdown",
   "metadata": {},
   "source": [
    "## Control flow\n",
    "\n",
    "How to create loops and iterate over items? "
   ]
  },
  {
   "cell_type": "markdown",
   "metadata": {
    "slideshow": {
     "slide_type": "slide"
    }
   },
   "source": [
    "## The building blocks of scientific Python\n",
    "\n",
    "Unlike Matlab, Scilab or R, Python does not come with a pre-bundled set\n",
    "of modules for scientific computing. Below are the basic building blocks\n",
    "that can be combined to obtain a scientific computing environment:\n",
    "\n",
    "* **Python**, a generic and modern computing language\n",
    "\n",
    "    * Python language: data types (``string``, ``int``), flow control,\n",
    "      data collections (lists, dictionaries), patterns, etc.\n",
    "\n",
    "    * Modules of the standard library.\n",
    "\n",
    "    * A large number of specialized modules or applications written in\n",
    "      Python: web protocols, web framework, etc. ... and scientific\n",
    "      computing.\n",
    "\n",
    "    * Development tools (automatic testing, documentation generation)\n",
    "\n",
    "* **IPython**: an interactive **Python shell** (http://ipython.org)\n",
    "\n",
    "* **Numpy**: provides powerful **numerical arrays** objects, and routines to\n",
    "  manipulate them (http://www.numpy.org)\n",
    "\n",
    "* **Scipy**: high-level data processing routines.\n",
    "  Optimization, regression, interpolation, etc (http://www.scipy.org)\n",
    "\n",
    "* **Matplotlib** : 2-D visualization, \"publication-ready\" plots \n",
    "  (http://matplotlib.org)"
   ]
  },
  {
   "cell_type": "code",
   "execution_count": null,
   "metadata": {
    "collapsed": true,
    "slideshow": {
     "slide_type": "-"
    }
   },
   "outputs": [],
   "source": []
  }
 ],
 "metadata": {
  "celltoolbar": "Edit Metadata",
  "kernelspec": {
   "display_name": "Python 2",
   "language": "python",
   "name": "python2"
  },
  "language_info": {
   "codemirror_mode": {
    "name": "ipython",
    "version": 2
   },
   "file_extension": ".py",
   "mimetype": "text/x-python",
   "name": "python",
   "nbconvert_exporter": "python",
   "pygments_lexer": "ipython2",
   "version": "2.7.12"
  }
 },
 "nbformat": 4,
 "nbformat_minor": 0
}
