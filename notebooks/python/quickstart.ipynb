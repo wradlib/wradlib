{
 "cells": [
  {
   "cell_type": "markdown",
   "metadata": {
    "nbsphinx": "hidden",
    "slideshow": {
     "slide_type": "-"
    }
   },
   "source": [
    "This notebook is part of the $\\omega radlib$ documentation: http://wradlib.org/wradlib-docs.\n",
    "\n",
    "Copyright (c) 2016, $\\omega radlib$ developers.\n",
    "Distributed under the MIT License. See LICENSE.txt for more info."
   ]
  },
  {
   "cell_type": "markdown",
   "metadata": {
    "slideshow": {
     "slide_type": "slide"
    }
   },
   "source": [
    "# A quick start to Python"
   ]
  },
  {
   "cell_type": "markdown",
   "metadata": {
    "slideshow": {
     "slide_type": "subslide"
    }
   },
   "source": [
    "In order to use $\\omega radlib$, you need to be able to use Python. This notebook will give you a glimpse of the Python language, confront you with some Python exercises, and refer you to further in-depth courses for learning Python.   "
   ]
  },
  {
   "cell_type": "markdown",
   "metadata": {
    "slideshow": {
     "slide_type": "slide"
    }
   },
   "source": [
    "## Hello interpreted world\n",
    "\n",
    "Python is an interpreted language just as e.g. R, Matlab and many others. In contrast to a compiled languages such as C, C++ or Fortran, each command is immediately interpreted by the Python interpreter. In this case, executing the following cell produces an immediate output."
   ]
  },
  {
   "cell_type": "code",
   "execution_count": null,
   "metadata": {
    "collapsed": false,
    "slideshow": {
     "slide_type": "subslide"
    }
   },
   "outputs": [],
   "source": [
    "print(\"Hello interpreted world.\")"
   ]
  },
  {
   "cell_type": "markdown",
   "metadata": {},
   "source": [
    "Instead of entering this command interactively in a Python console (or a jupyter cell, as in this case), you can also write it a **Python script** (or, in other words, a Python \"program\").\n",
    "\n",
    "Use any text editor to create a file, add the line `print(\"Hello interpreted world.\")`, and save the file under the name `demoscript.py` (by convention, Python scripts should have the extension `.py`). Now execute your script from any shell (or the DOS console on Windows): \n",
    "\n",
    "`$ python demoscript.py`\n",
    "\n",
    "Note that this will work only if you open the shell in the *same directory* in which you saved your script. Otherwise, you need to provide the full path like e.g.\n",
    "\n",
    "*Under Linux/OSX:*\n",
    "\n",
    "`$ python /home/user/path/to/demoscript.py`\n",
    "\n",
    "*Under Windows:*\n",
    "\n",
    "`> python e:\\path\\to\\demoscript.py`"
   ]
  },
  {
   "cell_type": "markdown",
   "metadata": {},
   "source": [
    "## Important data types\n",
    "\n",
    "Python knows various standard data types such as `integer`, `float`, `bool` and `str`. If you define a variable, Python typically assigns the *type* of that variable for you.  "
   ]
  },
  {
   "cell_type": "code",
   "execution_count": null,
   "metadata": {
    "collapsed": false
   },
   "outputs": [],
   "source": [
    "x1 = 2\n",
    "print(\"x1 is of %r\" % type(x1))\n",
    "\n",
    "x2 = 2.3\n",
    "print(\"x2 is of %r\" % type(x2))\n",
    "\n",
    "x3 = True\n",
    "print(\"x3 is of %r\" % type(x3))\n",
    "\n",
    "x4 = x1 * x2\n",
    "print(\"x4 is of %r\" % type(x4))\n",
    "\n",
    "x5 = \"Hello interpreted world.\"\n",
    "print(\"x5 is of %r\" % type(x5))"
   ]
  },
  {
   "cell_type": "markdown",
   "metadata": {},
   "source": [
    "As you noticed in the above cell, you can inspect the data type of a variable by using function `type()`. Python has a plethora of data types beyond the standard ones shown above. See for example:"
   ]
  },
  {
   "cell_type": "code",
   "execution_count": null,
   "metadata": {
    "collapsed": false
   },
   "outputs": [],
   "source": [
    "print( type(sum) )\n",
    "print( type(type) )"
   ]
  },
  {
   "cell_type": "markdown",
   "metadata": {},
   "source": [
    "Further important data types (and specific to Python) are so called `data collections` (or `containers`), namely \n",
    "\n",
    "- lists (`list`), \n",
    "- dictionaries (`dict`),\n",
    "- and tuples (`tuple`).\n",
    "\n",
    "A list is an ordered collection of objects which may have different types."
   ]
  },
  {
   "cell_type": "code",
   "execution_count": null,
   "metadata": {
    "collapsed": false
   },
   "outputs": [],
   "source": [
    "# a list\n",
    "l = [1, \"Paris\", 3.0]\n",
    "# a list is \"mutable\" (i.e. you can change the values of its elements)\n",
    "l[1] = 2\n",
    "print(l)\n",
    "print(l[0:2])"
   ]
  },
  {
   "cell_type": "markdown",
   "metadata": {},
   "source": [
    "<div class=\"alert alert-info\">\n",
    "\n",
    "**Indexing in Python** <br>\n",
    "\n",
    "You might have noticed that the index `1` refers to the second element of the list. This is an important rule for all containers in Python: **indexing begins with 0** (which is familiar e.g. to C programmers, and new e.g. to R programmers).\n",
    "\n",
    "</div>\n",
    "\n"
   ]
  },
  {
   "cell_type": "markdown",
   "metadata": {},
   "source": [
    "A `dictionary` is basically an efficient table that maps `keys` to `values`. It is an unordered container. There are two ways to define dictionaries - both are equivalent."
   ]
  },
  {
   "cell_type": "code",
   "execution_count": null,
   "metadata": {
    "collapsed": false
   },
   "outputs": [],
   "source": [
    "# One way to define a dictionary\n",
    "d1 = {\"band\": \"C\", \"altitude\":1000.}\n",
    "# Another way to define a dictionary\n",
    "d2 = dict(band=\"C\", altitude=1000.)\n",
    "# Both are equivalent\n",
    "print(\"d1 equals d2 is a %r statement \" % (d1 == d2) )\n",
    "print(\"The type of d1 is %r\" % type(d1) )"
   ]
  },
  {
   "cell_type": "markdown",
   "metadata": {},
   "source": [
    "A `dictionary` can be queried using their keywords. You can also iterate over the keys."
   ]
  },
  {
   "cell_type": "code",
   "execution_count": null,
   "metadata": {
    "collapsed": false
   },
   "outputs": [],
   "source": [
    "print(d1[\"band\"])\n",
    "print(\"Printing all keys and values of d1:\")\n",
    "for key in d1.keys():\n",
    "    print(\"\\t%s: %r\" % (key, d1[key]) )"
   ]
  },
  {
   "cell_type": "markdown",
   "metadata": {},
   "source": [
    "## Control flow\n",
    "\n",
    "Loops or iterations as well as conditional statments are key to data processing workflows. In this section, we will present the most important syntax for control flow.  "
   ]
  },
  {
   "cell_type": "code",
   "execution_count": null,
   "metadata": {
    "collapsed": false
   },
   "outputs": [],
   "source": [
    "# For loops\n",
    "for i in range(3):\n",
    "    print(i)"
   ]
  },
  {
   "cell_type": "markdown",
   "metadata": {},
   "source": [
    "<div class=\"alert alert-info\">\n",
    "\n",
    "**Indentation in Python** <br>\n",
    "\n",
    "Did you notice the indentation? Indentation is a mandatory element of Python syntax - not just a question of style. Not using indentation will raise an `IndentationError`.\n",
    "\n",
    "</div>"
   ]
  },
  {
   "cell_type": "code",
   "execution_count": null,
   "metadata": {
    "collapsed": false
   },
   "outputs": [],
   "source": [
    "# While loops (in case the number of iterations is not known a-priori)\n",
    "i = 0\n",
    "while i < 3:\n",
    "    print(i)\n",
    "    i += 1"
   ]
  },
  {
   "cell_type": "code",
   "execution_count": null,
   "metadata": {
    "collapsed": false
   },
   "outputs": [],
   "source": [
    "# Conditional statements\n",
    "a = 5\n",
    "if a < 10:\n",
    "    print(\"a is less than 10.\")\n",
    "elif a == 10:\n",
    "    print(\"a equals 10.\")\n",
    "else:\n",
    "    print(\"a is greater than 10.\")"
   ]
  },
  {
   "cell_type": "markdown",
   "metadata": {},
   "source": [
    "You can also exit a loop before it is finished or skip parts of a specific iteration."
   ]
  },
  {
   "cell_type": "code",
   "execution_count": null,
   "metadata": {
    "collapsed": false
   },
   "outputs": [],
   "source": [
    "for i in range(3):\n",
    "    # Exit the loop already if i equals 1\n",
    "    if i == 1:\n",
    "        break\n",
    "    print(i)"
   ]
  },
  {
   "cell_type": "code",
   "execution_count": null,
   "metadata": {
    "collapsed": false
   },
   "outputs": [],
   "source": [
    "for i in range(3):\n",
    "    # Skip the iteration if i equals 1 (but continue the loop)\n",
    "    if i == 1:\n",
    "        continue\n",
    "    print(i)"
   ]
  },
  {
   "cell_type": "markdown",
   "metadata": {},
   "source": [
    "## Importing functions from modules\n",
    "\n",
    "For most applications, you will need to use `functions` that are available in `modules`. Just think of a module as a collection (or library) of functions. Some are shipped with the Python interpreter ([Python Standard Library](https://docs.python.org/2/library/)), others (such as wradlib) need to be installed (e.g. from the [Python Package Index](https://pypi.python.org/pypi)) or using the [Anaconda](https://www.continuum.io/downloads) Package Manager (`conda`).\n",
    "\n",
    "In order to use a function from a module, you need to `import` the module. See e.g. how to import the `os` module and use its `getcwd` function (which retruns the path to the current working directory):"
   ]
  },
  {
   "cell_type": "code",
   "execution_count": null,
   "metadata": {
    "collapsed": false
   },
   "outputs": [],
   "source": [
    "import os\n",
    "mycwd = os.getcwd()\n",
    "print(mycwd)"
   ]
  },
  {
   "cell_type": "markdown",
   "metadata": {},
   "source": [
    "In most developing environments (including jupyter/IPython), you can use the *TAB* key for code completion and for listing functions available in a module. Just try to create a cell, enter `os.` and hit the *TAB* key. You can then select a function (or attribute) or narrow down available functions by typing further characters. \n",
    "\n",
    "Once you've selected (or typed) a function name, *jupyter* will show you the help content after hitting *TAB+Shift*.\n",
    "\n",
    "Alternatively, you can get help for a function in any Python environment by calling `help` (e.g. `help(os.getcwd)`). In juypter, you can also use the following syntax: `os.getcwd?`"
   ]
  },
  {
   "cell_type": "markdown",
   "metadata": {},
   "source": [
    "## Writing your own functions\n",
    "\n",
    "In order to organise applications and write reusable code, you will need to write funcions on you own. This is how you define and call a function (notice again the **indentation**): "
   ]
  },
  {
   "cell_type": "code",
   "execution_count": null,
   "metadata": {
    "collapsed": true
   },
   "outputs": [],
   "source": [
    "# Define the function...\n",
    "def demofunction(a, b):\n",
    "    c = a + b\n",
    "    return(c)"
   ]
  },
  {
   "cell_type": "code",
   "execution_count": null,
   "metadata": {
    "collapsed": false
   },
   "outputs": [],
   "source": [
    "# ...and call the function\n",
    "demofunction(2,3)"
   ]
  },
  {
   "cell_type": "markdown",
   "metadata": {},
   "source": [
    "Using `docstrings`, you can document your function as you write it."
   ]
  },
  {
   "cell_type": "code",
   "execution_count": null,
   "metadata": {
    "collapsed": true
   },
   "outputs": [],
   "source": [
    "def demofunction(a, b):\n",
    "    \"\"\"This function computes the sum of a and b.\n",
    "    \n",
    "    Parameters\n",
    "    ----------\n",
    "    a : numeric\n",
    "    b : numeric\n",
    "    \n",
    "    Returns\n",
    "    -------\n",
    "    output : numeric (the sum of a and b)\n",
    "    \n",
    "    \"\"\"\n",
    "    c = a + b\n",
    "    return(c)"
   ]
  },
  {
   "cell_type": "markdown",
   "metadata": {
    "collapsed": false
   },
   "source": [
    "Calling `help(demofunction)` would now print to screen:\n",
    "\n",
    "```python\n",
    "Help on function demofunction in module __main__:\n",
    "\n",
    "demofunction(a, b)\n",
    "    This function computes the sum of a and b\n",
    "    \n",
    "    Parameters\n",
    "    ----------\n",
    "    a : numeric\n",
    "    b : numeric\n",
    "    \n",
    "    Returns\n",
    "    -------\n",
    "    output : numeric (the sum of a and b)\n",
    "```"
   ]
  },
  {
   "cell_type": "markdown",
   "metadata": {},
   "source": [
    "Functions can also have keyword arguments with default values. In the following example, we set a default value for parameter `b`."
   ]
  },
  {
   "cell_type": "code",
   "execution_count": null,
   "metadata": {
    "collapsed": false
   },
   "outputs": [],
   "source": [
    "def demofunction(a, b=2):\n",
    "    \"\"\"Adds 2 to a by default.\n",
    "    \"\"\"\n",
    "    c = a + b\n",
    "    return(c)\n",
    "print(demofunction(3))\n",
    "print(demofunction(3, b=3))"
   ]
  },
  {
   "cell_type": "markdown",
   "metadata": {},
   "source": [
    "## File input and output\n",
    "\n",
    "This is the basic way to read from and write to text and binary files (there are a lot of other file formats which have specific interfaces - particularly in the radar world: see [file formats supported by wradlib](../fileio.ipynb))."
   ]
  },
  {
   "cell_type": "code",
   "execution_count": null,
   "metadata": {
    "collapsed": false
   },
   "outputs": [],
   "source": [
    "# Open a file for writing\n",
    "f = open('testfile.txt', 'w') # opens the workfile file\n",
    "print(type(f))    \n",
    "f.write('This is a test line,\\nand another test line.\\n')   \n",
    "f.close()"
   ]
  },
  {
   "cell_type": "code",
   "execution_count": null,
   "metadata": {
    "collapsed": false
   },
   "outputs": [],
   "source": [
    "# Open a file for reading\n",
    "f = open('testfile.txt', 'r')\n",
    "s = f.read()\n",
    "print(s)\n",
    "f.close()"
   ]
  },
  {
   "cell_type": "markdown",
   "metadata": {},
   "source": [
    "A safer way to handle files is to use Python's `with` statement which makes sure that the file is properly closed even if your code breaks inbetween opening and closing the file. "
   ]
  },
  {
   "cell_type": "code",
   "execution_count": null,
   "metadata": {
    "collapsed": false
   },
   "outputs": [],
   "source": [
    "with open(\"testfile.txt\") as f:\n",
    "    s = f.read()\n",
    "    print(s)"
   ]
  },
  {
   "cell_type": "markdown",
   "metadata": {
    "slideshow": {
     "slide_type": "slide"
    }
   },
   "source": [
    "## The building blocks of scientific Python\n",
    "\n",
    "With this, we conclude the basic Python intro. \n",
    "\n",
    "The following sections introduce, we introduce the most important packages for scientific computing in Python. Unlike Matlab, Scilab or R, Python does not come with a pre-bundled set\n",
    "of modules for scientific computing. Instead, a scientific computing environment can be obtained by combining these building blocks:\n",
    "\n",
    "* **Python**, a generic and modern computing language, including standard data types and collections, flow control, modules of the standard library, and development tools (automatic testing, documentation generation)\n",
    "\n",
    "* **IPython**: an interactive **Python shell**, see our article on [how to use notebooks](../../jupyter.rst).\n",
    "\n",
    "* **Numpy**: provides powerful **numerical arrays** objects, and routines to\n",
    "  manipulate them - see our [NumPy intro article](../python/numpyintro.html)\n",
    "\n",
    "* **Matplotlib** : visualization and \"publication-ready\" plots, see related intro [here](../python/mplintro.html)\n",
    "\n",
    "* **Scipy**: high-level data processing routines - e.g. optimization, regression, interpolation, etc (http://www.scipy.org)\n"
   ]
  }
 ],
 "metadata": {
  "celltoolbar": "Edit Metadata",
  "kernelspec": {
   "display_name": "Python 2",
   "language": "python",
   "name": "python2"
  },
  "language_info": {
   "codemirror_mode": {
    "name": "ipython",
    "version": 2
   },
   "file_extension": ".py",
   "mimetype": "text/x-python",
   "name": "python",
   "nbconvert_exporter": "python",
   "pygments_lexer": "ipython2",
   "version": "2.7.12"
  }
 },
 "nbformat": 4,
 "nbformat_minor": 0
}
