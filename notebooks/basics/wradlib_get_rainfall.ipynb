{
 "cells": [
  {
   "cell_type": "markdown",
   "metadata": {
    "nbsphinx": "hidden"
   },
   "source": [
    "This notebook is part of the $\\omega radlib$  documentation: http://wradlib.org/wradlib-docs.\n",
    "\n",
    "Copyright (c) 2016, $\\omega radlib$  developers.\n",
    "Distributed under the MIT License. See LICENSE.txt for more info."
   ]
  },
  {
   "cell_type": "markdown",
   "metadata": {},
   "source": [
    "# Converting Reflectivity to Rainfall"
   ]
  },
  {
   "cell_type": "markdown",
   "metadata": {},
   "source": [
    "Reflectivity (Z) and precipitation rate (R) can be related in form of a power law $Z=a \\cdot R^b$. The parameters ``a`` and ``b`` depend on the type of precipitation (i.e. drop size distribution and water temperature). $\\omega radlib$ provides a couple of functions that could be useful in this context."
   ]
  },
  {
   "cell_type": "code",
   "execution_count": null,
   "metadata": {
    "collapsed": true,
    "nbsphinx": "hidden"
   },
   "outputs": [],
   "source": [
    "import wradlib as wrl\n",
    "import matplotlib.pyplot as pl\n",
    "import warnings\n",
    "warnings.filterwarnings('ignore')\n",
    "try:\n",
    "    get_ipython().magic(\"matplotlib inline\")\n",
    "except:\n",
    "    pl.ion()\n",
    "import numpy as np"
   ]
  },
  {
   "cell_type": "markdown",
   "metadata": {},
   "source": [
    "The following example demonstrates the steps to convert from the common unit *dBZ* (decibel of the reflectivity factor *Z*) to rainfall intensity (in the unit of mm/h). This is an array of typical reflectivity values (**unit: dBZ**)"
   ]
  },
  {
   "cell_type": "code",
   "execution_count": null,
   "metadata": {
    "collapsed": false
   },
   "outputs": [],
   "source": [
    "dBZ = np.array([20., 30., 40., 45., 50., 55.])\n",
    "print(dBZ)"
   ]
  },
  {
   "cell_type": "markdown",
   "metadata": {},
   "source": [
    "Convert to reflectivity factor Z (**unit**: $mm^6/m^3$):"
   ]
  },
  {
   "cell_type": "code",
   "execution_count": null,
   "metadata": {
    "collapsed": false
   },
   "outputs": [],
   "source": [
    "Z = wrl.trafo.idecibel(dBZ)\n",
    "print(Z)"
   ]
  },
  {
   "cell_type": "markdown",
   "metadata": {},
   "source": [
    "Convert to rainfall intensity (**unit: mm/h**) using the Marshall-Palmer Z(R) parameters:"
   ]
  },
  {
   "cell_type": "code",
   "execution_count": null,
   "metadata": {
    "collapsed": false
   },
   "outputs": [],
   "source": [
    "R = wrl.zr.z2r(Z, a=200., b=1.6)\n",
    "print(np.round(R, 2))"
   ]
  },
  {
   "cell_type": "markdown",
   "metadata": {},
   "source": [
    "Convert to rainfall depth (**unit: mm**) assuming a rainfall duration of five minutes (i.e. 300 seconds)"
   ]
  },
  {
   "cell_type": "code",
   "execution_count": null,
   "metadata": {
    "collapsed": false
   },
   "outputs": [],
   "source": [
    "depth = wrl.trafo.r2depth(R, 300)\n",
    "print(np.round(depth, 2))"
   ]
  },
  {
   "cell_type": "markdown",
   "metadata": {},
   "source": [
    "## An example with real radar data"
   ]
  },
  {
   "cell_type": "markdown",
   "metadata": {},
   "source": [
    "The following example is based on observations of the DWD C-band radar on mount Feldberg (SW-Germany).\n",
    "The figure shows a 15 minute accumulation of rainfall which was produced from three consecutive radar\n",
    "scans at 5 minute intervals between 17:30 and 17:45 on June 8, 2008.\n",
    "\n",
    "The radar data are read using [wradlib.io.readDX](http://wradlib.org/wradlib-docs/latest/generated/wradlib.io.readDX.html) function which returns an array of dBZ values and a metadata dictionary (see also [Reading-DX-Data](../fileio/wradlib_reading_dx.ipynb#Reading-DX-Data)). The conversion is carried out the same way as in the example above. The plot is produced using\n",
    "the function [wradlib.vis.plot_ppi](http://wradlib.org/wradlib-docs/latest/generated/wradlib.vis.plot_ppi.html)."
   ]
  },
  {
   "cell_type": "code",
   "execution_count": null,
   "metadata": {
    "collapsed": true
   },
   "outputs": [],
   "source": [
    "def read_data(dtimes):\n",
    "    \"\"\"Helper function to read raw data for a list of datetimes <dtimes>\n",
    "    \"\"\"\n",
    "    data = np.empty((len(dtimes),360,128))\n",
    "    for i, dtime in enumerate(dtimes):\n",
    "        f = wrl.util.get_wradlib_data_file('dx/raa00-dx_10908-{0}-fbg---bin.gz'.format(dtime))\n",
    "        data[i], attrs = wrl.io.readDX(f)\n",
    "    return data"
   ]
  },
  {
   "cell_type": "markdown",
   "metadata": {},
   "source": [
    "Read data from radar Feldberg for three consecutive 5 minute intervals and compute the accumulated rainfall depth."
   ]
  },
  {
   "cell_type": "code",
   "execution_count": null,
   "metadata": {
    "collapsed": true
   },
   "outputs": [],
   "source": [
    "# Read\n",
    "dtimes = [\"0806021735\",\"0806021740\",\"0806021745\"]\n",
    "dBZ = read_data(dtimes)\n",
    "# Convert to rainfall intensity (mm/h)\n",
    "Z = wrl.trafo.idecibel(dBZ)\n",
    "R = wrl.zr.z2r(Z, a=200., b=1.6)\n",
    "# Convert to rainfall depth (mm)\n",
    "depth = wrl.trafo.r2depth(R, 300)\n",
    "# Accumulate 15 minute rainfall depth over all three 5 minute intervals\n",
    "accum = np.sum(depth, axis=0)"
   ]
  },
  {
   "cell_type": "markdown",
   "metadata": {},
   "source": [
    "Plot PPI of 15 minute rainfall depth"
   ]
  },
  {
   "cell_type": "code",
   "execution_count": null,
   "metadata": {
    "collapsed": false
   },
   "outputs": [],
   "source": [
    "pl.figure(figsize=(10,8))\n",
    "ax, cf = wrl.vis.plot_ppi(accum, cmap=\"spectral\")\n",
    "pl.xlabel(\"Easting from radar (km)\")\n",
    "pl.ylabel(\"Northing from radar (km)\")\n",
    "pl.title(\"Radar Feldberg\\n15 min. rainfall depth, 2008-06-02 17:30-17:45 UTC\")\n",
    "cb = pl.colorbar(cf, shrink=0.8)\n",
    "cb.set_label(\"mm\")\n",
    "pl.xlim(-128,128)\n",
    "pl.ylim(-128,128)\n",
    "pl.grid(color=\"grey\")"
   ]
  }
 ],
 "metadata": {
  "celltoolbar": "Edit Metadata",
  "kernelspec": {
   "display_name": "Python 2",
   "language": "python",
   "name": "python2"
  },
  "language_info": {
   "codemirror_mode": {
    "name": "ipython",
    "version": 2
   },
   "file_extension": ".py",
   "mimetype": "text/x-python",
   "name": "python",
   "nbconvert_exporter": "python",
   "pygments_lexer": "ipython2",
   "version": "2.7.12"
  }
 },
 "nbformat": 4,
 "nbformat_minor": 0
}