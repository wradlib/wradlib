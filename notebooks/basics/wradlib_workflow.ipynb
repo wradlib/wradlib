{
 "cells": [
  {
   "cell_type": "markdown",
   "metadata": {
    "nbsphinx": "hidden"
   },
   "source": [
    "This notebook is part of the $\\omega radlib$ documentation: http://wradlib.org/wradlib-docs.\n",
    "\n",
    "Copyright (c) 2016, $\\omega radlib$ developers.\n",
    "Distributed under the MIT License. See LICENSE.txt for more info."
   ]
  },
  {
   "cell_type": "markdown",
   "metadata": {},
   "source": [
    "# A Typical Workflow For Radar-Based Rainfall Estimation"
   ]
  },
  {
   "cell_type": "markdown",
   "metadata": {},
   "source": [
    "Raw, unprocessed reflectivity products can already provide useful visual information about the spatial distribution of rainfall fields. However, in order to use weather radar observations for quantitative studies (e.g. in hydrological modelling or for assimilation into Numerical Weather Prediction models), the data has to be carefully processed in order to account for typical errors sources such as ground echoes (clutter), attenuation of the radar signal, or uncertainties in the Z/R relationship.\n",
    "\n",
    "Moreover, it might be necessary to transfer the data from polar coordinates to Cartesian grids, or to combine observations from different radar locations in overlapping areas on a common grid (composition). And in the end, you would typically like to visualise the spatial rainfall distribution on a map. Many users also need to quantify the potential error (uncertainty) of their data-based rainfall estimation.\n",
    "\n",
    "These are just some steps that might be necessary in order to make radar data useful in a specific quantitative application environment. All steps together are typically referred to as a *\"radar data processing chain\"*. $\\omega radlib$ was designed to support you in establishing your own processing chain, suited to your specific requirements. In the following, we will provide an outline of a typical processing chain, step-by-step. You might not need all steps for your own workflow, or you might need steps which are not yet included here."
   ]
  },
  {
   "cell_type": "code",
   "execution_count": null,
   "metadata": {
    "nbsphinx": "hidden"
   },
   "outputs": [],
   "source": [
    "import wradlib as wrl\n",
    "import matplotlib.pyplot as pl\n",
    "import warnings\n",
    "warnings.filterwarnings('ignore')\n",
    "try:\n",
    "    get_ipython().magic(\"matplotlib inline\")\n",
    "except:\n",
    "    pl.ion()\n",
    "import numpy as np"
   ]
  },
  {
   "cell_type": "markdown",
   "metadata": {},
   "source": [
    "## Introduction"
   ]
  },
  {
   "cell_type": "markdown",
   "metadata": {},
   "source": [
    "Consider this just as an example. We will not go into detail for each step in this section, but refer to more detailed tutorials (if available) or the corresponding entry in the library reference. Most of the steps have a corresponding $\\omega radlib$ module. In order to access the functions of $\\omega radlib$, you have to import $\\omega radlib$ in your Python environment:\n",
    "\n",
    "```python\n",
    "import wradlib as wrl\n",
    "```"
   ]
  },
  {
   "cell_type": "markdown",
   "metadata": {},
   "source": [
    "If you have trouble with that import, please head back to the [Getting Started](http://wradlib.org/wradlib-docs/latest/gettingstarted.html) section."
   ]
  },
  {
   "cell_type": "markdown",
   "metadata": {},
   "source": [
    "<div class=\"alert alert-info\">\n",
    "\n",
    "**Note** <br>\n",
    "\n",
    "The data used in this tutorial can be found in the [wradlib-data repository](https://github.com/wradlib/wradlib-data). Follow [these instructions](https://github.com/wradlib/wradlib-data/blob/master/README.md) to install and use this data files.\n",
    "\n",
    "</div>"
   ]
  },
  {
   "cell_type": "markdown",
   "metadata": {},
   "source": [
    "<div class=\"alert alert-warning\">\n",
    "\n",
    "**Warning** <br>\n",
    "\n",
    "Be aware that applying an algorithm for error correction does not guarantee that the error is totally removed. Error correction procedures are suceptible to errors, too. Not only might they fail to *remove* the error. They might also introduce *new* errors. The trade-off between costs (introduction of new errors) and benefits (error reduction) can turn out differently for different locations, different points in time, or different rainfall situations.\n",
    "\n",
    "</div>"
   ]
  },
  {
   "cell_type": "markdown",
   "metadata": {},
   "source": [
    "## Reading the data"
   ]
  },
  {
   "cell_type": "markdown",
   "metadata": {},
   "source": [
    "The binary encoding of many radar products is a major obstacle for many potential radar users. Often, decoder software is not easily available. $\\omega radlib$ supports a couple of formats such as the ODIM_H5 implementation, NetCDF, and some formats used by the German Weather Service. We seek to continuously enhance the range of supported formats.\n",
    "\n",
    "The basic data type used in $\\omega radlib$ is a multi-dimensional array, the numpy.ndarray. Such an array might e.g. represent a polar or Cartesian grid, or a series of rain gage observations. Metadata are normally managed as Python dictionaries. In order to read the content of a data file into a numpy array, you would normally use the [wradlib.io](http://wradlib.org/wradlib-docs/latest/io.html) module. In the following example, a local PPI from the German Weather Service, a DX file, is read:"
   ]
  },
  {
   "cell_type": "code",
   "execution_count": null,
   "metadata": {},
   "outputs": [],
   "source": [
    "import pylab as pl\n",
    "pl.figure(figsize=(10,8))\n",
    "filename = wrl.util.get_wradlib_data_file('dx/raa00-dx_10908-0806021655-fbg---bin.gz')\n",
    "data, metadata = wrl.io.readDX(filename)\n",
    "ax, pm = wrl.vis.plot_ppi(data) # simple diagnostic plot\n",
    "cbar = pl.colorbar(pm, shrink=0.75)"
   ]
  },
  {
   "cell_type": "markdown",
   "metadata": {},
   "source": [
    "The ``metadata`` object can be inspected via keywords. The ``data`` object contains the actual data, in this case a polar grid with 360 azimuth angles and 128 range bins."
   ]
  },
  {
   "cell_type": "markdown",
   "metadata": {},
   "source": [
    "<div class=\"alert alert-info\">\n",
    "\n",
    "**Seealso** <br>\n",
    "\n",
    "Get more info in the section [Supported radar data formats](../fileio/wradlib_radar_formats.ipynb) and in the library reference section [Raw Data I/O](http://wradlib.org/wradlib-docs/latest/io.html).\n",
    "\n",
    "</div>"
   ]
  },
  {
   "cell_type": "markdown",
   "metadata": {},
   "source": [
    "## Clutter removal"
   ]
  },
  {
   "cell_type": "markdown",
   "metadata": {},
   "source": [
    "Clutter are non-meteorological echos. They are caused by the radar beam hitting objects on the earth's surface (e.g. mountain or hill tops, houses, wind turbines) or in the air (e.g. airplanes, birds). These objects can potentially cause high reflectivities due large scattering cross sections. Static clutter, if not efficiently removed by Doppler filters, can cause permanent echos which could introduce severe bias in quantitative applications. Thus, an efficient identification and removal of clutter is mandatory e.g. for hydrological studies. Clutter removal can be based on static maps or dynamic filters. Normally, static clutter becomes visible more clearly in rainfall accumulation maps over periods of weeks or months. We recommend such accumulations to create static clutter maps which can in turn be used to remove the static clutter from an image and fill the resulting gaps by interpolation. "
   ]
  },
  {
   "cell_type": "markdown",
   "metadata": {},
   "source": [
    "In the following example, the clutter filter published by [Gabella et al., 2002](http://wradlib.org/wradlib-docs/latest/zreferences.html#gabella2002)) is applied to the single radar sweep of the above example:"
   ]
  },
  {
   "cell_type": "code",
   "execution_count": null,
   "metadata": {},
   "outputs": [],
   "source": [
    "clutter = wrl.clutter.filter_gabella(data, tr1=12, n_p=6, tr2=1.1)\n",
    "pl.figure(figsize=(10,8))\n",
    "ax, pm = wrl.vis.plot_ppi(clutter, cmap=pl.cm.gray)\n",
    "pl.title('Clutter Map')"
   ]
  },
  {
   "cell_type": "markdown",
   "metadata": {},
   "source": [
    "The resulting Boolean array ``clutter`` indicates the position of clutter. It can be used to interpolate the values at those positons from non-clutter values, as shown in the following line:"
   ]
  },
  {
   "cell_type": "code",
   "execution_count": null,
   "metadata": {},
   "outputs": [],
   "source": [
    "data_no_clutter = wrl.ipol.interpolate_polar(data, clutter)\n",
    "pl.figure(figsize=(10,8))\n",
    "ax, pm = wrl.vis.plot_ppi(data_no_clutter) # simple diagnostic plot\n",
    "cbar = pl.colorbar(pm, shrink=0.75)"
   ]
  },
  {
   "cell_type": "markdown",
   "metadata": {},
   "source": [
    "It is generally recommended to remove the clutter before e.g. gridding the data. Otherwise the clutter signal might be \"smeared\" over multiple grid cells, resulting into a decrease in detectability."
   ]
  },
  {
   "cell_type": "markdown",
   "metadata": {},
   "source": [
    "<div class=\"alert alert-info\">\n",
    "\n",
    "**Seealso** <br>\n",
    "\n",
    "Get more info in the library reference section [Clutter Identification](http://wradlib.org/wradlib-docs/latest/clutter.html).\n",
    "\n",
    "</div>"
   ]
  },
  {
   "cell_type": "markdown",
   "metadata": {},
   "source": [
    "## Attenuation correction"
   ]
  },
  {
   "cell_type": "markdown",
   "metadata": {},
   "source": [
    "Attenuation by wet radome and by heavy rainfall can cause serious underestimation of rainfall for [C-Band and X-Band](http://www.everythingweather.com/weather-radar/bands.shtml) devices. For such radar devices, situations with heavy rainfall require a correction of attenuation effects. <br>\n",
    "The general approach with single-polarized radars is to use a recursive gate-by-gate approach. See [Kraemer et al., 2008](http://wradlib.org/wradlib-docs/latest/zreferences.html#kraemer2008) for an introduction to this concept. Basically, the specific attenuation ``k`` of the first range gate is computed via a so-called ``k-Z`` relationship. Based on ``k``, the reflectivity of the second range gate is corrected and then used to compute the specific attenuation for the second range gate (and so on). <br>\n",
    "The concept was first introduced by [Hitschfeld et al., 1954)](http://wradlib.org/wradlib-docs/latest/zreferences.html#hitschfeld1954). Its main drawback is its suceptibility to instable behaviour. $\\omega radlib$ provides different implementations which address this problem."
   ]
  },
  {
   "cell_type": "markdown",
   "metadata": {},
   "source": [
    "One example is the algorithm published by [Kraemer et al., 2008](http://wradlib.org/wradlib-docs/latest/zreferences.html#kraemer2008):"
   ]
  },
  {
   "cell_type": "code",
   "execution_count": null,
   "metadata": {},
   "outputs": [],
   "source": [
    "pia = wrl.atten.correctAttenuationKraemer(data_no_clutter)\n",
    "data_attcorr = data_no_clutter + pia"
   ]
  },
  {
   "cell_type": "markdown",
   "metadata": {},
   "source": [
    "The first line computes the path integrated attenuation ``pia`` for each radar bin. The second line uses ``pia`` to correct the reflectivity values. Let's inspect the effect of attenuation correction for an azimuth angle of 65 deg:"
   ]
  },
  {
   "cell_type": "code",
   "execution_count": null,
   "metadata": {},
   "outputs": [],
   "source": [
    "pl.figure(figsize=(10,8))\n",
    "pl.plot(data_attcorr[65], label=\"attcorr\")\n",
    "pl.plot(data_no_clutter[65], label=\"no attcorr\")\n",
    "pl.xlabel(\"km\")\n",
    "pl.ylabel(\"dBZ\")\n",
    "pl.legend()"
   ]
  },
  {
   "cell_type": "markdown",
   "metadata": {},
   "source": [
    "<div class=\"alert alert-info\">\n",
    "\n",
    "**Seealso** <br>\n",
    "\n",
    "Get more info in the library reference section [Attenuation Correction](http://wradlib.org/wradlib-docs/latest/atten.html). There you will learn to know the algorithms available for attenuation correction and how to manipulate their behaviour by using additonal keyword arguments.   \n",
    "\n",
    "</div>"
   ]
  },
  {
   "cell_type": "markdown",
   "metadata": {},
   "source": [
    "## Vertical Profile of Reflectivity"
   ]
  },
  {
   "cell_type": "markdown",
   "metadata": {},
   "source": [
    "Precipitation is 3-dimensional in space. The vertical distribution of precipitation (and thus reflectivity) is typically non-uniform. As the height of the radar beam increases with the distance from the radar location (beam elevation, earth curvature), one sweep samples from different heights. The effects of the non-uniform VPR and the different sampling heights need to be accounted for if we are interested in the precipiation near the ground or in defined altitudes."
   ]
  },
  {
   "cell_type": "markdown",
   "metadata": {},
   "source": [
    "<div class=\"alert alert-info\">\n",
    "\n",
    "**Seealso** <br>\n",
    "\n",
    "Get more info in the library reference section [Vertical Profile of Reflectivity (VPR)](http://wradlib.org/wradlib-docs/latest/vpr.html). There you will learn how to reference polar volume data, to create CAPPIs and Pseudo CAPPIs, to inspect vertical profiles of reflectivity (UNDER DEVELOPMENT), and to use these for correction (UNDER DEVELOPMENT).   \n",
    "\n",
    "</div>"
   ]
  },
  {
   "cell_type": "markdown",
   "metadata": {},
   "source": [
    "## Conversion of Reflectivity into Rainfall"
   ]
  },
  {
   "cell_type": "markdown",
   "metadata": {},
   "source": [
    "Reflectivity (Z) and precipitation rate (R) can be related in form of a power law $R=a*Z^b$. The parameters ``a`` and ``b`` depend on the type of precipitation in terms of drop size distribution and water temperature. Before applying the Z-R relationship, we need to convert from dBZ to Z:"
   ]
  },
  {
   "cell_type": "code",
   "execution_count": null,
   "metadata": {},
   "outputs": [],
   "source": [
    "R = wrl.zr.z2r(wrl.trafo.idecibel(data_attcorr))"
   ]
  },
  {
   "cell_type": "markdown",
   "metadata": {},
   "source": [
    "The above line uses the default parameters parameters ``a=200`` and ``b=1.6`` for the Z-R relationship. In order to compute a rainfall depth from rainfall intensity, we have to specify an integration interval in seconds. In this example, we chose five minutes (300 s), corresponding to the sweep return interval:"
   ]
  },
  {
   "cell_type": "code",
   "execution_count": null,
   "metadata": {},
   "outputs": [],
   "source": [
    "depth = wrl.trafo.r2depth(R, 300)"
   ]
  },
  {
   "cell_type": "markdown",
   "metadata": {},
   "source": [
    "<div class=\"alert alert-info\">\n",
    "\n",
    "**Seealso** <br>\n",
    "\n",
    "Get more info in the section [Converting reflectivity to rainfall](wradlib_get_rainfall.ipynb) and in the library reference sections [Z-R Conversions](http://wradlib.org/wradlib-docs/latest/zr.html) and [Data Transformation](http://wradlib.org/wradlib-docs/latest/trafo.html). Here you will learn about the effects of the Z-R parameters ``a`` and ``b``.\n",
    "\n",
    "</div>"
   ]
  },
  {
   "cell_type": "markdown",
   "metadata": {},
   "source": [
    "## Rainfall accumulation"
   ]
  },
  {
   "cell_type": "markdown",
   "metadata": {},
   "source": [
    "For many applications, accumulated rainfall depths over specific time intervals are required, e.g. hourly or daily accumulations. $\\omega radlib$ supports the corresponding datetime operations. In the following example, we will use a synthetic time series of 5 minute intervals. Just imagine we have repeated the above procedure for one day of five-minute sweeps and combined the arrays of rainfall depth in a 3-dimensional array of shape ``(number of time steps, number of azimuth angles, number of range gates)``.\n",
    "\n",
    "Now we want to compute hourly accumulations:"
   ]
  },
  {
   "cell_type": "code",
   "execution_count": null,
   "metadata": {},
   "outputs": [],
   "source": [
    "sweep_times = wrl.util.from_to(\"2012-10-26 00:00:00\", \"2012-10-27 00:00:00\", 300)\n",
    "depths_5min = np.random.uniform(size=(len(sweep_times)-1, 360, 128))\n",
    "hours = wrl.util.from_to(\"2012-10-26 00:00:00\", \"2012-10-27 00:00:00\", 3600)\n",
    "depths_hourly = wrl.util.aggregate_in_time(depths_5min, sweep_times, hours, func='sum')"
   ]
  },
  {
   "cell_type": "markdown",
   "metadata": {},
   "source": [
    "Check the shape and values of your resulting array for plausibility:"
   ]
  },
  {
   "cell_type": "code",
   "execution_count": null,
   "metadata": {},
   "outputs": [],
   "source": [
    "print(depths_hourly.shape)\n",
    "print(depths_hourly.mean().round())"
   ]
  },
  {
   "cell_type": "markdown",
   "metadata": {},
   "source": [
    "<div class=\"alert alert-info\">\n",
    "\n",
    "**Seealso** <br>\n",
    "\n",
    "Get more info in the library reference section [Utility functions](http://wradlib.org/wradlib-docs/latest/util.html).\n",
    "\n",
    "</div>"
   ]
  },
  {
   "cell_type": "markdown",
   "metadata": {},
   "source": [
    "## Georeferencing and Projection"
   ]
  },
  {
   "cell_type": "markdown",
   "metadata": {},
   "source": [
    "In order to define the horizontal and vertical position of the radar bins, we need to retrieve the corresponding 3-dimensional coordinates in terms of longitude, latitude and altitude. This information is required e.g. if the positions should be plotted on a map. It is also required for constructing [CAPPIs](https://en.wikipedia.org/wiki/Constant_altitude_plan_position_indicator). The position of a radar bin in 3-dimensional space depends on the position of the radar device, the elevation and azimuth angle of the radar beam, the range of the bin, and the assumed influence of atmospheric refraction on the beam propagation. For the sample data used above, the position of the radar device is the Feldberg in Germany (8.005, 47.8744, 1517):"
   ]
  },
  {
   "cell_type": "code",
   "execution_count": null,
   "metadata": {},
   "outputs": [],
   "source": [
    "radar_location = (8.005, 47.8744, 1517) # (lon, lat, alt) in decimal degree and meters\n",
    "elevation = 0.5 # in degree\n",
    "azimuths = np.arange(0,360) # in degrees\n",
    "ranges = np.arange(0, 128000., 1000.) # in meters\n",
    "polargrid = np.meshgrid(ranges, azimuths)"
   ]
  },
  {
   "cell_type": "markdown",
   "metadata": {},
   "source": [
    "Using `georef.spherical_to_xyz` we get the cartesian coordinates in xyz-space and the connected azimuthal equidistant projection osr-object `rad`."
   ]
  },
  {
   "cell_type": "code",
   "execution_count": null,
   "metadata": {},
   "outputs": [],
   "source": [
    "coords, rad = wrl.georef.spherical_to_xyz(polargrid[0], polargrid[1], \n",
    "                                          elevation, radar_location)\n",
    "x = coords[..., 0]\n",
    "y = coords[..., 1]"
   ]
  },
  {
   "cell_type": "markdown",
   "metadata": {},
   "source": [
    "$\\omega radlib$ supports the projection between geographical coordinates (lon/lat) and other reference systems. It uses GDAL/OSR Spatial References Objects as function parameters. Basically, you have to create the OSR-object by using GDAL-capabilities or one of the provided helper functions. We recommend the creation using [EPSG numbers](https://epsg.io/):"
   ]
  },
  {
   "cell_type": "code",
   "execution_count": null,
   "metadata": {},
   "outputs": [],
   "source": [
    "# Gauss Krueger Zone 3, EPSG-Number 31467\n",
    "gk3 = wrl.georef.epsg_to_osr(31467)\n",
    "gk3_coords = wrl.georef.reproject(coords, projection_source=rad,\n",
    "                                  projection_target=gk3)"
   ]
  },
  {
   "cell_type": "markdown",
   "metadata": {},
   "source": [
    "Second, you can provide a string which represents the projection - based on the [PROJ.4 library](https://trac.osgeo.org/proj/). You can [look up projection strings](http://www.spatialreference.org/), but for some projections, $\\omega radlib$ helps you to define a projection string. In the following example, the target projection is 'dwd-radolan':"
   ]
  },
  {
   "cell_type": "code",
   "execution_count": null,
   "metadata": {},
   "outputs": [],
   "source": [
    "radolan = wrl.georef.create_osr(\"dwd-radolan\")\n",
    "radolan_coords = wrl.georef.reproject(coords, projection_target=radolan)"
   ]
  },
  {
   "cell_type": "markdown",
   "metadata": {},
   "source": [
    "<div class=\"alert alert-info\">\n",
    "\n",
    "**Seealso** <br>\n",
    "\n",
    "Get more info in the library reference section [Georeferencing](http://wradlib.org/wradlib-docs/latest/georef.html).\n",
    "\n",
    "</div>"
   ]
  },
  {
   "cell_type": "markdown",
   "metadata": {},
   "source": [
    "## Gridding"
   ]
  },
  {
   "cell_type": "markdown",
   "metadata": {},
   "source": [
    "Assume you would like to transfer the rainfall intensity from the [above example](#Conversion-of-Reflectivity-into-Rainfall) from polar coordinates to a Cartesian grid, or to an arbitrary set of irregular points in space (e.g. centroids of sub-catchments). You already retrieved the Cartesian coordinates of the radar bins in the previous section [Georeferencing and Projection](#Georeferencing-and-Projection). Now you only need to define the target coordinates (e.g. a grid) and apply the ``togrid`` function of the [wradlib.comp](http://wradlib.org/wradlib-docs/latest/comp.html) module. In this example, we want our grid only to represent the South-West sector of our radar circle on a 100 x 100 grid. First, we define the target grid coordinates (these must be an array of 100x100 rows with one coordinate pair each):"
   ]
  },
  {
   "cell_type": "code",
   "execution_count": null,
   "metadata": {},
   "outputs": [],
   "source": [
    "xgrid = np.linspace(x.min(), x.mean(), 100)\n",
    "ygrid = np.linspace(y.min(), y.mean(), 100)\n",
    "grid_xy = np.meshgrid(xgrid, ygrid)\n",
    "grid_xy = np.vstack((grid_xy[0].ravel(), grid_xy[1].ravel())).transpose()"
   ]
  },
  {
   "cell_type": "markdown",
   "metadata": {},
   "source": [
    "Now we transfer the polar data to the grid and mask out invalid values for plotting (values outside the radar circle receive NaN):"
   ]
  },
  {
   "cell_type": "code",
   "execution_count": null,
   "metadata": {},
   "outputs": [],
   "source": [
    "xy=np.concatenate([x.ravel()[:,None],y.ravel()[:,None]], axis=1)\n",
    "gridded = wrl.comp.togrid(xy, grid_xy, 128000., np.array([x.mean(), y.mean()]), data.ravel(), wrl.ipol.Nearest)\n",
    "gridded = np.ma.masked_invalid(gridded).reshape((len(xgrid), len(ygrid)))\n",
    "\n",
    "fig = pl.figure(figsize=(10,8))\n",
    "ax = pl.subplot(111, aspect=\"equal\")\n",
    "pm = pl.pcolormesh(xgrid, ygrid, gridded)\n",
    "pl.colorbar(pm, shrink=0.75)\n",
    "pl.xlabel(\"Easting (m)\")\n",
    "pl.ylabel(\"Northing (m)\")\n",
    "pl.xlim(min(xgrid), max(xgrid))\n",
    "pl.ylim(min(ygrid), max(ygrid))"
   ]
  },
  {
   "cell_type": "markdown",
   "metadata": {},
   "source": [
    "<div class=\"alert alert-info\">\n",
    "\n",
    "**Seealso** <br>\n",
    "\n",
    "Get more info about the function [wradlib.comp.togrid()](http://wradlib.org/wradlib-docs/latest/generated/wradlib.comp.togrid.html).\n",
    "\n",
    "</div>"
   ]
  },
  {
   "cell_type": "markdown",
   "metadata": {},
   "source": [
    "## Adjustment by rain gage observations"
   ]
  },
  {
   "cell_type": "markdown",
   "metadata": {},
   "source": [
    "Adjustment normally refers to using rain gage observations on the ground to correct for errors in the radar-based rainfall estimating. [Goudenhoofdt et al., 2009](http://wradlib.org/wradlib-docs/latest/zreferences.html#goudenhoofdt2009) provide an excellent overview of adjustment procedures. A typical approach is to quantify the error of the radar-based rainfall estimate *at* the rain gage locations, assuming the rain gage observation to be accurate. The error can be assumed to be additive, multiplicative, or a mixture of both. Most approaches assume the error to be heterogeneous in space. Hence, the error at the rain gage locations will be interpolated to the radar bin (or grid) locations and then used to adjust (correct) the raw radar rainfall estimates.\n",
    "\n",
    "In the following example, we will use an illustrative one-dimensional example with synthetic data (just imagine radar rainfall estimates and rain gage observations along one radar beam). \n",
    "\n",
    "First, we create the synthetic \"true\" rainfall (``truth``):"
   ]
  },
  {
   "cell_type": "code",
   "execution_count": null,
   "metadata": {},
   "outputs": [],
   "source": [
    "import numpy as np\n",
    "radar_coords = np.arange(0,101)\n",
    "truth = np.abs(1.5+np.sin(0.075*radar_coords)) + np.random.uniform(-0.1,0.1,len(radar_coords))"
   ]
  },
  {
   "cell_type": "markdown",
   "metadata": {},
   "source": [
    "The radar rainfall estimate ``radar`` is then computed by imprinting a multiplicative ``error`` on ``truth`` and adding some noise:"
   ]
  },
  {
   "cell_type": "code",
   "execution_count": null,
   "metadata": {},
   "outputs": [],
   "source": [
    "error = 0.75 + 0.015*radar_coords\n",
    "radar = error * truth + np.random.uniform(-0.1,0.1,len(radar_coords))"
   ]
  },
  {
   "cell_type": "markdown",
   "metadata": {},
   "source": [
    "Synthetic gage observations ``obs`` are then created by selecting arbitrary \"true\" values:"
   ]
  },
  {
   "cell_type": "code",
   "execution_count": null,
   "metadata": {},
   "outputs": [],
   "source": [
    "obs_coords = np.array([5,10,15,20,30,45,65,70,77,90])\n",
    "obs = truth[obs_coords]"
   ]
  },
  {
   "cell_type": "markdown",
   "metadata": {},
   "source": [
    "Now we adjust the ``radar`` rainfall estimate by using the gage observations. First, you create an \"adjustment object\" from the approach you want to use for adjustment. After that, you can call the object with the actual data that is to be adjusted. Here, we use a multiplicative error model with spatially heterogenous error (see [wradlib.adjust.AdjustMultiply()](http://wradlib.org/wradlib-docs/latest/generated/wradlib.adjust.AdjustMultiply.html):"
   ]
  },
  {
   "cell_type": "code",
   "execution_count": null,
   "metadata": {},
   "outputs": [],
   "source": [
    "adjuster = wrl.adjust.AdjustMultiply(obs_coords, radar_coords, nnear_raws=3)\n",
    "adjusted = adjuster(obs, radar)"
   ]
  },
  {
   "cell_type": "markdown",
   "metadata": {},
   "source": [
    "Let's compare the ``truth``, the ``radar`` rainfall estimate and the ``adjusted`` product:"
   ]
  },
  {
   "cell_type": "code",
   "execution_count": null,
   "metadata": {},
   "outputs": [],
   "source": [
    "pl.plot(radar_coords, truth, 'k-', label=\"True rainfall\", linewidth=2.)\n",
    "pl.xlabel(\"Distance (km)\")\n",
    "pl.ylabel(\"Rainfall intensity (mm/h)\")\n",
    "pl.plot(radar_coords, radar, 'k-', label=\"Raw radar rainfall\", linewidth=2., linestyle=\"dashed\")\n",
    "pl.plot(obs_coords, obs, 'o', label=\"Gage observation\", markersize=10.0, markerfacecolor=\"grey\")\n",
    "pl.plot(radar_coords, adjusted, '-', color=\"green\", label=\"Multiplicative adjustment\", linewidth=2., )\n",
    "pl.legend(prop={'size':12})"
   ]
  },
  {
   "cell_type": "markdown",
   "metadata": {},
   "source": [
    "<div class=\"alert alert-info\">\n",
    "\n",
    "**Seealso** <br>\n",
    "\n",
    "Get more info in the library reference section [Gage Adjustment](http://wradlib.org/wradlib-docs/latest/adjust.html). There, you will also learn how to use the built-in *cross-validation* in order to evaluate the performance of the adjustment approach.\n",
    "\n",
    "</div>"
   ]
  },
  {
   "cell_type": "markdown",
   "metadata": {},
   "source": [
    "## Verification and quality control"
   ]
  },
  {
   "cell_type": "markdown",
   "metadata": {},
   "source": [
    "Typically, radar-based precipitation estimation and the effectiveness of the underlying correction and adjustment methods are verified by comparing the results against rain gage observations on the ground. [wradlib.verify](http://wradlib.org/wradlib-docs/latest/verify.html) module provides procedures not only to extract the radar values at specific gauge locations, but also a set of error metrics which are computed from gage observations and the corresponding radar-based precipitation estimates (including standard metrics such as RMSE, mean error, Nash-Sutcliffe Efficiency). In the following, we will illustrate the usage of error metrics by comparing the \"true\" rainfall against the raw and adjusted radar rainfall estimates from the above example:"
   ]
  },
  {
   "cell_type": "code",
   "execution_count": null,
   "metadata": {},
   "outputs": [],
   "source": [
    "raw_error  = wrl.verify.ErrorMetrics(truth, radar)\n",
    "adj_error  = wrl.verify.ErrorMetrics(truth, adjusted)"
   ]
  },
  {
   "cell_type": "markdown",
   "metadata": {},
   "source": [
    "Error metrics can be reported e.g. as follows:"
   ]
  },
  {
   "cell_type": "code",
   "execution_count": null,
   "metadata": {},
   "outputs": [],
   "source": [
    "raw_error.report()\n",
    "adj_error.report()"
   ]
  },
  {
   "cell_type": "markdown",
   "metadata": {},
   "source": [
    "<div class=\"alert alert-info\">\n",
    "\n",
    "**Seealso** <br>\n",
    "\n",
    "Get more info in the library reference section [Verification](http://wradlib.org/wradlib-docs/latest/verify.html).\n",
    "\n",
    "</div>"
   ]
  },
  {
   "cell_type": "markdown",
   "metadata": {},
   "source": [
    "## Visualisation and mapping"
   ]
  },
  {
   "cell_type": "markdown",
   "metadata": {},
   "source": [
    "In the above sections [Reading the data](#Reading-the-data), [Clutter removal](#Clutter-removal), and [Gridding](#Gridding) you already saw examples of the $\\omega radlib's$ plotting capabilities."
   ]
  },
  {
   "cell_type": "markdown",
   "metadata": {},
   "source": [
    "<div class=\"alert alert-info\">\n",
    "\n",
    "**Seealso** <br>\n",
    "\n",
    "Get more info in the library reference section [Visualisation](http://wradlib.org/wradlib-docs/latest/vis.html).\n",
    "\n",
    "</div>"
   ]
  },
  {
   "cell_type": "markdown",
   "metadata": {},
   "source": [
    "## Data export to other applications"
   ]
  },
  {
   "cell_type": "markdown",
   "metadata": {},
   "source": [
    "Once you created a dataset which meets your requirements, you might want to export it to other applications or archives. $\\omega radlib$ does not favour or support a specific output format. Basically, you have all the freedom of choice offered by Python and its packages in order to export your data. Arrays can be stored as text or binary files by using numpy functions. You can use the package [NetCDF4](https://unidata.github.io/netcdf4-python/) to write NetCDF files, and the packages [h5py](http://www.h5py.org/) or [PyTables](http://www.pytables.org) to write hdf5 files.\n",
    "At a later stage of development, $\\omega radlib$ might support a standardized data export by using the OPERA's ODIM_H5 data model (see [Supported Radar Data Formats](../fileio/wradlib_radar_formats.ipynb)). Of course, you can also export data as images. See [Visualisation](http://wradlib.org/wradlib-docs/latest/vis.html) for some options.\n",
    "\n",
    "Export your data array as a text file:"
   ]
  },
  {
   "cell_type": "code",
   "execution_count": null,
   "metadata": {},
   "outputs": [],
   "source": [
    "np.savetxt(\"mydata.txt\", data)"
   ]
  },
  {
   "cell_type": "markdown",
   "metadata": {},
   "source": [
    "Or as a gzip-compressed text file:"
   ]
  },
  {
   "cell_type": "code",
   "execution_count": null,
   "metadata": {},
   "outputs": [],
   "source": [
    "np.savetxt(\"mydata.gz\", data)"
   ]
  },
  {
   "cell_type": "markdown",
   "metadata": {},
   "source": [
    "Or as a NetCDF file:"
   ]
  },
  {
   "cell_type": "code",
   "execution_count": null,
   "metadata": {},
   "outputs": [],
   "source": [
    "import netCDF4\n",
    "rootgrp = netCDF4.Dataset('test.nc', 'w', format='NETCDF4')\n",
    "sweep_xy = rootgrp.createGroup('sweep_xy')\n",
    "dim_azimuth = sweep_xy.createDimension('azimuth', None)\n",
    "dim_range = sweep_xy.createDimension('range', None)\n",
    "azimuths_var = sweep_xy.createVariable('azimuths','i4',('azimuth',))\n",
    "ranges_var = sweep_xy.createVariable('ranges','f4',('range',))\n",
    "dBZ_var = sweep_xy.createVariable('dBZ','f4',('azimuth','range',))\n",
    "azimuths_var[:] = np.arange(0,360)\n",
    "ranges_var[:] = np.arange(0, 128000., 1000.)\n",
    "dBZ_var[:] = data"
   ]
  },
  {
   "cell_type": "markdown",
   "metadata": {},
   "source": [
    "You can easily add metadata to the NetCDF file on different group levels:"
   ]
  },
  {
   "cell_type": "code",
   "execution_count": null,
   "metadata": {},
   "outputs": [],
   "source": [
    "rootgrp.bandwith = \"C-Band\"\n",
    "sweep_xy.datetime = \"2012-11-02 10:15:00\"\n",
    "rootgrp.close()"
   ]
  },
  {
   "cell_type": "markdown",
   "metadata": {},
   "source": [
    "<div class=\"alert alert-info\">\n",
    "\n",
    "**Note** <br>\n",
    "\n",
    "An example for hdf5 export will follow.\n",
    "\n",
    "</div>"
   ]
  }
 ],
 "metadata": {
  "celltoolbar": "Edit Metadata",
  "kernelspec": {
   "display_name": "Python 3",
   "language": "python",
   "name": "python3"
  },
  "language_info": {
   "codemirror_mode": {
    "name": "ipython",
    "version": 3
   },
   "file_extension": ".py",
   "mimetype": "text/x-python",
   "name": "python",
   "nbconvert_exporter": "python",
   "pygments_lexer": "ipython3",
   "version": "3.6.3"
  }
 },
 "nbformat": 4,
 "nbformat_minor": 1
}
