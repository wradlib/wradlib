{
 "cells": [
  {
   "cell_type": "markdown",
   "metadata": {
    "deletable": true,
    "editable": true,
    "nbsphinx": "hidden"
   },
   "source": [
    "This notebook is part of the $\\omega radlib$ documentation: http://wradlib.org/wradlib-docs.\n",
    "\n",
    "Copyright (c) 2016, $\\omega radlib$ developers.\n",
    "Distributed under the MIT License. See LICENSE.txt for more info."
   ]
  },
  {
   "cell_type": "markdown",
   "metadata": {
    "deletable": true,
    "editable": true
   },
   "source": [
    "# Export a dataset in GIS-compatible format\n",
    "\n",
    "In this notebook, we demonstrate how to export a gridded dataset in GeoTIFF and ESRI ASCII format. This will be exemplified using RADOLAN data from the German Weather Service."
   ]
  },
  {
   "cell_type": "code",
   "execution_count": null,
   "metadata": {
    "collapsed": false,
    "deletable": true,
    "editable": true
   },
   "outputs": [],
   "source": [
    "import wradlib as wrl\n",
    "import numpy as np\n",
    "import warnings\n",
    "warnings.filterwarnings('ignore')"
   ]
  },
  {
   "cell_type": "markdown",
   "metadata": {
    "deletable": true,
    "editable": true
   },
   "source": [
    "### Step 1: Read the original data"
   ]
  },
  {
   "cell_type": "code",
   "execution_count": null,
   "metadata": {
    "collapsed": false,
    "deletable": true,
    "editable": true
   },
   "outputs": [],
   "source": [
    "# We will export this RADOLAN dataset to a GIS compatible format\n",
    "wdir = wrl.util.get_wradlib_data_path() + '/radolan/grid/'\n",
    "filename = 'radolan/misc/raa01-sf_10000-1408102050-dwd---bin.gz'\n",
    "filename = wrl.util.get_wradlib_data_file(filename)\n",
    "data_raw, meta = wrl.io.read_RADOLAN_composite(filename)"
   ]
  },
  {
   "cell_type": "markdown",
   "metadata": {
    "deletable": true,
    "editable": true
   },
   "source": [
    "### Step 2: Get the projected coordinates of the RADOLAN grid"
   ]
  },
  {
   "cell_type": "code",
   "execution_count": null,
   "metadata": {
    "collapsed": false,
    "deletable": true,
    "editable": true
   },
   "outputs": [],
   "source": [
    "# This is the RADOLAN projection\n",
    "proj_osr = wrl.georef.create_osr(\"dwd-radolan\")\n",
    "\n",
    "# Get projected RADOLAN coordinates for corner definition\n",
    "xy_raw = wrl.georef.get_radolan_grid(900, 900)"
   ]
  },
  {
   "cell_type": "markdown",
   "metadata": {
    "deletable": true,
    "editable": true
   },
   "source": [
    "### Step 3: Check Origin and Row/Column Order\n",
    "\n",
    "We know, that `wrl.read_RADOLAN_composite` returns a 2D-array (rows, cols) with the origin in the lower left corner. Same applies to `wrl.georef.get_radolan_grid`. For the next step, we need to flip the data and the coords up-down. The coordinate corner points also need to be adjusted from lower left corner to upper right corner."
   ]
  },
  {
   "cell_type": "code",
   "execution_count": null,
   "metadata": {
    "collapsed": false,
    "deletable": true,
    "editable": true
   },
   "outputs": [],
   "source": [
    "data, xy = wrl.georef.set_raster_origin(data_raw, xy_raw, 'upper')"
   ]
  },
  {
   "cell_type": "markdown",
   "metadata": {
    "deletable": true,
    "editable": true
   },
   "source": [
    "### Step 4a: Export as GeoTIFF\n",
    "\n",
    "For RADOLAN grids, this projection will probably not be recognized by\n",
    "ESRI ArcGIS."
   ]
  },
  {
   "cell_type": "code",
   "execution_count": null,
   "metadata": {
    "collapsed": false,
    "deletable": true,
    "editable": true
   },
   "outputs": [],
   "source": [
    "# create 3 bands\n",
    "data = np.stack((data, data+100, data+1000))\n",
    "ds = wrl.georef.create_raster_dataset(data, xy, projection=proj_osr)\n",
    "wrl.io.write_raster_dataset(wdir + \"geotiff.tif\", ds, 'GTiff')\n",
    "\n",
    "# now deprecated\n",
    "geotransform = [xy_raw[0, 0, 0], 1., 0, xy_raw[-1, -1, 1] + 1., 0, -1.]\n",
    "wrl.io.to_GeoTIFF(wdir + \"geotiff1.tif\", data_raw, geotransform, proj=proj_osr)"
   ]
  },
  {
   "cell_type": "markdown",
   "metadata": {
    "deletable": true,
    "editable": true
   },
   "source": [
    "### Step 4b: Export as ESRI ASCII file (aka Arc/Info ASCII Grid)"
   ]
  },
  {
   "cell_type": "code",
   "execution_count": null,
   "metadata": {
    "collapsed": false,
    "deletable": true,
    "editable": true
   },
   "outputs": [],
   "source": [
    "# Export to Arc/Info ASCII Grid format (aka ESRI grid)\n",
    "#     It should be possible to import this to most conventional\n",
    "# GIS software.\n",
    "# only use first band\n",
    "proj_esri = proj_osr.Clone()\n",
    "proj_esri.MorphToESRI()\n",
    "ds = wrl.georef.create_raster_dataset(data[0], xy, projection=proj_esri)\n",
    "wrl.io.write_raster_dataset(wdir + \"aaigrid.asc\", ds, 'AAIGrid', options=['DECIMAL_PRECISION=2'])\n",
    "\n",
    "# now deprecated\n",
    "wrl.io.to_AAIGrid(wdir + \"aaigrid1.asc\", data_raw, xy_raw[0, 0, 0], xy_raw[0, 0, 1],\n",
    "                  1., proj=proj_osr, to_esri=False)"
   ]
  },
  {
   "cell_type": "markdown",
   "metadata": {
    "deletable": true,
    "editable": true
   },
   "source": [
    "### Step 5a: Read from GeoTIFF"
   ]
  },
  {
   "cell_type": "code",
   "execution_count": null,
   "metadata": {
    "collapsed": false,
    "deletable": true,
    "editable": true
   },
   "outputs": [],
   "source": [
    "ds1 = wrl.io.open_raster(wdir + \"geotiff.tif\")\n",
    "data1, xy1, proj1 = wrl.georef.extract_raster_dataset(ds1, nodata=-9999.)\n",
    "np.testing.assert_array_equal(data1, data)\n",
    "np.testing.assert_array_equal(xy1[:-1,:-1,:], xy)"
   ]
  },
  {
   "cell_type": "markdown",
   "metadata": {
    "deletable": true,
    "editable": true
   },
   "source": [
    "### Step 5b: Read from ESRI ASCII file (aka Arc/Info ASCII Grid)"
   ]
  },
  {
   "cell_type": "code",
   "execution_count": null,
   "metadata": {
    "collapsed": false,
    "deletable": true,
    "editable": true
   },
   "outputs": [],
   "source": [
    "ds2 = wrl.io.open_raster(wdir + \"aaigrid.asc\")\n",
    "data2, xy2, proj2 = wrl.georef.extract_raster_dataset(ds2, nodata=-9999.)\n",
    "np.testing.assert_array_almost_equal(data2, data[0], decimal=2)\n",
    "np.testing.assert_array_almost_equal(xy2[:-1,:-1,:], xy)"
   ]
  }
 ],
 "metadata": {
  "celltoolbar": "Edit Metadata",
  "kernelspec": {
   "display_name": "Python 2",
   "language": "python",
   "name": "python2"
  },
  "language_info": {
   "codemirror_mode": {
    "name": "ipython",
    "version": 2
   },
   "file_extension": ".py",
   "mimetype": "text/x-python",
   "name": "python",
   "nbconvert_exporter": "python",
   "pygments_lexer": "ipython2",
   "version": "2.7.13"
  }
 },
 "nbformat": 4,
 "nbformat_minor": 0
}
