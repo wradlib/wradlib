{
 "cells": [
  {
   "cell_type": "markdown",
   "metadata": {
    "nbsphinx": "hidden"
   },
   "source": [
    "This notebook is part of the wradlib documentation: http://wradlib.org/wradlib-docs.\n",
    "\n",
    "Copyright (c) 2016, wradlib developers.\n",
    "Distributed under the MIT License. See LICENSE.txt for more info."
   ]
  },
  {
   "cell_type": "markdown",
   "metadata": {},
   "source": [
    "# Handling DX Radar Data (German Weather Service)"
   ]
  },
  {
   "cell_type": "markdown",
   "metadata": {},
   "source": [
    "This tutorial helps you to read and plot the raw polar radar data provided by German Weather Service (DWD)."
   ]
  },
  {
   "cell_type": "code",
   "execution_count": null,
   "metadata": {
    "collapsed": true,
    "nbsphinx": "hidden"
   },
   "outputs": [],
   "source": [
    "import wradlib as wrl\n",
    "import matplotlib.pyplot as pl\n",
    "import warnings\n",
    "warnings.filterwarnings('ignore')\n",
    "try:\n",
    "    get_ipython().magic(\"matplotlib inline\")\n",
    "except:\n",
    "    pl.ion()\n",
    "import numpy as np"
   ]
  },
  {
   "cell_type": "markdown",
   "metadata": {},
   "source": [
    "## Reading DX-Data"
   ]
  },
  {
   "cell_type": "markdown",
   "metadata": {},
   "source": [
    "The German weather service provides polar radar data in the so called ``DX`` format. \n",
    "These have to be unpacked and transfered into an array of 360 (azimuthal resolution of 1 degree) by 128 (range resolution of 1 km).\n",
    "\n",
    "The naming convention for DX data is: \n",
    "<pre>raa00-dx_&lt;location-id&gt;-&lt;YYMMDDHHMM&gt;-&lt;location-abreviation&gt;---bin</pre> or <pre>raa00-dx_&lt;location-id&gt;-&lt;YYYYMMDDHHMM&gt;-&lt;location-abreviation&gt;---bin</pre> \n",
    "For example: ``raa00-dx_10908-200608281420-fbg---bin`` raw data from radar station Feldberg (fbg, 10908) from 2006-08-28 14:20:00.\n",
    "\n",
    "Each DX file also contains additional information like the elevation angle for each beam. Note, however, that the format is not \"self-describing\"."
   ]
  },
  {
   "cell_type": "markdown",
   "metadata": {},
   "source": [
    "### Raw data for one time step"
   ]
  },
  {
   "cell_type": "markdown",
   "metadata": {},
   "source": [
    "Suppose we want to read a radar-scan for a defined time step. You need to make sure that the data file is given with the correct path to the file. The readDX function returns two variables: the reflectivity array, and a dictionary of metadata attributes."
   ]
  },
  {
   "cell_type": "code",
   "execution_count": null,
   "metadata": {
    "collapsed": false
   },
   "outputs": [],
   "source": [
    "filename = wrl.util.get_wradlib_data_file('dx/raa00-dx_10908-200608281420-fbg---bin.gz')\n",
    "one_scan, attributes = wrl.io.readDX(filename)\n",
    "print(one_scan.shape)\n",
    "print(attributes.keys())\n",
    "print(attributes['radarid'])"
   ]
  },
  {
   "cell_type": "markdown",
   "metadata": {},
   "source": [
    "### Raw data for multiple time steps"
   ]
  },
  {
   "cell_type": "markdown",
   "metadata": {},
   "source": [
    "To read multiple scans into one array, you should create an empty array with the shape of the desired dimensions. \n",
    "In this example, the dataset contains 2 timesteps of 360 by 128 values. Note that we simply catch the metadata dictionary\n",
    "in a dummy variable:"
   ]
  },
  {
   "cell_type": "code",
   "execution_count": null,
   "metadata": {
    "collapsed": false
   },
   "outputs": [],
   "source": [
    "import numpy as np\n",
    "two_scans = np.empty((2,360,128))\n",
    "metadata = [[],[]]\n",
    "filename = wrl.util.get_wradlib_data_file('dx/raa00-dx_10908-0806021740-fbg---bin.gz')\n",
    "two_scans[0], metadata[0] = wrl.io.readDX(filename)\n",
    "filename = wrl.util.get_wradlib_data_file('dx/raa00-dx_10908-0806021745-fbg---bin.gz')\n",
    "two_scans[1], metadata[1] = wrl.io.readDX(filename)\n",
    "print(two_scans.shape)"
   ]
  },
  {
   "cell_type": "markdown",
   "metadata": {},
   "source": [
    "## Visualizing dBZ values"
   ]
  },
  {
   "cell_type": "markdown",
   "metadata": {},
   "source": [
    "Now we want to create a quick diagnostic PPI plot of reflectivity in a polar coordiate system:"
   ]
  },
  {
   "cell_type": "code",
   "execution_count": null,
   "metadata": {
    "collapsed": false
   },
   "outputs": [],
   "source": [
    "pl.figure(figsize=(10,8))\n",
    "ax, pm = wrl.vis.plot_ppi(one_scan)\n",
    "# add a colorbar with label\n",
    "cbar = pl.colorbar(pm, shrink=0.75)\n",
    "cbar.set_label(\"Reflectivity (dBZ)\")"
   ]
  },
  {
   "cell_type": "markdown",
   "metadata": {},
   "source": [
    "This is a stratiform event. Apparently, the radar system has already masked the foothills of the Alps as clutter. \n",
    "The spike in the south-western sector is caused by a broadcasting tower nearby the radar antenna.\n",
    "\n",
    "Another case shows a convective situation:"
   ]
  },
  {
   "cell_type": "code",
   "execution_count": null,
   "metadata": {
    "collapsed": false
   },
   "outputs": [],
   "source": [
    "pl.figure(figsize=(10,8))\n",
    "ax, pm = wrl.vis.plot_ppi(two_scans[0])\n",
    "cbar = pl.colorbar(pm, shrink=0.75)\n",
    "cbar.set_label(\"Reflectivity (dBZ)\")"
   ]
  },
  {
   "cell_type": "markdown",
   "metadata": {},
   "source": [
    "You can also modify or decorate the image further, e.g. add a cross-hair, a title, use a different colormap, or zoom in:"
   ]
  },
  {
   "cell_type": "code",
   "execution_count": null,
   "metadata": {
    "collapsed": false
   },
   "outputs": [],
   "source": [
    "pl.figure(figsize=(10,8))\n",
    "# Plot PPI,\n",
    "ax, pm = wrl.vis.plot_ppi(two_scans[0], cmap=\"spectral\")\n",
    "# add crosshair,\n",
    "ax = wrl.vis.plot_ppi_crosshair((0,0), ranges=[40,80,128])\n",
    "# add colorbar,\n",
    "cbar = pl.colorbar(pm, shrink=0.9)\n",
    "cbar.set_label(\"Reflectivity (dBZ)\")\n",
    "# add title,\n",
    "pl.title('Reflectivity at {0}\\nDWD radar Feldberg'.format(metadata[0]['datetime']))\n",
    "# and zoom in.\n",
    "pl.xlim((-128,128))\n",
    "pl.ylim((-128,128))"
   ]
  },
  {
   "cell_type": "markdown",
   "metadata": {},
   "source": [
    "In addition, you might want to tweak the colorscale to allow for better comparison of different images:"
   ]
  },
  {
   "cell_type": "code",
   "execution_count": null,
   "metadata": {
    "collapsed": false
   },
   "outputs": [],
   "source": [
    "fig = pl.figure(figsize=(12,10))\n",
    "# Add first subplot (stratiform)\n",
    "ax = pl.subplot(121, aspect=\"equal\")\n",
    "# Plot PPI,\n",
    "ax, pm = wrl.vis.plot_ppi(one_scan, cmap=\"spectral\", vmin=20, vmax=60)\n",
    "# add crosshair,\n",
    "ax = wrl.vis.plot_ppi_crosshair((0,0), ranges=[40,80,128])\n",
    "# add colorbar,\n",
    "cbar = pl.colorbar(pm, shrink=0.5)\n",
    "cbar.set_label(\"Reflectivity (dBZ)\")\n",
    "# add title,\n",
    "pl.title('Reflectivity at {0}\\nDWD radar Feldberg'.format(metadata[0]['datetime']))\n",
    "# and zoom in.\n",
    "pl.xlim((-128,128))\n",
    "pl.ylim((-128,128))\n",
    "# Add second subplot (convective)\n",
    "ax = pl.subplot(122, aspect=\"equal\")\n",
    "# Plot PPI,\n",
    "ax, pm = wrl.vis.plot_ppi(two_scans[0], cmap=\"spectral\", vmin=20, vmax=60)\n",
    "# add crosshair,\n",
    "ax = wrl.vis.plot_ppi_crosshair((0,0), ranges=[40,80,128])\n",
    "# add colorbar,\n",
    "cbar = pl.colorbar(pm, shrink=0.5)\n",
    "cbar.set_label(\"Reflectivity (dBZ)\")\n",
    "# add title,\n",
    "pl.title('Reflectivity at {0}\\nDWD radar Feldberg'.format(attributes['datetime']))\n",
    "# and zoom in.\n",
    "pl.xlim((-128,128))\n",
    "pl.ylim((-128,128))"
   ]
  },
  {
   "cell_type": "markdown",
   "metadata": {},
   "source": [
    "The radar data was kindly provided by the German Weather Service."
   ]
  }
 ],
 "metadata": {
  "celltoolbar": "Edit Metadata",
  "kernelspec": {
   "display_name": "Python 2",
   "language": "python",
   "name": "python2"
  },
  "language_info": {
   "codemirror_mode": {
    "name": "ipython",
    "version": 2
   },
   "file_extension": ".py",
   "mimetype": "text/x-python",
   "name": "python",
   "nbconvert_exporter": "python",
   "pygments_lexer": "ipython2",
   "version": "2.7.11"
  }
 },
 "nbformat": 4,
 "nbformat_minor": 0
}
