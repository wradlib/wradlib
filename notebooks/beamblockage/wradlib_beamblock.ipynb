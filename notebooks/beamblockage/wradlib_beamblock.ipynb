{
 "cells": [
  {
   "cell_type": "markdown",
   "metadata": {
    "nbsphinx": "hidden"
   },
   "source": [
    "This notebook is part of the wradlib documentation: http://wradlib.org/wradlib-docs.\n",
    "\n",
    "Copyright (c) 2016, wradlib developers.\n",
    "Distributed under the MIT License. See LICENSE.txt for more info."
   ]
  },
  {
   "cell_type": "markdown",
   "metadata": {},
   "source": [
    "# Beam Blockage Calculation using DEM"
   ]
  },
  {
   "cell_type": "markdown",
   "metadata": {},
   "source": [
    "For calculation of (**p**artial) **b**eam-**b**lockage (**PBB**) **D**igital **E**levation **M**odels (**DEM**) can be used. To calculate **PBB** for a given radar setup only the radar sitecoords, number of rays, number of bins, the elevation, the beamwidth and the range resolution need to be known.\n",
    "\n",
    "Also a **DEM** with a quite good resolution is needed. In this example we use pre-processed data from the [GTOPO30](https://lta.cr.usgs.gov/GTOPO30) and [SRTM](http://www2.jpl.nasa.gov/srtm) missions."
   ]
  },
  {
   "cell_type": "code",
   "execution_count": null,
   "metadata": {
    "collapsed": true
   },
   "outputs": [],
   "source": [
    "import wradlib as wrl\n",
    "import matplotlib.pyplot as pl\n",
    "import matplotlib as mpl\n",
    "import warnings\n",
    "warnings.filterwarnings('ignore')\n",
    "try:\n",
    "    get_ipython().magic(\"matplotlib inline\")\n",
    "except:\n",
    "    pl.ion()\n",
    "import numpy as np"
   ]
  },
  {
   "cell_type": "markdown",
   "metadata": {},
   "source": [
    "## Setup Radar Parameters"
   ]
  },
  {
   "cell_type": "markdown",
   "metadata": {},
   "source": [
    "First, we set the needed radar parameters."
   ]
  },
  {
   "cell_type": "code",
   "execution_count": null,
   "metadata": {
    "collapsed": true
   },
   "outputs": [],
   "source": [
    "# setup radar specs (Bonn Radar)\n",
    "sitecoords = (7.071663, 50.73052, 99.5)\n",
    "nrays = 360\n",
    "nbins = 1000\n",
    "el = 1.0\n",
    "bw = 1.0\n",
    "range_res = 100"
   ]
  },
  {
   "cell_type": "markdown",
   "metadata": {},
   "source": [
    "Then the range and beamradius arrays are created"
   ]
  },
  {
   "cell_type": "code",
   "execution_count": null,
   "metadata": {
    "collapsed": true
   },
   "outputs": [],
   "source": [
    "r = np.arange(nbins) * range_res\n",
    "beamradius = wrl.util.half_power_radius(r, bw)"
   ]
  },
  {
   "cell_type": "markdown",
   "metadata": {},
   "source": [
    "We use the [wradlib.georef.sweep_centroids()](generated/wradlib.georef.sweep_centroids.rst)  and [wradlib.georef.polar2lonlatalt_n()](generated/wradlib.georef.polar2lonlatalt_n.rst) functions to calculate the radar bin centroids and derive lon, lat, alt from that. Also the bounding box is computed."
   ]
  },
  {
   "cell_type": "code",
   "execution_count": null,
   "metadata": {
    "collapsed": false
   },
   "outputs": [],
   "source": [
    "coord = wrl.georef.sweep_centroids(nrays, range_res, nbins, el)\n",
    "lon, lat, alt = np.array(\n",
    "    wrl.georef.polar2lonlatalt_n(coord[..., 0], np.degrees(coord[..., 1]),\n",
    "                                 coord[..., 2], sitecoords))\n",
    "polcoords = np.dstack((lon, lat))\n",
    "print(\"lon,lat,alt:\", lon.shape, lat.shape, alt.shape)\n",
    "\n",
    "# get radar bounding box lonlat\n",
    "lonmin = np.min(lon)\n",
    "lonmax = np.max(lon)\n",
    "latmin = np.min(lat)\n",
    "latmax = np.max(lat)\n",
    "rlimits = [lonmin, latmin, lonmax, latmax]\n",
    "print(\"radar bounding box:\", rlimits)"
   ]
  },
  {
   "cell_type": "markdown",
   "metadata": {},
   "source": [
    "## Read DEM Raster Data"
   ]
  },
  {
   "cell_type": "markdown",
   "metadata": {},
   "source": [
    "Now we read the ``geotiff`` from the `WRADLIB_DATA` folder and map the rastervalues to the polar grid points. You can choose the coarser resolution `bonn_gtopo.tif` from GTOPO30 or the finer resolution `bonn_new.tif` from the SRTM mission.\n",
    "\n",
    "For reading the raster data the [wradlib.io.read_raster_data()](generated/wradlib.io.read_raster_data.rst) function is used."
   ]
  },
  {
   "cell_type": "code",
   "execution_count": null,
   "metadata": {
    "collapsed": false
   },
   "outputs": [],
   "source": [
    "#rasterfile = wrl.util.get_wradlib_data_file('geo/bonn_gtopo.tif')\n",
    "rasterfile = wrl.util.get_wradlib_data_file('geo/bonn_new.tif')\n",
    "\n",
    "# read raster data\n",
    "rastercoords, rastervalues = wrl.io.read_raster_data(rasterfile)\n",
    "\n",
    "# apply radar bounding box to raster data\n",
    "# this actually cuts out the interesting box from rasterdata\n",
    "ind = wrl.util.find_bbox_indices(rastercoords, rlimits)\n",
    "rastercoords = rastercoords[ind[1]:ind[3], ind[0]:ind[2], ...]\n",
    "rastervalues = rastervalues[ind[1]:ind[3], ind[0]:ind[2]]\n",
    "\n",
    "# map rastervalues to polar grid points\n",
    "polarvalues = wrl.ipol.cart2irregular_spline(rastercoords, rastervalues,\n",
    "                                             polcoords, order=3,\n",
    "                                             prefilter=False)\n",
    "\n",
    "print(polarvalues.shape)"
   ]
  },
  {
   "cell_type": "markdown",
   "metadata": {},
   "source": [
    "## Calculate Beam-Blockage"
   ]
  },
  {
   "cell_type": "markdown",
   "metadata": {},
   "source": [
    "This is all we need to execute the [wradlib.qual.beam_block_frac()](generated/wradlib.qual.beam_block_frac.rst) function to calculate the PBB. The return needs to be masked correctly."
   ]
  },
  {
   "cell_type": "code",
   "execution_count": null,
   "metadata": {
    "collapsed": false
   },
   "outputs": [],
   "source": [
    "PBB = wrl.qual.beam_block_frac(polarvalues, alt, beamradius)\n",
    "PBB = np.ma.masked_invalid(PBB)\n",
    "print(PBB.shape)"
   ]
  },
  {
   "cell_type": "markdown",
   "metadata": {},
   "source": [
    "Since [wradlib.qual.beam_block_frac()](generated/wradlib.qual.beam_block_frac.rst) calculates fraction of beam blockage for every grid-cell without taking into account that the radar signal travels along a certain ray, we have to take care of this. We find the maximum blockage fraction index per ray and set all values in further range to this value."
   ]
  },
  {
   "cell_type": "code",
   "execution_count": null,
   "metadata": {
    "collapsed": true
   },
   "outputs": [],
   "source": [
    "# calculate cumulative beam blockage CBB\n",
    "ind = np.nanargmax(PBB, axis=1)\n",
    "CBB = np.copy(PBB)\n",
    "for ii, index in enumerate(ind):\n",
    "    CBB[ii, 0:index] = PBB[ii, 0:index]\n",
    "    CBB[ii, index:] = PBB[ii, index]"
   ]
  },
  {
   "cell_type": "markdown",
   "metadata": {},
   "source": [
    "## Visualize Beamblockage"
   ]
  },
  {
   "cell_type": "markdown",
   "metadata": {},
   "source": [
    "Finally, we have everything to produce some nice plots."
   ]
  },
  {
   "cell_type": "code",
   "execution_count": null,
   "metadata": {
    "collapsed": false
   },
   "outputs": [],
   "source": [
    "from mpl_toolkits.axes_grid1 import make_axes_locatable\n",
    "# plotting the stuff\n",
    "fig = pl.figure(figsize=(10, 8))\n",
    "\n",
    "# create subplots\n",
    "ax1 = pl.subplot2grid((2, 2), (0, 0))\n",
    "ax2 = pl.subplot2grid((2, 2), (0, 1))\n",
    "ax3 = pl.subplot2grid((2, 2), (1, 0), colspan=2, rowspan=1)\n",
    "\n",
    "# azimuth angle\n",
    "angle = 225\n",
    "\n",
    "# plot terrain\n",
    "dem = ax1.pcolormesh(lon, lat, polarvalues / 1000., cmap=mpl.cm.terrain,\n",
    "                     vmin=-0.3, vmax=0.8)\n",
    "ax1.plot(sitecoords[0], sitecoords[1], 'rD')\n",
    "ax1.set_title(\n",
    "    'Terrain within {0} km range of Radar'.format(np.max(r / 1000.) + 0.1))\n",
    "# colorbar\n",
    "div1 = make_axes_locatable(ax1)\n",
    "cax1 = div1.append_axes(\"right\", size=\"5%\", pad=0.1)\n",
    "fig.colorbar(dem, cax=cax1)\n",
    "# limits\n",
    "\n",
    "ax1.set_xlim(lonmin, lonmax)\n",
    "ax1.set_ylim(latmin, latmax)\n",
    "ax1.set_aspect('auto')\n",
    "\n",
    "# plot CBB on ax2\n",
    "cbb = ax2.pcolormesh(lon, lat, CBB, cmap=mpl.cm.PuRd, vmin=0, vmax=1)\n",
    "ax2.set_title('Beam-Blockage Fraction')\n",
    "div2 = make_axes_locatable(ax2)\n",
    "cax2 = div2.append_axes(\"right\", size=\"5%\", pad=0.1)\n",
    "# colorbar\n",
    "fig.colorbar(cbb, cax=cax2)\n",
    "# limits\n",
    "ax2.set_xlim(lonmin, lonmax)\n",
    "ax2.set_ylim(latmin, latmax)\n",
    "ax2.set_aspect('auto')\n",
    "\n",
    "# plot single ray terrain profile on ax3\n",
    "bc, = ax3.plot(r / 1000., alt[angle, :] / 1000., '-b',\n",
    "               linewidth=3, label='Beam Center')\n",
    "b3db, = ax3.plot(r / 1000., (alt[angle, :] + beamradius) / 1000., ':b',\n",
    "                 linewidth=1.5, label='3 dB Beam width')\n",
    "ax3.plot(r / 1000., (alt[angle, :] - beamradius) / 1000., ':b')\n",
    "ax3.fill_between(r / 1000., 0.,\n",
    "                 polarvalues[angle, :] / 1000.,\n",
    "                 color='0.75')\n",
    "ax3.set_xlim(0., np.max(r / 1000.) + 0.1)\n",
    "ax3.set_ylim(0., 5)\n",
    "ax3.set_xlabel('Range (km)')\n",
    "ax3.set_ylabel('Height (km)')\n",
    "\n",
    "axb = ax3.twinx()\n",
    "bbf, = axb.plot(r / 1000., CBB[angle, :], '-k',\n",
    "                label='BBF')\n",
    "axb.set_ylabel('Beam-blockage fraction')\n",
    "axb.set_ylim(0., 1.)\n",
    "axb.set_xlim(0., np.max(r / 1000.) + 0.1)\n",
    "\n",
    "legend = ax3.legend((bc, b3db, bbf), ('Beam Center', '3 dB Beam width', 'BBF'),\n",
    "                    loc='upper left', fontsize=10)"
   ]
  },
  {
   "cell_type": "markdown",
   "metadata": {},
   "source": [
    "Go back to [Read DEM Raster Data](#Read-DEM-Raster-Data), change the rasterfile to use the other resolution DEM and process again."
   ]
  }
 ],
 "metadata": {
  "celltoolbar": "Edit Metadata",
  "kernelspec": {
   "display_name": "Python 2",
   "language": "python",
   "name": "python2"
  },
  "language_info": {
   "codemirror_mode": {
    "name": "ipython",
    "version": 2
   },
   "file_extension": ".py",
   "mimetype": "text/x-python",
   "name": "python",
   "nbconvert_exporter": "python",
   "pygments_lexer": "ipython2",
   "version": "2.7.11"
  }
 },
 "nbformat": 4,
 "nbformat_minor": 0
}
