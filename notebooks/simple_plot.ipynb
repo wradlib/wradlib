{
 "cells": [
  {
   "cell_type": "markdown",
   "metadata": {
    "nbsphinx": "hidden"
   },
   "source": [
    "This notebook is part of the wradlib documentation: http://wradlib.org/wradlib-docs.\n",
    "\n",
    "Copyright (c) 2016, wradlib developers.\n",
    "Distributed under the MIT License. See LICENSE.txt for more info."
   ]
  },
  {
   "cell_type": "markdown",
   "metadata": {},
   "source": [
    "# Simple Plot"
   ]
  },
  {
   "cell_type": "markdown",
   "metadata": {},
   "source": [
    "This notebook shows loading of a RADOLAN RW Composit.\n",
    "\n",
    "First it reads the data and metadata and prints the metadata."
   ]
  },
  {
   "cell_type": "code",
   "execution_count": null,
   "metadata": {
    "collapsed": true
   },
   "outputs": [],
   "source": [
    "# import section\n",
    "import wradlib as wrl\n",
    "import warnings\n",
    "warnings.filterwarnings('ignore')\n",
    "import numpy as np\n",
    "import matplotlib.pyplot as pl\n",
    "try:\n",
    "    get_ipython().magic(\"matplotlib inline\")\n",
    "except:\n",
    "    pl.ion()\n",
    "\n",
    "# load radolan files\n",
    "rw_filename = 'radolan/misc/raa01-rw_10000-1408102050-dwd---bin.gz'\n",
    "rw_filename = wrl.util.get_wradlib_data_file(rw_filename)\n",
    "rwdata, rwattrs = wrl.io.read_RADOLAN_composite(rw_filename)\n",
    "\n",
    "# print the available attributes\n",
    "print(\"RW Attributes:\")\n",
    "print(\"--------------\")\n",
    "for k, v in rwattrs.items():\n",
    "    print(k, v)"
   ]
  },
  {
   "cell_type": "markdown",
   "metadata": {},
   "source": [
    "Then it plots the data in the RADOLAN Stereographic Projection"
   ]
  },
  {
   "cell_type": "code",
   "execution_count": null,
   "metadata": {
    "collapsed": true
   },
   "outputs": [],
   "source": [
    "# mask invalid values\n",
    "sec = rwattrs['secondary']\n",
    "rwdata.flat[sec] = -9999\n",
    "rwdata = np.ma.masked_equal(rwdata, -9999)\n",
    "\n",
    "# get coordinates\n",
    "radolan_grid_xy = wrl.georef.get_radolan_grid(900,900)\n",
    "x = radolan_grid_xy[:,:,0]\n",
    "y = radolan_grid_xy[:,:,1]\n",
    "\n",
    "# create quick plot with colorbar and title\n",
    "pl.figure(figsize=(10,8))\n",
    "pl.pcolormesh(x, y, rwdata, cmap=\"spectral\")\n",
    "cb = pl.colorbar(shrink=0.75)\n",
    "cb.set_label(\"mm/h\")\n",
    "pl.figaspect(1)\n",
    "pl.title('RADOLAN RW Product Polar Stereo \\n' + rwattrs['datetime'].isoformat())\n",
    "pl.grid(color='r')"
   ]
  }
 ],
 "metadata": {
  "celltoolbar": "Edit Metadata",
  "kernelspec": {
   "display_name": "Python 2",
   "language": "python",
   "name": "python2"
  },
  "language_info": {
   "codemirror_mode": {
    "name": "ipython",
    "version": 2
   },
   "file_extension": ".py",
   "mimetype": "text/x-python",
   "name": "python",
   "nbconvert_exporter": "python",
   "pygments_lexer": "ipython2",
   "version": "2.7.11"
  }
 },
 "nbformat": 4,
 "nbformat_minor": 0
}
