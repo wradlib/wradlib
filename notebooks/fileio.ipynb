{
 "cells": [
  {
   "cell_type": "markdown",
   "metadata": {},
   "source": [
    "This notebook is part of the wradlib documentation: http://wradlib.org/wradlib-docs.\n",
    "\n",
    "Copyright (c) 2016, wradlib developers.\n",
    "Distributed under the MIT License. See LICENSE.txt for more info."
   ]
  },
  {
   "cell_type": "markdown",
   "metadata": {},
   "source": [
    "# Data Input - Data Output"
   ]
  },
  {
   "cell_type": "markdown",
   "metadata": {},
   "source": [
    "This section provides a collection of example code snippets to show which data formats $\\omega radlib$ can handle and and how to facilitate that.\n"
   ]
  },
  {
   "cell_type": "markdown",
   "metadata": {
    "nbsphinx-toctree": {
     "maxdepth": 2
    }
   },
   "source": [
    "## Examples List\n",
    "\n",
    "- [Overview over Radar Data Formats](fileio/wradlib_radar_formats.ipynb)\n",
    "- [DWD DX Format](fileio/wradlib_reading_dx.ipynb)\n",
    "- [DWD RADOLAN Format](radolan/radolan_format.ipynb)\n",
    "- [Generic NetCDF](fileio/wradlib_generic_netcdf_example.ipynb)\n",
    "- [Gematronik Rainbow](fileio/wradlib_load_rainbow_example.ipynb)\n",
    "- [GIS Export](fileio/wradlib_gis_export_example.ipynb)"
   ]
  }
 ],
 "metadata": {
  "celltoolbar": "Edit Metadata",
  "kernelspec": {
   "display_name": "Python 2",
   "language": "python",
   "name": "python2"
  },
  "language_info": {
   "codemirror_mode": {
    "name": "ipython",
    "version": 2
   },
   "file_extension": ".py",
   "mimetype": "text/x-python",
   "name": "python",
   "nbconvert_exporter": "python",
   "pygments_lexer": "ipython2",
   "version": "2.7.11"
  }
 },
 "nbformat": 4,
 "nbformat_minor": 0
}
