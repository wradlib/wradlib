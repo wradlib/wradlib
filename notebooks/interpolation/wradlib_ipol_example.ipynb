{
 "cells": [
  {
   "cell_type": "markdown",
   "metadata": {
    "nbsphinx": "hidden"
   },
   "source": [
    "This notebook is part of the $\\omega radlib$ documentation: http://wradlib.org/wradlib-docs.\n",
    "\n",
    "Copyright (c) 2016, $\\omega radlib$ developers.\n",
    "Distributed under the MIT License. See LICENSE.txt for more info."
   ]
  },
  {
   "cell_type": "markdown",
   "metadata": {},
   "source": [
    "# How to use wradlib's ipol module for interpolation tasks?"
   ]
  },
  {
   "cell_type": "code",
   "execution_count": null,
   "metadata": {
    "collapsed": true
   },
   "outputs": [],
   "source": [
    "import wradlib.ipol as ipol\n",
    "from wradlib.util import get_wradlib_data_file\n",
    "from wradlib.vis import plot_ppi\n",
    "import numpy as np\n",
    "import matplotlib.pyplot as pl\n",
    "import datetime as dt\n",
    "import warnings\n",
    "warnings.filterwarnings('ignore')\n",
    "try:\n",
    "    get_ipython().magic(\"matplotlib inline\")\n",
    "except:\n",
    "    pl.ion()"
   ]
  },
  {
   "cell_type": "markdown",
   "metadata": {},
   "source": [
    "### 1-dimensional example\n",
    "\n",
    "Includes Nearest Neighbours, Inverse Distance Weighting, and Ordinary Kriging."
   ]
  },
  {
   "cell_type": "code",
   "execution_count": null,
   "metadata": {
    "collapsed": false
   },
   "outputs": [],
   "source": [
    "# Synthetic observations\n",
    "xsrc = np.arange(10)[:, None]\n",
    "vals = np.sin(xsrc).ravel()\n",
    "\n",
    "# Define target coordinates\n",
    "xtrg = np.linspace(0, 20, 100)[:, None]\n",
    "\n",
    "# Set up interpolation objects\n",
    "#   IDW\n",
    "idw = ipol.Idw(xsrc, xtrg)\n",
    "#   Nearest Neighbours\n",
    "nn = ipol.Nearest(xsrc, xtrg)\n",
    "#   Linear\n",
    "ok = ipol.OrdinaryKriging(xsrc, xtrg)\n",
    "\n",
    "# Plot results\n",
    "pl.figure(figsize=(10,5))\n",
    "pl.plot(xsrc.ravel(), vals, 'bo', label=\"Observation\")\n",
    "pl.plot(xtrg.ravel(), idw(vals), 'r-', label=\"IDW interpolation\")\n",
    "pl.plot(xtrg.ravel(), nn(vals), 'k-', label=\"Nearest Neighbour interpolation\")\n",
    "pl.plot(xtrg.ravel(), ok(vals), 'g-', label=\"Ordinary Kriging\")\n",
    "pl.xlabel(\"Distance\", fontsize=\"large\")\n",
    "pl.ylabel(\"Value\", fontsize=\"large\")\n",
    "pl.legend(loc=\"bottomright\")"
   ]
  },
  {
   "cell_type": "markdown",
   "metadata": {},
   "source": [
    "### 2-dimensional example\n",
    "\n",
    "Includes Nearest Neighbours, Inverse Distance Weighting, Linear Interpolation, and Ordinary Kriging."
   ]
  },
  {
   "cell_type": "code",
   "execution_count": null,
   "metadata": {
    "collapsed": false
   },
   "outputs": [],
   "source": [
    "# Synthetic observations and source coordinates\n",
    "src = np.vstack( (np.array([4, 7, 3, 15]), np.array([8, 18, 17, 3]))).transpose()\n",
    "vals = np.random.uniform(size=len(src))\n",
    "\n",
    "# Target coordinates\n",
    "xtrg = np.linspace(0, 20, 40)\n",
    "ytrg = np.linspace(0, 20, 40)\n",
    "trg = np.meshgrid(xtrg, ytrg)\n",
    "trg = np.vstack( (trg[0].ravel(), trg[1].ravel()) ).T\n",
    "\n",
    "# Interpolation objects\n",
    "idw = ipol.Idw(src, trg)\n",
    "nn = ipol.Nearest(src, trg)\n",
    "linear = ipol.Linear(src, trg)\n",
    "ok = ipol.OrdinaryKriging(src, trg)\n",
    "\n",
    "# Subplot layout\n",
    "def gridplot(interpolated, title=\"\"):\n",
    "    pm = ax.pcolormesh(xtrg, ytrg, interpolated.reshape( (len(xtrg), len(ytrg)) ) )\n",
    "    pl.axis(\"tight\")\n",
    "    ax.scatter(src[:, 0], src[:, 1], facecolor=\"None\", s=50, marker='s')\n",
    "    pl.title(title)\n",
    "    pl.xlabel(\"x coordinate\")\n",
    "    pl.ylabel(\"y coordinate\")\n",
    "\n",
    "# Plot results\n",
    "fig = pl.figure(figsize=(8,8))\n",
    "ax = fig.add_subplot(221, aspect=\"equal\")\n",
    "gridplot(idw(vals), \"IDW\")\n",
    "ax = fig.add_subplot(222, aspect=\"equal\")\n",
    "gridplot(nn(vals), \"Nearest Neighbours\")\n",
    "ax = fig.add_subplot(223, aspect=\"equal\")\n",
    "gridplot(np.ma.masked_invalid(linear(vals)), \"Linear interpolation\")\n",
    "ax = fig.add_subplot(224, aspect=\"equal\")\n",
    "gridplot(ok(vals), \"Ordinary Kriging\")\n",
    "pl.tight_layout()"
   ]
  },
  {
   "cell_type": "markdown",
   "metadata": {},
   "source": [
    "### Using the convenience function ipol.interpolation in order to deal with missing values\n",
    "\n",
    "**(1)** Exemplified for one dimension in space and two dimensions of the source value array (could e.g. be two time steps)."
   ]
  },
  {
   "cell_type": "code",
   "execution_count": null,
   "metadata": {
    "collapsed": false
   },
   "outputs": [],
   "source": [
    "# Synthetic observations (e.g. two time steps)\n",
    "src = np.arange(10)[:, None]\n",
    "vals = np.hstack((1.+np.sin(src), 5. + 2.*np.sin(src)))\n",
    "# Target coordinates\n",
    "trg = np.linspace(0, 20, 100)[:, None]\n",
    "# Here we introduce missing values in the second dimension of the source value array\n",
    "vals[3:5, 1] = np.nan\n",
    "# interpolation using the convenience function \"interpolate\"\n",
    "idw_result = ipol.interpolate(src, trg, vals, ipol.Idw, nnearest=4)\n",
    "nn_result = ipol.interpolate(src, trg, vals, ipol.Nearest)\n",
    "# Plot results\n",
    "fig = pl.figure(figsize=(10,5))\n",
    "ax = fig.add_subplot(111)\n",
    "pl1 = ax.plot(trg, idw_result, 'b-', label=\"IDW\")\n",
    "pl2 = ax.plot(trg, nn_result, 'k-', label=\"Nearest Neighbour\")\n",
    "pl3 = ax.plot(src, vals, 'ro', label=\"Observations\")"
   ]
  },
  {
   "cell_type": "markdown",
   "metadata": {},
   "source": [
    "**(2)** Exemplified for two dimensions in space and two dimensions of the source value array (e.g. time steps), containing also NaN values (here we only use IDW interpolation)"
   ]
  },
  {
   "cell_type": "code",
   "execution_count": null,
   "metadata": {
    "collapsed": true
   },
   "outputs": [],
   "source": [
    "# Just a helper function for repeated subplots\n",
    "def plotall(ax, trgx, trgy, src, interp, pts, title, vmin, vmax):\n",
    "    ix = np.where(np.isfinite(pts))\n",
    "    ax.pcolormesh(trgx, trgy, interp.reshape( (len(trgx),len(trgy) ) ), vmin=vmin, vmax=vmax )\n",
    "    ax.scatter(src[ix, 0].ravel(), src[ix, 1].ravel(), c=pts.ravel()[ix], s=20, marker='s',\n",
    "               vmin=vmin, vmax=vmax)\n",
    "    ax.set_title(title)\n",
    "    pl.axis(\"tight\")"
   ]
  },
  {
   "cell_type": "code",
   "execution_count": null,
   "metadata": {
    "collapsed": false
   },
   "outputs": [],
   "source": [
    "# Synthetic observations\n",
    "src = np.vstack( (np.array([4, 7, 3, 15]), np.array([8, 18, 17, 3])) ).T\n",
    "vals = np.round(np.random.uniform(size=(len(src), 2)), 1)\n",
    "\n",
    "# Target coordinates\n",
    "trgx = np.linspace(0, 20, 100)\n",
    "trgy = np.linspace(0, 20, 100)\n",
    "trg = np.meshgrid(trgx, trgy)\n",
    "trg = np.vstack((trg[0].ravel(), trg[1].ravel())).transpose()\n",
    "\n",
    "result = ipol.interpolate(src, trg, vals, ipol.Idw, nnearest=4)\n",
    "\n",
    "# Now introduce NaNs in the observations\n",
    "vals_with_nan = vals.copy()\n",
    "vals_with_nan[1, 0] = np.nan\n",
    "vals_with_nan[1:3, 1] = np.nan\n",
    "result_with_nan = ipol.interpolate(src, trg, vals_with_nan, ipol.Idw, nnearest=4)\n",
    "vmin = np.concatenate((vals.ravel(), result.ravel())).min()\n",
    "vmax = np.concatenate((vals.ravel(), result.ravel())).max()\n",
    "\n",
    "fig = pl.figure(figsize=(8,8))\n",
    "ax = fig.add_subplot(221)\n",
    "plotall(ax, trgx, trgy, src, result[:, 0], vals[:, 0], '1st dim: no NaNs', vmin, vmax)\n",
    "ax = fig.add_subplot(222)\n",
    "plotall(ax, trgx, trgy, src, result[:, 1], vals[:, 1], '2nd dim: no NaNs', vmin, vmax)\n",
    "ax = fig.add_subplot(223)\n",
    "plotall(ax, trgx, trgy, src, result_with_nan[:, 0], vals_with_nan[:, 0], '1st dim: one NaN', vmin, vmax)\n",
    "ax = fig.add_subplot(224)\n",
    "plotall(ax, trgx, trgy, src, result_with_nan[:, 1], vals_with_nan[:, 1], '2nd dim: two NaN', vmin, vmax)\n",
    "pl.tight_layout()"
   ]
  },
  {
   "cell_type": "markdown",
   "metadata": {},
   "source": [
    "### How to use interpolation for gridding data in polar coordinates?"
   ]
  },
  {
   "cell_type": "markdown",
   "metadata": {},
   "source": [
    "Read polar coordinates and corresponding rainfall intensity from file"
   ]
  },
  {
   "cell_type": "code",
   "execution_count": null,
   "metadata": {
    "collapsed": true
   },
   "outputs": [],
   "source": [
    "filename = get_wradlib_data_file('misc/bin_coords_tur.gz')\n",
    "src = np.loadtxt(filename)\n",
    "\n",
    "filename = get_wradlib_data_file('misc/polar_R_tur.gz')\n",
    "vals = np.loadtxt(filename)"
   ]
  },
  {
   "cell_type": "markdown",
   "metadata": {},
   "source": [
    "Define target grid coordinates"
   ]
  },
  {
   "cell_type": "code",
   "execution_count": null,
   "metadata": {
    "collapsed": true
   },
   "outputs": [],
   "source": [
    "xtrg = np.linspace(src[:,0].min(), src[:,0].max(), 200)\n",
    "ytrg = np.linspace(src[:,1].min(), src[:,1].max(), 200)\n",
    "trg = np.meshgrid(xtrg, ytrg)\n",
    "trg = np.vstack((trg[0].ravel(), trg[1].ravel())).T"
   ]
  },
  {
   "cell_type": "markdown",
   "metadata": {},
   "source": [
    "IDW interpolation"
   ]
  },
  {
   "cell_type": "code",
   "execution_count": null,
   "metadata": {
    "collapsed": true
   },
   "outputs": [],
   "source": [
    "ip = ipol.Nearest(src, trg)\n",
    "result = ip(vals.ravel())"
   ]
  },
  {
   "cell_type": "markdown",
   "metadata": {},
   "source": [
    "Plot results"
   ]
  },
  {
   "cell_type": "code",
   "execution_count": null,
   "metadata": {
    "collapsed": false
   },
   "outputs": [],
   "source": [
    "fig = pl.figure(figsize=(14,14))\n",
    "ax = fig.add_subplot(121, aspect=\"equal\")\n",
    "plot_ppi(vals, ax=ax)\n",
    "ax = fig.add_subplot(122, aspect=\"equal\")\n",
    "pl.pcolormesh(xtrg, ytrg, result.reshape( (len(xtrg), len(ytrg)) ) )"
   ]
  },
  {
   "cell_type": "code",
   "execution_count": null,
   "metadata": {
    "collapsed": true
   },
   "outputs": [],
   "source": []
  }
 ],
 "metadata": {
  "kernelspec": {
   "display_name": "Python 2",
   "language": "python",
   "name": "python2"
  },
  "language_info": {
   "codemirror_mode": {
    "name": "ipython",
    "version": 2
   },
   "file_extension": ".py",
   "mimetype": "text/x-python",
   "name": "python",
   "nbconvert_exporter": "python",
   "pygments_lexer": "ipython2",
   "version": "2.7.12"
  }
 },
 "nbformat": 4,
 "nbformat_minor": 0
}
