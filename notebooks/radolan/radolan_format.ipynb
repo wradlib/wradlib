{
 "cells": [
  {
   "cell_type": "markdown",
   "metadata": {
    "nbsphinx": "hidden"
   },
   "source": [
    "This notebook is part of the wradlib documentation: http://wradlib.org/wradlib-docs.\n",
    "\n",
    "Copyright (c) 2016, wradlib developers.\n",
    "Distributed under the MIT License. See LICENSE.txt for more info."
   ]
  },
  {
   "cell_type": "markdown",
   "metadata": {},
   "source": [
    "# RADOLAN binary data format"
   ]
  },
  {
   "cell_type": "markdown",
   "metadata": {},
   "source": [
    "The RADOLAN binary data file format is described in the RADOLAN Kompositformat. The radolan composite files consists of an ascii header containing all needed information to decode the following binary data block. $\\omega radlib$ provides [wradlib.io.read_RADOLAN_composite()](generated/wradlib.io.read_RADOLAN_composite.rst) to read the data.\n",
    "\n",
    "The function `wradlib.io.parse_DWD_quant_composite_header()` takes care of correctly decoding the ascii header. All available header information is transferred into the metadata dictionary."
   ]
  },
  {
   "cell_type": "code",
   "execution_count": null,
   "metadata": {
    "collapsed": true
   },
   "outputs": [],
   "source": [
    "import wradlib as wrl\n",
    "import matplotlib.pyplot as pl\n",
    "import warnings\n",
    "warnings.filterwarnings('ignore')\n",
    "try:\n",
    "    get_ipython().magic(\"matplotlib inline\")\n",
    "except:\n",
    "    pl.ion()\n",
    "import numpy as np"
   ]
  },
  {
   "cell_type": "code",
   "execution_count": null,
   "metadata": {
    "collapsed": true
   },
   "outputs": [],
   "source": [
    "# load radolan files\n",
    "rw_filename = wrl.util.get_wradlib_data_file('radolan/misc/raa01-rw_10000-1408102050-dwd---bin.gz')\n",
    "filehandle = wrl.io.get_radolan_filehandle(rw_filename)\n",
    "header = wrl.io.read_radolan_header(filehandle)\n",
    "print(header)"
   ]
  },
  {
   "cell_type": "code",
   "execution_count": null,
   "metadata": {
    "collapsed": true
   },
   "outputs": [],
   "source": [
    "attrs = wrl.io.parse_DWD_quant_composite_header(header)\n",
    "print(attrs)"
   ]
  },
  {
   "cell_type": "markdown",
   "metadata": {},
   "source": [
    "In the following example, the header information of four different composites is extracted."
   ]
  },
  {
   "cell_type": "code",
   "execution_count": null,
   "metadata": {
    "collapsed": true
   },
   "outputs": [],
   "source": [
    "# load radolan file\n",
    "filename = 'radolan/showcase/raa01-rx_10000-1408102050-dwd---bin.gz'\n",
    "rx_filename = wrl.util.get_wradlib_data_file(filename)\n",
    "filename = 'radolan/showcase/raa01-ex_10000-1408102050-dwd---bin.gz'\n",
    "ex_filename = wrl.util.get_wradlib_data_file(filename)\n",
    "filename = 'radolan/showcase/raa01-rw_10000-1408102050-dwd---bin.gz'\n",
    "rw_filename = wrl.util.get_wradlib_data_file(filename)\n",
    "filename = 'radolan/showcase/raa01-sf_10000-1408102050-dwd---bin.gz'\n",
    "sf_filename = wrl.util.get_wradlib_data_file(filename)\n",
    "\n",
    "rxdata, rxattrs = wrl.io.read_RADOLAN_composite(rx_filename)\n",
    "exdata, exattrs = wrl.io.read_RADOLAN_composite(ex_filename)\n",
    "rwdata, rwattrs = wrl.io.read_RADOLAN_composite(rw_filename)\n",
    "sfdata, sfattrs = wrl.io.read_RADOLAN_composite(sf_filename)\n",
    "\n",
    "# print the available attributes\n",
    "print(\"RX Attributes:\")\n",
    "for key, value in rxattrs.items():\n",
    "    print(key + ':', value)\n",
    "print(\"----------------------------------------------------------------\")\n",
    "# print the available attributes\n",
    "print(\"EX Attributes:\")\n",
    "for key, value in exattrs.items():\n",
    "    print(key + ':', value)\n",
    "print(\"----------------------------------------------------------------\")\n",
    "\n",
    "# print the available attributes\n",
    "print(\"RW Attributes:\")\n",
    "for key, value in rwattrs.items():\n",
    "    print(key + ':', value)\n",
    "print(\"----------------------------------------------------------------\")\n",
    "\n",
    "# print the available attributes\n",
    "print(\"SF Attributes:\")\n",
    "for key, value in sfattrs.items():\n",
    "    print(key + ':', value)\n",
    "print(\"----------------------------------------------------------------\")"
   ]
  },
  {
   "cell_type": "code",
   "execution_count": null,
   "metadata": {
    "collapsed": true
   },
   "outputs": [],
   "source": []
  }
 ],
 "metadata": {
  "celltoolbar": "Edit Metadata",
  "kernelspec": {
   "display_name": "Python 2",
   "language": "python",
   "name": "python2"
  },
  "language_info": {
   "codemirror_mode": {
    "name": "ipython",
    "version": 2
   },
   "file_extension": ".py",
   "mimetype": "text/x-python",
   "name": "python",
   "nbconvert_exporter": "python",
   "pygments_lexer": "ipython2",
   "version": "2.7.11"
  }
 },
 "nbformat": 4,
 "nbformat_minor": 0
}
