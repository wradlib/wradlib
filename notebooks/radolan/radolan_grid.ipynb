{
 "cells": [
  {
   "cell_type": "markdown",
   "metadata": {
    "nbsphinx": "hidden"
   },
   "source": [
    "This notebook is part of the wradlib documentation: http://wradlib.org/wradlib-docs.\n",
    "\n",
    "Copyright (c) 2016, wradlib developers.\n",
    "Distributed under the MIT License. See LICENSE.txt for more info."
   ]
  },
  {
   "cell_type": "markdown",
   "metadata": {},
   "source": [
    "# RADOLAN Grid"
   ]
  },
  {
   "cell_type": "markdown",
   "metadata": {},
   "source": [
    "## Polar Stereographic Projection"
   ]
  },
  {
   "cell_type": "markdown",
   "metadata": {},
   "source": [
    "The projected composite raster is equidistant with a grid-spacing of 1.0 km in most cases. There are composites which have 2.0 km grid-spacing (e.g. PC).\n",
    "\n",
    "There are three different grid sizes, the well-known 900 rows by 900 columns (normal), 1500 rows by 1400 columns (extended, european) and 460 rows by 460 columns (small).\n",
    "\n",
    "Common to all is that the plane of projection intersects the earth sphere at $\\phi_0 = 60.0^{\\circ}N$. The cartesian co-ordinate system is aligned parallel to the $\\lambda_0 = 10.0^{\\circ}E$ meridian.\n",
    "\n",
    "The reference point ($\\lambda_m$, $\\phi_m$) is $9.0^{\\circ}E$ and $51.0^{\\circ}N$, which is the center of the two smaller grids. The extended grid has an offset in respect to this reference point of 350km by 150km.\n",
    "\n",
    "The earth as sphere with an radius of 6370.04 km is used for all calculations.\n",
    "\n",
    "With formulas (1), (2) and (3) the geographic reference points ($\\lambda$, $\\phi$) can be converted to projected cartesian coordinates. The calculated (x y) is the distance vector to the origign of the cartesian coordinate system (north pole).\n",
    "\n",
    "\\begin{equation}\n",
    "x = R * M(\\phi) * cos(\\phi) * sin(\\lambda - \\lambda_0)\n",
    "\\tag{1}\n",
    "\\end{equation}\n",
    "\n",
    "\\begin{equation}\n",
    "y = -R * M(\\phi) * cos(\\phi) * cos(\\lambda - \\lambda_0)\n",
    "\\tag{2}\n",
    "\\end{equation}\n",
    "\n",
    "\\begin{equation}\n",
    "M(\\phi) =  \\frac {1 + sin(\\phi_0)} {1 + sin(\\phi)}\n",
    "\\tag{3}\n",
    "\\end{equation}\n",
    "\n",
    "Assumed the point ($10.0^{\\circ}E$, $90.0^{\\circ}N$) is defined as coordinate system origin. Then all ccordinates can be calculated with the known grid-spacing d as:\n",
    "\n",
    "\\begin{equation}\n",
    "x = x_0 + d * (j - j_0)\n",
    "\\tag{4}\n",
    "\\end{equation}\n",
    "\n",
    "\\begin{equation}\n",
    "y = y_0 + d * (i - i_0)\n",
    "\\tag{5}\n",
    "\\end{equation}\n",
    "\n",
    "with i, j as cartesian indices.\n",
    "\n",
    "$\\omega radlib$ provides the convenience function [wradlib.georef.get_radolan_grid()](generated/wradlib.georef.get_radolan_grid.rst) which returns the radolan grid for further processing. It takes `nrows` and `ncols` as parameters and returns the projected cartesian coordinates or the wgs84 coordinates (keyword arg wgs84=True) as numpy ndarray (nrows x ncols x 2)."
   ]
  },
  {
   "cell_type": "code",
   "execution_count": null,
   "metadata": {
    "collapsed": true
   },
   "outputs": [],
   "source": [
    "import wradlib as wrl\n",
    "import matplotlib.pyplot as pl\n",
    "import warnings\n",
    "warnings.filterwarnings('ignore')\n",
    "try:\n",
    "    get_ipython().magic(\"matplotlib inline\")\n",
    "except:\n",
    "    pl.ion()\n",
    "import numpy as np"
   ]
  },
  {
   "cell_type": "code",
   "execution_count": null,
   "metadata": {
    "collapsed": false
   },
   "outputs": [],
   "source": [
    "radolan_grid_xy = wrl.georef.get_radolan_grid(900,900)\n",
    "print(\"{0}, ({1:.4f}, {2:.4f})\".format(radolan_grid_xy.shape, *radolan_grid_xy[0,0,:]))"
   ]
  },
  {
   "cell_type": "code",
   "execution_count": null,
   "metadata": {
    "collapsed": false
   },
   "outputs": [],
   "source": [
    "radolan_grid_ll = wrl.georef.get_radolan_grid(900,900, wgs84=True)\n",
    "print(\"{0}, ({1:.4f}, {2:.4f})\".format(radolan_grid_ll.shape, *radolan_grid_ll[0,0,:]))"
   ]
  },
  {
   "cell_type": "markdown",
   "metadata": {},
   "source": [
    "## Inverse Polar Stereographic Projection"
   ]
  },
  {
   "cell_type": "markdown",
   "metadata": {},
   "source": [
    "The geographic coordinates of specific datapoints can be calculated by using the cartesian coordinates (x,y) and the following formulas:\n",
    "\n",
    "\\begin{equation}\n",
    "\\lambda = \\arctan\\left(\\frac {-x} {y}\\right) + \\lambda_0\n",
    "\\tag{6}\n",
    "\\end{equation}\n",
    "   \n",
    "\\begin{equation}\n",
    "\\phi = \\arcsin\\left(\\frac {R^2 * \\left(1 + \\sin\\phi_0\\right)^2 - \\left(x^2 + y^2\\right)} {R^2 * \\left(1 + \\sin\\phi_0\\right)^2 + \\left(x^2 + y^2\\right)}\\right)\n",
    "\\tag{7}\n",
    "\\end{equation}"
   ]
  },
  {
   "cell_type": "markdown",
   "metadata": {},
   "source": [
    "## Standard Formats"
   ]
  },
  {
   "cell_type": "markdown",
   "metadata": {},
   "source": [
    "### WKT-String"
   ]
  },
  {
   "cell_type": "markdown",
   "metadata": {},
   "source": [
    "The German Weather Service provides a [WKT-string](https://kunden.dwd.de/geoserver/web/?wicket:bookmarkablePage=:org.geoserver.web.demo.SRSDescriptionPage&code=EPSG:1000001). This WKT (well known text) is used to create the osr-object representation of the radolan projection.\n",
    "\n",
    "For the scale_factor the intersection of the projection plane with the earth sphere at $60.0^{\\circ}N$ has to be taken into account:\n",
    "\n",
    "\\begin{equation}\n",
    "scale\\_factor = \\frac {1 + \\sin\\left(60.^{\\circ}\\right)} {1 + \\sin\\left(90.^{\\circ}\\right)} = 0.93301270189\n",
    "\\tag{8}\n",
    "\\end{equation}\n",
    "\n",
    "Also, the `PROJECTION[\"Stereographic_North_Pole\"]` isn't known within GDAL/OSR. It has to be changed to the known `PROJECTION[\"polar_stereographic\"]`.\n",
    "\n",
    "With these adaptions we finally yield the Radolan Projection as WKT-string. This WKT-string is used within $\\omega radlib$ to create the osr-object by using the helper-function [wradlib.georef.create_osr()](generated/wradlib.georef.create_osr.rst)."
   ]
  },
  {
   "cell_type": "code",
   "execution_count": null,
   "metadata": {
    "collapsed": false
   },
   "outputs": [],
   "source": [
    "proj_stereo = wrl.georef.create_osr(\"dwd-radolan\")\n",
    "print(proj_stereo)"
   ]
  },
  {
   "cell_type": "markdown",
   "metadata": {},
   "source": [
    "### PROJ.4"
   ]
  },
  {
   "cell_type": "markdown",
   "metadata": {},
   "source": [
    "Using the above WKT-String the PROJ.4 representation can be derived as:\n",
    "\n",
    "```python\n",
    "    +proj=stere +lat_0=90 +lat_ts=90 +lon_0=10 +k=0.93301270189\n",
    "    +x_0=0 +y_0=0 +a=6370040 +b=6370040 +to_meter=1000 +no_defs\n",
    "```\n",
    "\n",
    "This PROJ.4-string can also be used to create the osr-object by using the helper-function [wradlib.georef.proj4_to_osr()](generated/wradlib.georef.proj4_to_osr.rst):"
   ]
  },
  {
   "cell_type": "code",
   "execution_count": null,
   "metadata": {
    "collapsed": false
   },
   "outputs": [],
   "source": [
    "# create radolan projection osr object\n",
    "dwd_string = ('+proj=stere +lat_0=90 +lat_ts=90 +lon_0=10 +k=0.93301270189' \n",
    "              '+x_0=0 +y_0=0 +a=6370040 +b=6370040 +to_meter=1000 +no_defs')\n",
    "proj_stereo = wrl.georef.proj4_to_osr(dwd_string)\n",
    "print(proj_stereo)"
   ]
  },
  {
   "cell_type": "markdown",
   "metadata": {},
   "source": [
    "## Grid Reprojection"
   ]
  },
  {
   "cell_type": "markdown",
   "metadata": {},
   "source": [
    "Within $\\omega radlib$ the [wradlib.georef.reproject()](generated/wradlib.georef.reproject.rst) function can be used to convert the radolan grid data from xy-space to lonlat-space and back. First, we need to create the necessary Spatial Reference Objects for the RADOLAN-projection and wgs84."
   ]
  },
  {
   "cell_type": "code",
   "execution_count": null,
   "metadata": {
    "collapsed": false
   },
   "outputs": [],
   "source": [
    "from osgeo import osr\n",
    "proj_stereo = wrl.georef.create_osr(\"dwd-radolan\")\n",
    "proj_wgs = osr.SpatialReference()\n",
    "proj_wgs.ImportFromEPSG(4326)\n",
    "print(proj_wgs)"
   ]
  },
  {
   "cell_type": "markdown",
   "metadata": {},
   "source": [
    "Then, we call `reproject` with the osr-objects as `projection_source` and `projection_target` parameters."
   ]
  },
  {
   "cell_type": "code",
   "execution_count": null,
   "metadata": {
    "collapsed": false
   },
   "outputs": [],
   "source": [
    "radolan_grid_ll = wrl.georef.reproject(radolan_grid_xy, projection_source=proj_stereo, projection_target=proj_wgs)\n",
    "print(\"{0}, ({1:.4f}, {2:.4f})\".format(radolan_grid_ll.shape, *radolan_grid_ll[0,0,:]))"
   ]
  },
  {
   "cell_type": "markdown",
   "metadata": {},
   "source": [
    "And the other way round."
   ]
  },
  {
   "cell_type": "code",
   "execution_count": null,
   "metadata": {
    "collapsed": false
   },
   "outputs": [],
   "source": [
    "radolan_grid_xy = wrl.georef.reproject(radolan_grid_ll, projection_source=proj_wgs, projection_target=proj_stereo)\n",
    "print(\"{0}, ({1:.4f}, {2:.4f})\".format(radolan_grid_xy.shape, *radolan_grid_xy[0,0,:]))"
   ]
  },
  {
   "cell_type": "markdown",
   "metadata": {},
   "source": [
    "In the following example the RADOLAN grid is projected to wgs84 and GaussKrüger Zone3."
   ]
  },
  {
   "cell_type": "code",
   "execution_count": null,
   "metadata": {
    "collapsed": false
   },
   "outputs": [],
   "source": [
    "# create Gauss Krueger zone 3 projection osr object\n",
    "proj_gk3 = osr.SpatialReference()\n",
    "proj_gk3.ImportFromEPSG(31467)\n",
    "\n",
    "# transform radolan polar stereographic projection to wgs84 and then to gk3\n",
    "radolan_grid_ll = wrl.georef.reproject(radolan_grid_xy,\n",
    "                                       projection_source=proj_stereo,\n",
    "                                       projection_target=proj_wgs)\n",
    "radolan_grid_gk = wrl.georef.reproject(radolan_grid_ll,\n",
    "                                       projection_source=proj_wgs,\n",
    "                                       projection_target=proj_gk3)\n",
    "\n",
    "lon_wgs0 = radolan_grid_ll[:, :, 0]\n",
    "lat_wgs0 = radolan_grid_ll[:, :, 1]\n",
    "\n",
    "x_gk3 = radolan_grid_gk[:, :, 0]\n",
    "y_gk3 = radolan_grid_gk[:, :, 1]\n",
    "\n",
    "x_rad = radolan_grid_xy[:, :, 0]\n",
    "y_rad = radolan_grid_xy[:, :, 1]\n",
    "\n",
    "print(\"\\n------------------------------\")\n",
    "print(\"source radolan x,y-coordinates\")\n",
    "print(u\"       {0}      {1} \".format('x [km]', 'y [km]'))\n",
    "print(\"ll: {:10.4f} {:10.3f} \".format(x_rad[0, 0], y_rad[0, 0]))\n",
    "print(\"lr: {:10.4f} {:10.3f} \".format(x_rad[0, -1], y_rad[0, -1]))\n",
    "print(\"ur: {:10.4f} {:10.3f} \".format(x_rad[-1, -1], y_rad[-1, -1]))\n",
    "print(\"ul: {:10.4f} {:10.3f} \".format(x_rad[-1, 0], y_rad[-1, 0]))\n",
    "print(\"\\n--------------------------------------\")\n",
    "print(\"transformed radolan lonlat-coordinates\")\n",
    "print(u\"      {0}  {1} \".format('lon [degE]', 'lat [degN]'))\n",
    "print(\"ll: {:10.4f}  {:10.4f} \".format(lon_wgs0[0, 0], lat_wgs0[0, 0]))\n",
    "print(\"lr: {:10.4f}  {:10.4f} \".format(lon_wgs0[0, -1], lat_wgs0[0, -1]))\n",
    "print(\"ur: {:10.4f}  {:10.4f} \".format(lon_wgs0[-1, -1], lat_wgs0[-1, -1]))\n",
    "print(\"ul: {:10.4f}  {:10.4f} \".format(lon_wgs0[-1, 0], lat_wgs0[-1, 0]))\n",
    "print(\"\\n-----------------------------------\")\n",
    "print(\"transformed radolan gk3-coordinates\")\n",
    "print(u\"     {0}   {1} \".format('easting [m]', 'northing [m]'))\n",
    "print(\"ll: {:10.0f}   {:10.0f} \".format(x_gk3[0, 0], y_gk3[0, 0]))\n",
    "print(\"lr: {:10.0f}   {:10.0f} \".format(x_gk3[0, -1], y_gk3[0, -1]))\n",
    "print(\"ur: {:10.0f}   {:10.0f} \".format(x_gk3[-1, -1], y_gk3[-1, -1]))\n",
    "print(\"ul: {:10.0f}   {:10.0f} \".format(x_gk3[-1, 0], y_gk3[-1, 0]))"
   ]
  }
 ],
 "metadata": {
  "celltoolbar": "Edit Metadata",
  "kernelspec": {
   "display_name": "Python 2",
   "language": "python",
   "name": "python2"
  },
  "language_info": {
   "codemirror_mode": {
    "name": "ipython",
    "version": 2
   },
   "file_extension": ".py",
   "mimetype": "text/x-python",
   "name": "python",
   "nbconvert_exporter": "python",
   "pygments_lexer": "ipython2",
   "version": "2.7.11"
  }
 },
 "nbformat": 4,
 "nbformat_minor": 1
}
