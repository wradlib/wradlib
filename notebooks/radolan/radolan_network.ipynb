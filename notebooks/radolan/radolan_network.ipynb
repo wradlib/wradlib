{
 "cells": [
  {
   "cell_type": "markdown",
   "metadata": {
    "nbsphinx": "hidden"
   },
   "source": [
    "This notebook is part of the wradlib documentation: http://wradlib.org/wradlib-docs.\n",
    "\n",
    "Copyright (c) 2016, wradlib developers.\n",
    "Distributed under the MIT License. See LICENSE.txt for more info."
   ]
  },
  {
   "cell_type": "markdown",
   "metadata": {},
   "source": [
    "# RADOLAN Radar Network"
   ]
  },
  {
   "cell_type": "markdown",
   "metadata": {},
   "source": [
    "In this chapter the RW-product is shown in WGS84 and the RADOLAN [Polar Stereographic Projection](radolan_grid.ipynb#Polar-Stereographic-Projection). All for the compositing process used radars are extracted from the metadata and plotted with their respective maximum range rings and location information."
   ]
  },
  {
   "cell_type": "code",
   "execution_count": null,
   "metadata": {
    "collapsed": true
   },
   "outputs": [],
   "source": [
    "import wradlib as wrl\n",
    "import matplotlib.pyplot as pl\n",
    "import matplotlib as mpl\n",
    "import warnings\n",
    "warnings.filterwarnings('ignore')\n",
    "try:\n",
    "    get_ipython().magic(\"matplotlib inline\")\n",
    "except:\n",
    "    pl.ion()\n",
    "import numpy as np\n",
    "from osgeo import osr"
   ]
  },
  {
   "cell_type": "code",
   "execution_count": null,
   "metadata": {
    "collapsed": true
   },
   "outputs": [],
   "source": [
    "def get_radar_locations():\n",
    "    radars = {}\n",
    "    radar = {'name': 'ASR Dresden', 'wmo': 10487, 'lon': 13.76347,\n",
    "             'lat': 51.12404, 'alt': 261}\n",
    "    radars['ASD'] = radar\n",
    "\n",
    "    radar = {'name': 'Boostedt', 'wmo': 10132, 'lon': 10.04687,\n",
    "             'lat': 54.00438, 'alt': 124.56}\n",
    "    radars['BOO'] = radar\n",
    "\n",
    "    radar = {'name': 'Dresden', 'wmo': 10488, 'lon': 13.76865, 'lat': 51.12465,\n",
    "             'alt': 263.36}\n",
    "    radars['DRS'] = radar\n",
    "\n",
    "    radar = {'name': 'Eisberg', 'wmo': 10780, 'lon': 12.40278, 'lat': 49.54066,\n",
    "             'alt': 798.79}\n",
    "    radars['EIS'] = radar\n",
    "\n",
    "    radar = {'name': 'Emden', 'wmo': 10204, 'lon': 7.02377, 'lat': 53.33872,\n",
    "             'alt': 58}\n",
    "    radars['EMD'] = radar\n",
    "\n",
    "    radar = {'name': 'Essen', 'wmo': 10410, 'lon': 6.96712, 'lat': 51.40563,\n",
    "             'alt': 185.10}\n",
    "    radars['ESS'] = radar\n",
    "\n",
    "    radar = {'name': 'Feldberg', 'wmo': 10908, 'lon': 8.00361, 'lat': 47.87361,\n",
    "             'alt': 1516.10}\n",
    "    radars['FBG'] = radar\n",
    "\n",
    "    radar = {'name': 'Flechtdorf', 'wmo': 10440, 'lon': 8.802, 'lat': 51.3112,\n",
    "             'alt': 627.88}\n",
    "    radars['FLD'] = radar\n",
    "\n",
    "    radar = {'name': 'Hannover', 'wmo': 10339, 'lon': 9.69452, 'lat': 52.46008,\n",
    "             'alt': 97.66}\n",
    "    radars['HNR'] = radar\n",
    "\n",
    "    radar = {'name': 'Neuhaus', 'wmo': 10557, 'lon': 11.13504, 'lat': 50.50012,\n",
    "             'alt': 878.04}\n",
    "    radars['NEU'] = radar\n",
    "\n",
    "    radar = {'name': 'Neuheilenbach', 'wmo': 10605, 'lon': 6.54853,\n",
    "             'lat': 50.10965, 'alt': 585.84}\n",
    "    radars['NHB'] = radar\n",
    "\n",
    "    radar = {'name': 'Offenthal', 'wmo': 10629, 'lon': 8.71293, 'lat': 49.9847,\n",
    "             'alt': 245.80}\n",
    "    radars['OFT'] = radar\n",
    "\n",
    "    radar = {'name': 'Proetzel', 'wmo': 10392, 'lon': 13.85821,\n",
    "             'lat': 52.64867, 'alt': 193.92}\n",
    "    radars['PRO'] = radar\n",
    "\n",
    "    radar = {'name': 'Memmingen', 'wmo': 10950, 'lon': 10.21924,\n",
    "             'lat': 48.04214, 'alt': 724.40}\n",
    "    radars['MEM'] = radar\n",
    "\n",
    "    radar = {'name': 'Rostock', 'wmo': 10169, 'lon': 12.05808, 'lat': 54.17566,\n",
    "             'alt': 37}\n",
    "    radars['ROS'] = radar\n",
    "\n",
    "    radar = {'name': 'Isen', 'wmo': 10873, 'lon': 12.10177, 'lat': 48.1747,\n",
    "             'alt': 677.77}\n",
    "    radars['ISN'] = radar\n",
    "\n",
    "    radar = {'name': 'Tuerkheim', 'wmo': 10832, 'lon': 9.78278,\n",
    "             'lat': 48.58528, 'alt': 767.62}\n",
    "    radars['TUR'] = radar\n",
    "\n",
    "    radar = {'name': 'Ummendorf', 'wmo': 10356, 'lon': 11.17609,\n",
    "             'lat': 52.16009, 'alt': 183}\n",
    "    radars['UMM'] = radar\n",
    "\n",
    "    return radars"
   ]
  },
  {
   "cell_type": "code",
   "execution_count": null,
   "metadata": {
    "collapsed": true
   },
   "outputs": [],
   "source": [
    "# load radolan file\n",
    "rw_filename = wrl.util.get_wradlib_data_file('radolan/showcase/raa01-rw_10000-1408102050-dwd---bin.gz')\n",
    "rwdata, rwattrs = wrl.io.read_RADOLAN_composite(rw_filename)"
   ]
  },
  {
   "cell_type": "code",
   "execution_count": null,
   "metadata": {
    "collapsed": false
   },
   "outputs": [],
   "source": [
    "# print the available attributes\n",
    "print(\"RW Attributes:\", rwattrs)"
   ]
  },
  {
   "cell_type": "code",
   "execution_count": null,
   "metadata": {
    "collapsed": false
   },
   "outputs": [],
   "source": [
    "# mask data\n",
    "sec = rwattrs['secondary']\n",
    "rwdata.flat[sec] = -9999\n",
    "rwdata = np.ma.masked_equal(rwdata, -9999)\n",
    "\n",
    "# create radolan projection object\n",
    "proj_stereo = wrl.georef.create_osr(\"dwd-radolan\")\n",
    "\n",
    "# create wgs84 projection object\n",
    "proj_wgs = osr.SpatialReference()\n",
    "proj_wgs.ImportFromEPSG(4326)\n",
    "\n",
    "# get radolan grid\n",
    "radolan_grid_xy = wrl.georef.get_radolan_grid(900, 900)\n",
    "x1 = radolan_grid_xy[:, :, 0]\n",
    "y1 = radolan_grid_xy[:, :, 1]\n",
    "\n",
    "# convert to lonlat\n",
    "radolan_grid_ll = wrl.georef.reproject(radolan_grid_xy,\n",
    "                                       projection_source=proj_stereo,\n",
    "                                       projection_target=proj_wgs)\n",
    "lon1 = radolan_grid_ll[:, :, 0]\n",
    "lat1 = radolan_grid_ll[:, :, 1]"
   ]
  },
  {
   "cell_type": "code",
   "execution_count": null,
   "metadata": {
    "collapsed": false
   },
   "outputs": [],
   "source": [
    "# range array 150 km\n",
    "print(\"Max Range: \", rwattrs['maxrange'])\n",
    "r = np.arange(1, 151) * 1000\n",
    "# azimuth array 1 degree spacing\n",
    "az = np.linspace(0, 360, 361)[0:-1]"
   ]
  },
  {
   "cell_type": "code",
   "execution_count": null,
   "metadata": {
    "collapsed": false
   },
   "outputs": [],
   "source": [
    "# get radar dict\n",
    "radars = get_radar_locations()"
   ]
  },
  {
   "cell_type": "code",
   "execution_count": null,
   "metadata": {
    "collapsed": true
   },
   "outputs": [],
   "source": [
    "def plot_radar(radar, ax, reproject=False):\n",
    "    \n",
    "    x_loc, y_loc = (radar['lon'], radar['lat'])\n",
    "    \n",
    "    # build polygons for maxrange rangering\n",
    "    polygons = wrl.georef.polar2polyvert(r, az,\n",
    "                                         (x_loc, y_loc))\n",
    "    polygons.shape = (len(az), len(r), 5, 2)\n",
    "    polygons = polygons[:, -1, :, :]\n",
    "    \n",
    "    \n",
    "    \n",
    "    if reproject:\n",
    "        # reproject to radolan polar stereographic projection\n",
    "        polygons = wrl.georef.reproject(polygons,\n",
    "                                        projection_source=proj_wgs,\n",
    "                                        projection_target=proj_stereo)\n",
    "        \n",
    "        # reproject lonlat radar location coordinates to\n",
    "        # polar stereographic projection\n",
    "        x_loc, y_loc = wrl.georef.reproject(x_loc, y_loc,\n",
    "                                            projection_source=proj_wgs,\n",
    "                                            projection_target=proj_stereo)\n",
    "        \n",
    "\n",
    "    # create PolyCollections and add to respective axes\n",
    "    polycoll = mpl.collections.PolyCollection(polygons, closed=True,\n",
    "                                              edgecolors='r',\n",
    "                                              facecolors='r')\n",
    "    ax.add_collection(polycoll, autolim=True)\n",
    "    \n",
    "    # plot radar location and information text\n",
    "    ax.plot(x_loc, y_loc, 'r+')\n",
    "    ax.text(x_loc, y_loc, radar['name'], color='r')"
   ]
  },
  {
   "cell_type": "code",
   "execution_count": null,
   "metadata": {
    "collapsed": false
   },
   "outputs": [],
   "source": [
    "# plot two projections side by side\n",
    "fig1 = pl.figure(figsize=(10,8))\n",
    "ax1 = fig1.add_subplot(111, aspect='equal')\n",
    "pm = ax1.pcolormesh(lon1, lat1, rwdata, cmap='spectral')\n",
    "cb = fig1.colorbar(pm, shrink=0.75)\n",
    "cb.set_label(\"mm/h\")\n",
    "pl.xlabel(\"Longitude \")\n",
    "pl.ylabel(\"Latitude\")\n",
    "pl.title(\n",
    "    'RADOLAN RW Product \\n' + rwattrs['datetime'].isoformat() + '\\n WGS84')\n",
    "pl.xlim((lon1[0, 0], lon1[-1, -1]))\n",
    "pl.ylim((lat1[0, 0], lat1[-1, -1]))\n",
    "pl.grid(color='r')\n",
    "for radar_id in rwattrs['radarlocations']:\n",
    "    # get radar coords etc from dict\n",
    "    # repair Ummendorf ID\n",
    "    if radar_id == 'umd':\n",
    "        radar_id = 'umm'\n",
    "    radar = radars[radar_id.upper()]\n",
    "    plot_radar(radar, ax1)"
   ]
  },
  {
   "cell_type": "code",
   "execution_count": null,
   "metadata": {
    "collapsed": false
   },
   "outputs": [],
   "source": [
    "fig2 = pl.figure(figsize=(10,8))\n",
    "ax2 = fig2.add_subplot(111, aspect='equal')\n",
    "pm = ax2.pcolormesh(x1, y1, rwdata, cmap='spectral')\n",
    "cb = fig2.colorbar(pm, shrink=0.75)\n",
    "cb.set_label(\"mm/h\")\n",
    "pl.xlabel(\"x [km]\")\n",
    "pl.ylabel(\"y [km]\")\n",
    "pl.title('RADOLAN RW Product \\n' + rwattrs[\n",
    "    'datetime'].isoformat() + '\\n Polar Stereographic Projection')\n",
    "pl.xlim((x1[0, 0], x1[-1, -1]))\n",
    "pl.ylim((y1[0, 0], y1[-1, -1]))\n",
    "pl.grid(color='r')\n",
    "for radar_id in rwattrs['radarlocations']:\n",
    "    # get radar coords etc from dict\n",
    "    # repair Ummendorf ID\n",
    "    if radar_id == 'umd':\n",
    "        radar_id = 'umm'\n",
    "    radar = radars[radar_id.upper()]\n",
    "    plot_radar(radar, ax2, reproject=True)"
   ]
  }
 ],
 "metadata": {
  "celltoolbar": "Edit Metadata",
  "kernelspec": {
   "display_name": "Python 2",
   "language": "python",
   "name": "python2"
  },
  "language_info": {
   "codemirror_mode": {
    "name": "ipython",
    "version": 2
   },
   "file_extension": ".py",
   "mimetype": "text/x-python",
   "name": "python",
   "nbconvert_exporter": "python",
   "pygments_lexer": "ipython2",
   "version": "2.7.11"
  }
 },
 "nbformat": 4,
 "nbformat_minor": 0
}
