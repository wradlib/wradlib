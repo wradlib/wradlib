{
 "cells": [
  {
   "cell_type": "markdown",
   "metadata": {},
   "source": [
    "This notebook is part of the wradlib documentation: http://wradlib.org/wradlib-docs.\n",
    "\n",
    "Copyright (c) 2016, wradlib developers.\n",
    "Distributed under the MIT License. See LICENSE.txt for more info."
   ]
  },
  {
   "cell_type": "markdown",
   "metadata": {},
   "source": [
    "# Recipes"
   ]
  },
  {
   "cell_type": "markdown",
   "metadata": {},
   "source": [
    "This recipe section provides a collection of code snippets for exemplary $\\omega radlib$ applications. Compared to the [Tutorials](tutorials.html) section, the level of documentation is a bit lower. For each recipe, we provide a short summary and a link to the example code.\n",
    "\n",
    "Please feel to send us your recipes so we can include them on this page. Please send an e-mail to wradlib-dev@googlegroups.com containing:\n",
    "\n",
    "- *optional*: name and affiliation\n",
    "\n",
    "- a suggested title of the recipe\n",
    "\n",
    "- a short decription of the recipe (max. 100 words)\n",
    "\n",
    "- the recipe code (please add comments within the code!)\n",
    "\n",
    "- *optional*: the data needed to run the code (or a hyperlink to the data)\n",
    "\n",
    "- *optional*: some test output of the recipe (e.g. an image file)\n"
   ]
  },
  {
   "cell_type": "markdown",
   "metadata": {
    "nbsphinx-toctree": {
     "maxdepth": 2
    }
   },
   "source": [
    "## Recipes List\n",
    "- [Recipe1: Clutter and attenuation correction plus composition for two DWD radars](workflow/recipe1.ipynb)\n",
    "- [Recipe2: Reading and visualizing an ODIM_H5 polar volume](workflow/recipe2.ipynb)"
   ]
  }
 ],
 "metadata": {
  "celltoolbar": "Edit Metadata",
  "kernelspec": {
   "display_name": "Python 2",
   "language": "python",
   "name": "python2"
  },
  "language_info": {
   "codemirror_mode": {
    "name": "ipython",
    "version": 2
   },
   "file_extension": ".py",
   "mimetype": "text/x-python",
   "name": "python",
   "nbconvert_exporter": "python",
   "pygments_lexer": "ipython2",
   "version": "2.7.11"
  }
 },
 "nbformat": 4,
 "nbformat_minor": 0
}
