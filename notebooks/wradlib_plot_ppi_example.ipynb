{
 "cells": [
  {
   "cell_type": "markdown",
   "metadata": {
    "collapsed": true
   },
   "source": [
    "This notebook is part of the wradlib documentation: http://wradlib.org/wradlib-docs.\n",
    "\n",
    "Copyright (c) 2016, wradlib developers.\n",
    "Distributed under the MIT License. See LICENSE.txt for more info."
   ]
  },
  {
   "cell_type": "markdown",
   "metadata": {},
   "source": [
    "# A simple function to plot polar data in cartesian coordinate systems"
   ]
  },
  {
   "cell_type": "code",
   "execution_count": null,
   "metadata": {
    "collapsed": true
   },
   "outputs": [],
   "source": [
    "import numpy as np\n",
    "import matplotlib.pyplot as pl\n",
    "import wradlib\n",
    "import warnings\n",
    "warnings.filterwarnings('ignore')\n",
    "try:\n",
    "    get_ipython().magic(\"matplotlib inline\")\n",
    "except:\n",
    "    pl.ion()"
   ]
  },
  {
   "cell_type": "markdown",
   "metadata": {},
   "source": [
    "### Read a polar data set from the German Weather Service"
   ]
  },
  {
   "cell_type": "code",
   "execution_count": null,
   "metadata": {
    "collapsed": true
   },
   "outputs": [],
   "source": [
    "filename = wradlib.util.get_wradlib_data_file('misc/polar_dBZ_tur.gz')\n",
    "img = np.loadtxt(filename)"
   ]
  },
  {
   "cell_type": "markdown",
   "metadata": {},
   "source": [
    "### The simplest way to plot this dataset"
   ]
  },
  {
   "cell_type": "code",
   "execution_count": null,
   "metadata": {
    "collapsed": false
   },
   "outputs": [],
   "source": [
    "wradlib.vis.plot_ppi(img)\n",
    "txt = pl.title('Simple PPI')"
   ]
  },
  {
   "cell_type": "markdown",
   "metadata": {},
   "source": [
    "### Plotting just one sector\n",
    "\n",
    "For this purpose, we need to give the ranges and azimuths explicitly.\n",
    "\n",
    "(and one more than we pass on in the data, because we also may not use\n",
    "the autoext-feature, and otherwise the last row and column of our data\n",
    "would not be plotted)"
   ]
  },
  {
   "cell_type": "code",
   "execution_count": null,
   "metadata": {
    "collapsed": false
   },
   "outputs": [],
   "source": [
    "r = np.arange(40, 81)\n",
    "az = np.arange(200, 251)\n",
    "ax, pm = wradlib.vis.plot_ppi(img[200:250, 40:80], r, az, autoext=False)\n",
    "txt = pl.title('Sector PPI')"
   ]
  },
  {
   "cell_type": "markdown",
   "metadata": {},
   "source": [
    "### Adding a crosshair to the PPI "
   ]
  },
  {
   "cell_type": "code",
   "execution_count": null,
   "metadata": {
    "collapsed": false
   },
   "outputs": [],
   "source": [
    "# We introduce a site offset...\n",
    "site = (10, 20)\n",
    "wradlib.vis.plot_ppi(img, site=site)\n",
    "# ... plot a crosshair over our data...\n",
    "# ... and demonstrate how to maipulate the default  line properties of the crosshair.\n",
    "wradlib.vis.plot_ppi_crosshair(site=(10, 20),\n",
    "                               ranges=[50, 100, 128], \n",
    "                               angles=[0, 90, 180, 270], \n",
    "                               line=dict(color='white'), \n",
    "                               circle={'edgecolor': 'white'})\n",
    "pl.title('Offset and Custom Crosshair')\n",
    "pl.axis(\"tight\")\n",
    "pl.axes().set_aspect('equal')"
   ]
  },
  {
   "cell_type": "markdown",
   "metadata": {},
   "source": [
    "### Placing the polar data in a projected Cartesian reference system"
   ]
  },
  {
   "cell_type": "code",
   "execution_count": null,
   "metadata": {
    "collapsed": false
   },
   "outputs": [],
   "source": [
    "# using the proj keyword we tell the function to:\n",
    "# - interpret the site coordinates as longitude/latitude\n",
    "# - reproject the coordinates to the given dwd-radolan composite\n",
    "# coordinate system\n",
    "site=(10., 45.)\n",
    "proj_rad = wradlib.georef.create_osr(\"dwd-radolan\")\n",
    "ax, pm = wradlib.vis.plot_ppi(img, site=site, proj=proj_rad)\n",
    "# now the crosshair must also observe the projection\n",
    "# in addition the ranges must now be given in meters\n",
    "# observe the different methods to define the dictionaries.\n",
    "# they are completely equivalent. Your choice, which you like better\n",
    "wradlib.vis.plot_ppi_crosshair(site=site,\n",
    "                               ranges=[40000, 80000, 128000],\n",
    "                               line=dict(color='white'),\n",
    "                               circle={'edgecolor':'white'},\n",
    "                               proj=proj_rad\n",
    "                               )\n",
    "pl.title('Georeferenced/Projected PPI')\n",
    "pl.axis(\"tight\")\n",
    "pl.axes().set_aspect('equal')"
   ]
  },
  {
   "cell_type": "markdown",
   "metadata": {},
   "source": [
    "### Some side effects of georeferencing\n",
    "\n",
    "Transplanting the radar virtually moves it away from the central meridian of the projection (which is 10 degrees east). Due north now does not point straight upwards on the map.\n",
    "\n",
    "The crosshair shows this: for the case that the lines should actually become curved, they are implemented as a piecewise linear curve with 10 vertices. The same is true for the range circles, but with more vertices, of course."
   ]
  },
  {
   "cell_type": "code",
   "execution_count": null,
   "metadata": {
    "collapsed": false
   },
   "outputs": [],
   "source": [
    "site=(45., 7.)\n",
    "ax, pm = wradlib.vis.plot_ppi(img, site=site, proj=proj_rad)\n",
    "ax = wradlib.vis.plot_ppi_crosshair(site=site,\n",
    "                               ranges=[64000, 128000],\n",
    "                               line=dict(color='red'),\n",
    "                               circle={'edgecolor': 'red'},\n",
    "                               proj=proj_rad\n",
    "                               )\n",
    "txt = pl.title('Projection Side Effects')"
   ]
  },
  {
   "cell_type": "markdown",
   "metadata": {},
   "source": [
    "### More decorations and annotations\n",
    "\n",
    "You might wonder, how to annotate these plots. The functions don't provide anything for this, as it can be much more flexibly done outside, using standard matplotlib tools returning to the simple call."
   ]
  },
  {
   "cell_type": "code",
   "execution_count": null,
   "metadata": {
    "collapsed": false
   },
   "outputs": [],
   "source": [
    "ax, pm = wradlib.vis.plot_ppi(img)\n",
    "ylabel = ax.set_xlabel('easting [km]')\n",
    "ylabel = ax.set_ylabel('northing [km]')\n",
    "title = ax.set_title('PPI manipulations/colorbar')\n",
    "# you can now also zoom - either programmatically or interactively\n",
    "xlim = ax.set_xlim(-80, -20)\n",
    "ylim = ax.set_ylim(-80, 0)\n",
    "# as the function returns the axes- and 'mappable'-objects colorbar needs, adding a colorbar is easy\n",
    "cb = pl.colorbar(pm, ax=ax)"
   ]
  },
  {
   "cell_type": "code",
   "execution_count": null,
   "metadata": {
    "collapsed": true
   },
   "outputs": [],
   "source": [
    ""
   ]
  }
 ],
 "metadata": {
  "kernelspec": {
   "display_name": "Python 2",
   "language": "python",
   "name": "python2"
  },
  "language_info": {
   "codemirror_mode": {
    "name": "ipython",
    "version": 2.0
   },
   "file_extension": ".py",
   "mimetype": "text/x-python",
   "name": "python",
   "nbconvert_exporter": "python",
   "pygments_lexer": "ipython2",
   "version": "2.7.11"
  }
 },
 "nbformat": 4,
 "nbformat_minor": 0
}